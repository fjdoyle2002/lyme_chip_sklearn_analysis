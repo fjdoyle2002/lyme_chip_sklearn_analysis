{
 "cells": [
  {
   "cell_type": "code",
   "execution_count": 1,
   "id": "a221e008",
   "metadata": {},
   "outputs": [],
   "source": [
    "import numpy as np\n",
    "import matplotlib.pyplot as plt\n",
    "import pandas as pd\n",
    "import numpy as np\n",
    "from sklearn import preprocessing\n",
    "from sklearn.tree import DecisionTreeClassifier\n",
    "import sklearn.tree as tree\n",
    "%matplotlib inline"
   ]
  },
  {
   "cell_type": "code",
   "execution_count": 2,
   "id": "7f6496fd",
   "metadata": {},
   "outputs": [
    {
     "data": {
      "text/html": [
       "<div>\n",
       "<style scoped>\n",
       "    .dataframe tbody tr th:only-of-type {\n",
       "        vertical-align: middle;\n",
       "    }\n",
       "\n",
       "    .dataframe tbody tr th {\n",
       "        vertical-align: top;\n",
       "    }\n",
       "\n",
       "    .dataframe thead th {\n",
       "        text-align: right;\n",
       "    }\n",
       "</style>\n",
       "<table border=\"1\" class=\"dataframe\">\n",
       "  <thead>\n",
       "    <tr style=\"text-align: right;\">\n",
       "      <th></th>\n",
       "      <th>ID</th>\n",
       "      <th>P100</th>\n",
       "      <th>P41</th>\n",
       "      <th>OspC</th>\n",
       "      <th>DbpA</th>\n",
       "      <th>BmpA</th>\n",
       "      <th>DbpB</th>\n",
       "      <th>P45</th>\n",
       "      <th>P58</th>\n",
       "      <th>P66</th>\n",
       "      <th>VlsE</th>\n",
       "      <th>ErpL</th>\n",
       "      <th>OspD</th>\n",
       "      <th>Diag</th>\n",
       "    </tr>\n",
       "  </thead>\n",
       "  <tbody>\n",
       "    <tr>\n",
       "      <th>0</th>\n",
       "      <td>R49#02</td>\n",
       "      <td>1.983017</td>\n",
       "      <td>2.176121</td>\n",
       "      <td>5.882121</td>\n",
       "      <td>1.738615</td>\n",
       "      <td>1.790831</td>\n",
       "      <td>3.950600</td>\n",
       "      <td>1.065420</td>\n",
       "      <td>1.938904</td>\n",
       "      <td>2.021073</td>\n",
       "      <td>12.455842</td>\n",
       "      <td>1.077889</td>\n",
       "      <td>1.784387</td>\n",
       "      <td>Pos - Late</td>\n",
       "    </tr>\n",
       "    <tr>\n",
       "      <th>1</th>\n",
       "      <td>R49#03</td>\n",
       "      <td>0.999950</td>\n",
       "      <td>2.920710</td>\n",
       "      <td>0.824318</td>\n",
       "      <td>8.279458</td>\n",
       "      <td>5.255024</td>\n",
       "      <td>3.925302</td>\n",
       "      <td>2.137922</td>\n",
       "      <td>9.256009</td>\n",
       "      <td>2.859532</td>\n",
       "      <td>9.868273</td>\n",
       "      <td>1.632559</td>\n",
       "      <td>1.639504</td>\n",
       "      <td>Pos - Late</td>\n",
       "    </tr>\n",
       "    <tr>\n",
       "      <th>2</th>\n",
       "      <td>R49#04</td>\n",
       "      <td>1.303573</td>\n",
       "      <td>2.653693</td>\n",
       "      <td>1.484388</td>\n",
       "      <td>11.072503</td>\n",
       "      <td>2.456271</td>\n",
       "      <td>9.749722</td>\n",
       "      <td>1.851222</td>\n",
       "      <td>3.669641</td>\n",
       "      <td>3.945022</td>\n",
       "      <td>11.615196</td>\n",
       "      <td>2.025580</td>\n",
       "      <td>1.568635</td>\n",
       "      <td>Pos - Late</td>\n",
       "    </tr>\n",
       "    <tr>\n",
       "      <th>3</th>\n",
       "      <td>R49#11</td>\n",
       "      <td>0.951188</td>\n",
       "      <td>1.917436</td>\n",
       "      <td>1.394031</td>\n",
       "      <td>1.197008</td>\n",
       "      <td>1.415143</td>\n",
       "      <td>2.359241</td>\n",
       "      <td>1.012177</td>\n",
       "      <td>1.321336</td>\n",
       "      <td>1.372410</td>\n",
       "      <td>4.370095</td>\n",
       "      <td>0.999341</td>\n",
       "      <td>1.308891</td>\n",
       "      <td>Pos - Early Conv</td>\n",
       "    </tr>\n",
       "    <tr>\n",
       "      <th>4</th>\n",
       "      <td>R49#12</td>\n",
       "      <td>1.117383</td>\n",
       "      <td>2.436597</td>\n",
       "      <td>2.284072</td>\n",
       "      <td>1.397075</td>\n",
       "      <td>1.373926</td>\n",
       "      <td>1.932654</td>\n",
       "      <td>1.233269</td>\n",
       "      <td>1.517965</td>\n",
       "      <td>1.648289</td>\n",
       "      <td>10.357989</td>\n",
       "      <td>1.230867</td>\n",
       "      <td>1.622813</td>\n",
       "      <td>Pos - Early Conv</td>\n",
       "    </tr>\n",
       "  </tbody>\n",
       "</table>\n",
       "</div>"
      ],
      "text/plain": [
       "       ID      P100       P41      OspC       DbpA      BmpA      DbpB  \\\n",
       "0  R49#02  1.983017  2.176121  5.882121   1.738615  1.790831  3.950600   \n",
       "1  R49#03  0.999950  2.920710  0.824318   8.279458  5.255024  3.925302   \n",
       "2  R49#04  1.303573  2.653693  1.484388  11.072503  2.456271  9.749722   \n",
       "3  R49#11  0.951188  1.917436  1.394031   1.197008  1.415143  2.359241   \n",
       "4  R49#12  1.117383  2.436597  2.284072   1.397075  1.373926  1.932654   \n",
       "\n",
       "        P45       P58       P66       VlsE      ErpL      OspD  \\\n",
       "0  1.065420  1.938904  2.021073  12.455842  1.077889  1.784387   \n",
       "1  2.137922  9.256009  2.859532   9.868273  1.632559  1.639504   \n",
       "2  1.851222  3.669641  3.945022  11.615196  2.025580  1.568635   \n",
       "3  1.012177  1.321336  1.372410   4.370095  0.999341  1.308891   \n",
       "4  1.233269  1.517965  1.648289  10.357989  1.230867  1.622813   \n",
       "\n",
       "               Diag  \n",
       "0        Pos - Late  \n",
       "1        Pos - Late  \n",
       "2        Pos - Late  \n",
       "3  Pos - Early Conv  \n",
       "4  Pos - Early Conv  "
      ]
     },
     "execution_count": 2,
     "metadata": {},
     "output_type": "execute_result"
    }
   ],
   "source": [
    "#df = pd.read_csv('C:\\\\Users\\\\fd299212\\\\Desktop\\\\lab_Stuff\\\\collaborations\\\\cady\\\\machineLearning\\\\lyme_data_gcfp.txt',sep='\\t')\n",
    "df = pd.read_csv('C:\\\\Users\\\\fd299212\\\\Desktop\\\\lab_Stuff\\\\collaborations\\\\cady\\\\machineLearning\\\\lyme_data_20220520.csv')\n",
    "df.head()"
   ]
  },
  {
   "cell_type": "code",
   "execution_count": 3,
   "id": "2bea6df0",
   "metadata": {},
   "outputs": [
    {
     "data": {
      "text/plain": [
       "Neg                  30\n",
       "Pos - Early Conv     12\n",
       "Pos - Early Acute    12\n",
       "Pos - Late           10\n",
       "Name: Diag, dtype: int64"
      ]
     },
     "execution_count": 3,
     "metadata": {},
     "output_type": "execute_result"
    }
   ],
   "source": [
    "df['Diag'].value_counts()"
   ]
  },
  {
   "cell_type": "code",
   "execution_count": 4,
   "id": "742ba7dc",
   "metadata": {},
   "outputs": [
    {
     "data": {
      "text/plain": [
       "Index(['ID', 'P100', 'P41', 'OspC', 'DbpA', 'BmpA', 'DbpB', 'P45', 'P58',\n",
       "       'P66', 'VlsE', 'ErpL', 'OspD', 'Diag'],\n",
       "      dtype='object')"
      ]
     },
     "execution_count": 4,
     "metadata": {},
     "output_type": "execute_result"
    }
   ],
   "source": [
    "df.columns"
   ]
  },
  {
   "cell_type": "code",
   "execution_count": 5,
   "id": "e5b5c0f7",
   "metadata": {},
   "outputs": [
    {
     "name": "stdout",
     "output_type": "stream",
     "text": [
      "<class 'pandas.core.frame.DataFrame'>\n",
      "RangeIndex: 64 entries, 0 to 63\n",
      "Data columns (total 14 columns):\n",
      " #   Column  Non-Null Count  Dtype  \n",
      "---  ------  --------------  -----  \n",
      " 0   ID      64 non-null     object \n",
      " 1   P100    64 non-null     float64\n",
      " 2   P41     64 non-null     float64\n",
      " 3   OspC    64 non-null     float64\n",
      " 4   DbpA    64 non-null     float64\n",
      " 5   BmpA    64 non-null     float64\n",
      " 6   DbpB    64 non-null     float64\n",
      " 7   P45     64 non-null     float64\n",
      " 8   P58     64 non-null     float64\n",
      " 9   P66     64 non-null     float64\n",
      " 10  VlsE    64 non-null     float64\n",
      " 11  ErpL    64 non-null     float64\n",
      " 12  OspD    64 non-null     float64\n",
      " 13  Diag    64 non-null     object \n",
      "dtypes: float64(12), object(2)\n",
      "memory usage: 7.1+ KB\n"
     ]
    }
   ],
   "source": [
    "df.describe()\n",
    "df.info()"
   ]
  },
  {
   "cell_type": "code",
   "execution_count": 6,
   "id": "fb1f3f5b",
   "metadata": {},
   "outputs": [
    {
     "data": {
      "text/plain": [
       "array([[ 1.98301668,  2.1761209 ,  5.88212057,  1.73861454,  1.79083071,\n",
       "         3.95060049,  1.06541966,  1.93890358,  2.02107262, 12.45584216,\n",
       "         1.07788947,  1.78438692],\n",
       "       [ 0.99995049,  2.92070994,  0.82431779,  8.27945815,  5.25502377,\n",
       "         3.92530155,  2.13792218,  9.25600905,  2.85953154,  9.86827322,\n",
       "         1.63255897,  1.63950367],\n",
       "       [ 1.30357268,  2.65369322,  1.48438828, 11.07250259,  2.45627099,\n",
       "         9.74972207,  1.85122189,  3.66964123,  3.94502199, 11.61519582,\n",
       "         2.02558011,  1.56863534],\n",
       "       [ 0.95118843,  1.9174358 ,  1.39403148,  1.19700767,  1.41514323,\n",
       "         2.35924062,  1.01217702,  1.32133611,  1.3724105 ,  4.37009458,\n",
       "         0.99934068,  1.30889101],\n",
       "       [ 1.11738255,  2.43659697,  2.28407202,  1.39707483,  1.37392648,\n",
       "         1.93265429,  1.23326853,  1.51796498,  1.64828868, 10.35798884,\n",
       "         1.23086668,  1.62281255]])"
      ]
     },
     "execution_count": 6,
     "metadata": {},
     "output_type": "execute_result"
    }
   ],
   "source": [
    "feature_columns = ['P100', 'P41', 'OspC', 'DbpA', 'BmpA', 'DbpB', 'P45',\n",
    "       'P58', 'P66', 'VlsE', 'ErpL', 'OspD']\n",
    "X = df[feature_columns].values\n",
    "\n",
    "X[0:5]"
   ]
  },
  {
   "cell_type": "code",
   "execution_count": 7,
   "id": "c0acd5a4",
   "metadata": {},
   "outputs": [
    {
     "data": {
      "text/plain": [
       "0          Pos - Late\n",
       "1          Pos - Late\n",
       "2          Pos - Late\n",
       "3    Pos - Early Conv\n",
       "4    Pos - Early Conv\n",
       "Name: Diag, dtype: object"
      ]
     },
     "execution_count": 7,
     "metadata": {},
     "output_type": "execute_result"
    }
   ],
   "source": [
    "y = df[\"Diag\"]\n",
    "y[0:5]"
   ]
  },
  {
   "cell_type": "code",
   "execution_count": 8,
   "id": "5bfd361e",
   "metadata": {},
   "outputs": [
    {
     "name": "stdout",
     "output_type": "stream",
     "text": [
      "Train set: (60, 12) (60,)\n",
      "Test set: (4, 12) (4,)\n"
     ]
    }
   ],
   "source": [
    "from sklearn.model_selection import train_test_split\n",
    "X_train, X_test, y_train, y_test = train_test_split( X, y, test_size=0.05, random_state=5)\n",
    "print ('Train set:', X_train.shape,  y_train.shape)\n",
    "print ('Test set:', X_test.shape,  y_test.shape)"
   ]
  },
  {
   "cell_type": "code",
   "execution_count": 9,
   "id": "42a80da8",
   "metadata": {},
   "outputs": [],
   "source": [
    "from sklearn.ensemble import RandomForestClassifier\n",
    "\n",
    "#Create a Gaussian Classifier\n",
    "clf=RandomForestClassifier(n_estimators=1000)\n",
    "\n",
    "#Train the model using the training sets y_pred=clf.predict(X_test)\n",
    "clf.fit(X_train,y_train)\n",
    "\n",
    "y_pred=clf.predict(X_test)"
   ]
  },
  {
   "cell_type": "code",
   "execution_count": 10,
   "id": "f25de243",
   "metadata": {},
   "outputs": [
    {
     "name": "stdout",
     "output_type": "stream",
     "text": [
      "Accuracy: 1.0\n"
     ]
    }
   ],
   "source": [
    "#Import scikit-learn metrics module for accuracy calculation\n",
    "from sklearn import metrics\n",
    "# Model Accuracy, how often is the classifier correct?\n",
    "print(\"Accuracy:\",metrics.accuracy_score(y_test, y_pred))"
   ]
  },
  {
   "cell_type": "code",
   "execution_count": 11,
   "id": "f9b6b0e4",
   "metadata": {},
   "outputs": [
    {
     "name": "stdout",
     "output_type": "stream",
     "text": [
      "['Neg' 'Neg' 'Neg' 'Neg']\n",
      "29    Neg\n",
      "60    Neg\n",
      "31    Neg\n",
      "61    Neg\n",
      "Name: Diag, dtype: object\n"
     ]
    }
   ],
   "source": [
    "print (y_pred)\n",
    "print (y_test)"
   ]
  },
  {
   "cell_type": "code",
   "execution_count": 12,
   "id": "e0c1ba40",
   "metadata": {},
   "outputs": [
    {
     "data": {
      "text/plain": [
       "VlsE    0.157460\n",
       "DbpA    0.118538\n",
       "OspC    0.095828\n",
       "DbpB    0.091747\n",
       "P58     0.090198\n",
       "P66     0.082884\n",
       "P41     0.080054\n",
       "ErpL    0.067485\n",
       "P45     0.063760\n",
       "P100    0.054609\n",
       "BmpA    0.054385\n",
       "OspD    0.043053\n",
       "dtype: float64"
      ]
     },
     "execution_count": 12,
     "metadata": {},
     "output_type": "execute_result"
    }
   ],
   "source": [
    "#Random Forest can report on feature importance to allow removal of predictors that \n",
    "#may just contribute noise to the model. \n",
    "import pandas as pd\n",
    "feature_imp = pd.Series(clf.feature_importances_,index=feature_columns).sort_values(ascending=False)\n",
    "feature_imp"
   ]
  },
  {
   "cell_type": "code",
   "execution_count": 13,
   "id": "4e2136e3",
   "metadata": {},
   "outputs": [
    {
     "name": "stderr",
     "output_type": "stream",
     "text": [
      "No handles with labels found to put in legend.\n"
     ]
    },
    {
     "data": {
      "image/png": "[encoded data removed]",
      "text/plain": [
       "<Figure size 432x288 with 1 Axes>"
      ]
     },
     "metadata": {
      "needs_background": "light"
     },
     "output_type": "display_data"
    }
   ],
   "source": [
    "#create a bar chart of the feature importance as determined above\n",
    "import matplotlib.pyplot as plt\n",
    "import seaborn as sns\n",
    "%matplotlib inline\n",
    "# Creating a bar plot\n",
    "sns.barplot(x=feature_imp, y=feature_imp.index)\n",
    "# Add labels to your graph\n",
    "plt.xlabel('Feature Importance Score')\n",
    "plt.ylabel('Features')\n",
    "plt.title(\"Visualizing Important Features\")\n",
    "plt.legend()\n",
    "plt.show()"
   ]
  },
  {
   "cell_type": "code",
   "execution_count": 14,
   "id": "2534bdd8",
   "metadata": {},
   "outputs": [
    {
     "name": "stdout",
     "output_type": "stream",
     "text": [
      "[False  True  True  True False  True False  True  True  True False False]\n",
      "[4 1 1 1 5 1 2 1 1 1 3 6]\n"
     ]
    }
   ],
   "source": [
    "#use the \"recursive feature elimination\" technique in sklearn to pick 'n' \n",
    "#most important features\n",
    "from sklearn.feature_selection import RFE\n",
    "# create the RFE model and select 3 attributes\n",
    "rfe = RFE(clf, n_features_to_select=7)\n",
    "rfe = rfe.fit(X, y)\n",
    "# summarize the selection of the attributes\n",
    "print(rfe.support_)\n",
    "print(rfe.ranking_)"
   ]
  },
  {
   "cell_type": "code",
   "execution_count": 15,
   "id": "8dba9685",
   "metadata": {},
   "outputs": [
    {
     "data": {
      "text/html": [
       "<div>\n",
       "<style scoped>\n",
       "    .dataframe tbody tr th:only-of-type {\n",
       "        vertical-align: middle;\n",
       "    }\n",
       "\n",
       "    .dataframe tbody tr th {\n",
       "        vertical-align: top;\n",
       "    }\n",
       "\n",
       "    .dataframe thead th {\n",
       "        text-align: right;\n",
       "    }\n",
       "</style>\n",
       "<table border=\"1\" class=\"dataframe\">\n",
       "  <thead>\n",
       "    <tr style=\"text-align: right;\">\n",
       "      <th></th>\n",
       "      <th>feature_columns</th>\n",
       "      <th>important</th>\n",
       "    </tr>\n",
       "  </thead>\n",
       "  <tbody>\n",
       "    <tr>\n",
       "      <th>1</th>\n",
       "      <td>P41</td>\n",
       "      <td>True</td>\n",
       "    </tr>\n",
       "    <tr>\n",
       "      <th>2</th>\n",
       "      <td>OspC</td>\n",
       "      <td>True</td>\n",
       "    </tr>\n",
       "    <tr>\n",
       "      <th>3</th>\n",
       "      <td>DbpA</td>\n",
       "      <td>True</td>\n",
       "    </tr>\n",
       "    <tr>\n",
       "      <th>5</th>\n",
       "      <td>DbpB</td>\n",
       "      <td>True</td>\n",
       "    </tr>\n",
       "    <tr>\n",
       "      <th>7</th>\n",
       "      <td>P58</td>\n",
       "      <td>True</td>\n",
       "    </tr>\n",
       "    <tr>\n",
       "      <th>8</th>\n",
       "      <td>P66</td>\n",
       "      <td>True</td>\n",
       "    </tr>\n",
       "    <tr>\n",
       "      <th>9</th>\n",
       "      <td>VlsE</td>\n",
       "      <td>True</td>\n",
       "    </tr>\n",
       "  </tbody>\n",
       "</table>\n",
       "</div>"
      ],
      "text/plain": [
       "  feature_columns  important\n",
       "1             P41       True\n",
       "2            OspC       True\n",
       "3            DbpA       True\n",
       "5            DbpB       True\n",
       "7             P58       True\n",
       "8             P66       True\n",
       "9            VlsE       True"
      ]
     },
     "execution_count": 15,
     "metadata": {},
     "output_type": "execute_result"
    }
   ],
   "source": [
    "#use the information gathered above to trim a column\n",
    "#of relevant feature names\n",
    "data = {'feature_columns': feature_columns,'important': rfe.support_}\n",
    "selection_df  = pd.DataFrame(data)\n",
    "selection_df.drop(selection_df[selection_df['important'] == False].index, inplace = True)\n",
    "selection_df"
   ]
  },
  {
   "cell_type": "code",
   "execution_count": 16,
   "id": "67bf358f",
   "metadata": {},
   "outputs": [
    {
     "name": "stdout",
     "output_type": "stream",
     "text": [
      "Train set: (51, 7) (51,)\n",
      "Test set: (13, 7) (13,)\n"
     ]
    }
   ],
   "source": [
    "# Import train_test_split function\n",
    "from sklearn.model_selection import train_test_split\n",
    "# Split dataset into features(as chosen above) and labels\n",
    "reduced_X=df[selection_df.feature_columns]  # Removed low importance (<.075) features\n",
    "y=df['Diag']                                       \n",
    "from sklearn.model_selection import train_test_split\n",
    "X_train, X_test, y_train, y_test = train_test_split( reduced_X, y, test_size=0.2, random_state=42)\n",
    "print ('Train set:', X_train.shape,  y_train.shape)\n",
    "print ('Test set:', X_test.shape,  y_test.shape)"
   ]
  },
  {
   "cell_type": "code",
   "execution_count": 17,
   "id": "8369427d",
   "metadata": {},
   "outputs": [
    {
     "name": "stdout",
     "output_type": "stream",
     "text": [
      "153\n",
      "Accuracy: 0.6923076923076923\n"
     ]
    }
   ],
   "source": [
    "from sklearn.ensemble import RandomForestClassifier\n",
    "desired_estimators = X_train.shape[0] * 3\n",
    "print(desired_estimators)\n",
    "#Create a Gaussian Classifier\n",
    "clf=RandomForestClassifier(n_estimators=desired_estimators)\n",
    "\n",
    "#Train the model using the training sets y_pred=clf.predict(X_test)\n",
    "clf.fit(X_train,y_train)\n",
    "\n",
    "# prediction on test set\n",
    "y_pred=clf.predict(X_test)\n",
    "\n",
    "#Import scikit-learn metrics module for accuracy calculation\n",
    "from sklearn import metrics\n",
    "# Model Accuracy, how often is the classifier correct?\n",
    "print(\"Accuracy:\",metrics.accuracy_score(y_test, y_pred))"
   ]
  },
  {
   "cell_type": "code",
   "execution_count": 18,
   "id": "bfa1cd94",
   "metadata": {},
   "outputs": [
    {
     "name": "stdout",
     "output_type": "stream",
     "text": [
      "52     Pos - Early Conv\n",
      "58                  Neg\n",
      "0            Pos - Late\n",
      "44           Pos - Late\n",
      "5     Pos - Early Acute\n",
      "36    Pos - Early Acute\n",
      "16                  Neg\n",
      "12                  Neg\n",
      "25                  Neg\n",
      "61                  Neg\n",
      "56                  Neg\n",
      "9     Pos - Early Acute\n",
      "40    Pos - Early Acute\n",
      "Name: Diag, dtype: object\n",
      "['Pos - Early Conv' 'Neg' 'Pos - Early Conv' 'Pos - Late'\n",
      " 'Pos - Early Acute' 'Pos - Early Acute' 'Neg' 'Neg' 'Neg'\n",
      " 'Pos - Early Acute' 'Neg' 'Neg' 'Pos - Early Conv']\n"
     ]
    }
   ],
   "source": [
    "print(y_test)\n",
    "print(y_pred)"
   ]
  },
  {
   "cell_type": "code",
   "execution_count": 19,
   "id": "12110bee",
   "metadata": {},
   "outputs": [],
   "source": [
    "def plot_confusion_matrix(cm, classes,\n",
    "                          normalize=False,\n",
    "                          title='Confusion matrix',\n",
    "                          cmap=plt.cm.Blues):\n",
    "    \"\"\"\n",
    "    This function prints and plots the confusion matrix.\n",
    "    Normalization can be applied by setting `normalize=True`.\n",
    "    \"\"\"\n",
    "    if normalize:\n",
    "        cm = cm.astype('float') / cm.sum(axis=1)[:, np.newaxis]\n",
    "        print(\"Normalized confusion matrix\")\n",
    "    else:\n",
    "        print('Confusion matrix, without normalization')\n",
    "\n",
    "    print(cm)\n",
    "\n",
    "    plt.imshow(cm, interpolation='nearest', cmap=cmap)\n",
    "    plt.title(title)\n",
    "    plt.colorbar()\n",
    "    tick_marks = np.arange(len(classes))\n",
    "    plt.xticks(tick_marks, classes, rotation=45)\n",
    "    plt.yticks(tick_marks, classes)\n",
    "\n",
    "    fmt = '.2f' if normalize else 'd'\n",
    "    thresh = cm.max() / 2.\n",
    "    for i, j in itertools.product(range(cm.shape[0]), range(cm.shape[1])):\n",
    "        plt.text(j, i, format(cm[i, j], fmt),\n",
    "                 horizontalalignment=\"center\",\n",
    "                 color=\"white\" if cm[i, j] > thresh else \"black\")\n",
    "\n",
    "    plt.tight_layout()\n",
    "    plt.ylabel('True label')\n",
    "    plt.xlabel('Predicted label')"
   ]
  },
  {
   "cell_type": "code",
   "execution_count": 20,
   "id": "a75455c1",
   "metadata": {},
   "outputs": [
    {
     "name": "stdout",
     "output_type": "stream",
     "text": [
      "                   precision    recall  f1-score   support\n",
      "\n",
      "              Neg       0.83      0.83      0.83         6\n",
      "Pos - Early Acute       0.67      0.50      0.57         4\n",
      " Pos - Early Conv       0.33      1.00      0.50         1\n",
      "       Pos - Late       1.00      0.50      0.67         2\n",
      "\n",
      "         accuracy                           0.69        13\n",
      "        macro avg       0.71      0.71      0.64        13\n",
      "     weighted avg       0.77      0.69      0.70        13\n",
      "\n",
      "Confusion matrix, without normalization\n",
      "[[5 1 0 0]\n",
      " [1 2 1 0]\n",
      " [0 0 1 0]\n",
      " [0 0 1 1]]\n"
     ]
    },
    {
     "data": {
      "image/png": "[encoded data removed]",
      "text/plain": [
       "<Figure size 432x288 with 2 Axes>"
      ]
     },
     "metadata": {
      "needs_background": "light"
     },
     "output_type": "display_data"
    }
   ],
   "source": [
    "from sklearn.metrics import classification_report, multilabel_confusion_matrix, confusion_matrix\n",
    "import itertools\n",
    "cnf_matrix = confusion_matrix(y_test, y_pred)\n",
    "np.set_printoptions(precision=2)\n",
    "\n",
    "print (classification_report(y_test, y_pred))\n",
    "\n",
    "# Plot non-normalized confusion matrix\n",
    "plt.figure()\n",
    "plot_confusion_matrix(cnf_matrix, classes=['Negative','PosEarlyAcute','PosEarlyConv','PosLate'],normalize= False,  title='Confusion matrix')"
   ]
  },
  {
   "cell_type": "code",
   "execution_count": 21,
   "id": "1754df24",
   "metadata": {},
   "outputs": [
    {
     "name": "stderr",
     "output_type": "stream",
     "text": [
      "C:\\Users\\fd299212\\anaconda3\\lib\\site-packages\\sklearn\\metrics\\_classification.py:1248: UndefinedMetricWarning: Precision and F-score are ill-defined and being set to 0.0 in labels with no predicted samples. Use `zero_division` parameter to control this behavior.\n",
      "  _warn_prf(average, modifier, msg_start, len(result))\n",
      "C:\\Users\\fd299212\\anaconda3\\lib\\site-packages\\sklearn\\metrics\\_classification.py:1248: UndefinedMetricWarning: Precision and F-score are ill-defined and being set to 0.0 in labels with no predicted samples. Use `zero_division` parameter to control this behavior.\n",
      "  _warn_prf(average, modifier, msg_start, len(result))\n",
      "C:\\Users\\fd299212\\anaconda3\\lib\\site-packages\\sklearn\\metrics\\_classification.py:1248: UndefinedMetricWarning: Precision and F-score are ill-defined and being set to 0.0 in labels with no predicted samples. Use `zero_division` parameter to control this behavior.\n",
      "  _warn_prf(average, modifier, msg_start, len(result))\n"
     ]
    },
    {
     "name": "stdout",
     "output_type": "stream",
     "text": [
      "Run: 1\n",
      " Accuracy: 0.812 \n",
      " Sensitivity: 0.875 \n",
      " Specificity: 1.000 \n",
      "Run: 2\n",
      " Accuracy: 0.750 \n",
      " Sensitivity: 0.875 \n",
      " Specificity: 1.000 \n",
      "Run: 3\n",
      " Accuracy: 0.750 \n",
      " Sensitivity: 0.667 \n",
      " Specificity: 1.000 \n",
      "Run: 4\n",
      " Accuracy: 0.750 \n",
      " Sensitivity: 0.889 \n",
      " Specificity: 1.000 \n"
     ]
    },
    {
     "name": "stderr",
     "output_type": "stream",
     "text": [
      "C:\\Users\\fd299212\\anaconda3\\lib\\site-packages\\sklearn\\metrics\\_classification.py:1248: UndefinedMetricWarning: Precision and F-score are ill-defined and being set to 0.0 in labels with no predicted samples. Use `zero_division` parameter to control this behavior.\n",
      "  _warn_prf(average, modifier, msg_start, len(result))\n",
      "C:\\Users\\fd299212\\anaconda3\\lib\\site-packages\\sklearn\\metrics\\_classification.py:1248: UndefinedMetricWarning: Precision and F-score are ill-defined and being set to 0.0 in labels with no predicted samples. Use `zero_division` parameter to control this behavior.\n",
      "  _warn_prf(average, modifier, msg_start, len(result))\n",
      "C:\\Users\\fd299212\\anaconda3\\lib\\site-packages\\sklearn\\metrics\\_classification.py:1248: UndefinedMetricWarning: Precision and F-score are ill-defined and being set to 0.0 in labels with no predicted samples. Use `zero_division` parameter to control this behavior.\n",
      "  _warn_prf(average, modifier, msg_start, len(result))\n"
     ]
    },
    {
     "name": "stdout",
     "output_type": "stream",
     "text": [
      "Run: 5\n",
      " Accuracy: 0.562 \n",
      " Sensitivity: 0.750 \n",
      " Specificity: 0.875 \n",
      "Run: 6\n",
      " Accuracy: 0.812 \n",
      " Sensitivity: 0.875 \n",
      " Specificity: 1.000 \n",
      "Run: 7\n",
      " Accuracy: 0.750 \n",
      " Sensitivity: 0.625 \n",
      " Specificity: 1.000 \n",
      "Run: 8\n",
      " Accuracy: 0.625 \n",
      " Sensitivity: 0.750 \n",
      " Specificity: 0.750 \n",
      "Run: 9\n",
      " Accuracy: 0.625 \n",
      " Sensitivity: 0.750 \n",
      " Specificity: 0.875 \n",
      "Run: 10\n",
      " Accuracy: 0.688 \n",
      " Sensitivity: 0.875 \n",
      " Specificity: 1.000 \n",
      "Run: 11\n",
      " Accuracy: 0.500 \n",
      " Sensitivity: 0.500 \n",
      " Specificity: 0.875 \n",
      "Run: 12\n",
      " Accuracy: 0.562 \n",
      " Sensitivity: 0.625 \n",
      " Specificity: 0.875 \n",
      "Run: 13\n",
      " Accuracy: 0.750 \n",
      " Sensitivity: 0.889 \n",
      " Specificity: 1.000 \n",
      "Run: 14\n",
      " Accuracy: 0.812 \n",
      " Sensitivity: 0.875 \n",
      " Specificity: 1.000 \n",
      "Run: 15\n",
      " Accuracy: 0.688 \n",
      " Sensitivity: 0.667 \n",
      " Specificity: 1.000 \n",
      "Run: 16\n",
      " Accuracy: 0.625 \n",
      " Sensitivity: 0.750 \n",
      " Specificity: 0.875 \n",
      "Run: 17\n",
      " Accuracy: 0.750 \n",
      " Sensitivity: 0.625 \n",
      " Specificity: 1.000 \n",
      "Run: 18\n",
      " Accuracy: 0.688 \n",
      " Sensitivity: 0.875 \n",
      " Specificity: 0.875 \n",
      "Run: 19\n",
      " Accuracy: 0.625 \n",
      " Sensitivity: 0.750 \n",
      " Specificity: 0.875 \n",
      "Run: 20\n",
      " Accuracy: 0.688 \n",
      " Sensitivity: 0.667 \n",
      " Specificity: 1.000 \n"
     ]
    },
    {
     "name": "stderr",
     "output_type": "stream",
     "text": [
      "C:\\Users\\fd299212\\anaconda3\\lib\\site-packages\\sklearn\\metrics\\_classification.py:1248: UndefinedMetricWarning: Precision and F-score are ill-defined and being set to 0.0 in labels with no predicted samples. Use `zero_division` parameter to control this behavior.\n",
      "  _warn_prf(average, modifier, msg_start, len(result))\n",
      "C:\\Users\\fd299212\\anaconda3\\lib\\site-packages\\sklearn\\metrics\\_classification.py:1248: UndefinedMetricWarning: Precision and F-score are ill-defined and being set to 0.0 in labels with no predicted samples. Use `zero_division` parameter to control this behavior.\n",
      "  _warn_prf(average, modifier, msg_start, len(result))\n",
      "C:\\Users\\fd299212\\anaconda3\\lib\\site-packages\\sklearn\\metrics\\_classification.py:1248: UndefinedMetricWarning: Precision and F-score are ill-defined and being set to 0.0 in labels with no predicted samples. Use `zero_division` parameter to control this behavior.\n",
      "  _warn_prf(average, modifier, msg_start, len(result))\n"
     ]
    },
    {
     "name": "stdout",
     "output_type": "stream",
     "text": [
      "Run: 21\n",
      " Accuracy: 0.625 \n",
      " Sensitivity: 0.333 \n",
      " Specificity: 1.000 \n",
      "Run: 22\n",
      " Accuracy: 0.688 \n",
      " Sensitivity: 0.889 \n",
      " Specificity: 0.857 \n",
      "Run: 23\n",
      " Accuracy: 0.750 \n",
      " Sensitivity: 0.750 \n",
      " Specificity: 1.000 \n",
      "Run: 24\n",
      " Accuracy: 0.562 \n",
      " Sensitivity: 0.444 \n",
      " Specificity: 1.000 \n",
      "Run: 25\n",
      " Accuracy: 0.625 \n",
      " Sensitivity: 0.778 \n",
      " Specificity: 0.857 \n",
      "Run: 26\n",
      " Accuracy: 0.812 \n",
      " Sensitivity: 0.778 \n",
      " Specificity: 1.000 \n"
     ]
    },
    {
     "name": "stderr",
     "output_type": "stream",
     "text": [
      "C:\\Users\\fd299212\\anaconda3\\lib\\site-packages\\sklearn\\metrics\\_classification.py:1248: UndefinedMetricWarning: Precision and F-score are ill-defined and being set to 0.0 in labels with no predicted samples. Use `zero_division` parameter to control this behavior.\n",
      "  _warn_prf(average, modifier, msg_start, len(result))\n",
      "C:\\Users\\fd299212\\anaconda3\\lib\\site-packages\\sklearn\\metrics\\_classification.py:1248: UndefinedMetricWarning: Precision and F-score are ill-defined and being set to 0.0 in labels with no predicted samples. Use `zero_division` parameter to control this behavior.\n",
      "  _warn_prf(average, modifier, msg_start, len(result))\n",
      "C:\\Users\\fd299212\\anaconda3\\lib\\site-packages\\sklearn\\metrics\\_classification.py:1248: UndefinedMetricWarning: Precision and F-score are ill-defined and being set to 0.0 in labels with no predicted samples. Use `zero_division` parameter to control this behavior.\n",
      "  _warn_prf(average, modifier, msg_start, len(result))\n"
     ]
    },
    {
     "name": "stdout",
     "output_type": "stream",
     "text": [
      "Run: 27\n",
      " Accuracy: 0.625 \n",
      " Sensitivity: 0.556 \n",
      " Specificity: 1.000 \n",
      "Run: 28\n",
      " Accuracy: 0.625 \n",
      " Sensitivity: 0.500 \n",
      " Specificity: 1.000 \n"
     ]
    },
    {
     "name": "stderr",
     "output_type": "stream",
     "text": [
      "C:\\Users\\fd299212\\anaconda3\\lib\\site-packages\\sklearn\\metrics\\_classification.py:1248: UndefinedMetricWarning: Precision and F-score are ill-defined and being set to 0.0 in labels with no predicted samples. Use `zero_division` parameter to control this behavior.\n",
      "  _warn_prf(average, modifier, msg_start, len(result))\n",
      "C:\\Users\\fd299212\\anaconda3\\lib\\site-packages\\sklearn\\metrics\\_classification.py:1248: UndefinedMetricWarning: Precision and F-score are ill-defined and being set to 0.0 in labels with no predicted samples. Use `zero_division` parameter to control this behavior.\n",
      "  _warn_prf(average, modifier, msg_start, len(result))\n",
      "C:\\Users\\fd299212\\anaconda3\\lib\\site-packages\\sklearn\\metrics\\_classification.py:1248: UndefinedMetricWarning: Precision and F-score are ill-defined and being set to 0.0 in labels with no predicted samples. Use `zero_division` parameter to control this behavior.\n",
      "  _warn_prf(average, modifier, msg_start, len(result))\n"
     ]
    },
    {
     "name": "stdout",
     "output_type": "stream",
     "text": [
      "Run: 29\n",
      " Accuracy: 0.562 \n",
      " Sensitivity: 0.375 \n",
      " Specificity: 0.875 \n",
      "Run: 30\n",
      " Accuracy: 0.688 \n",
      " Sensitivity: 0.750 \n",
      " Specificity: 0.750 \n",
      "Run: 31\n",
      " Accuracy: 0.688 \n",
      " Sensitivity: 0.667 \n",
      " Specificity: 1.000 \n",
      "Run: 32\n",
      " Accuracy: 0.750 \n",
      " Sensitivity: 0.778 \n",
      " Specificity: 1.000 \n"
     ]
    },
    {
     "name": "stderr",
     "output_type": "stream",
     "text": [
      "C:\\Users\\fd299212\\anaconda3\\lib\\site-packages\\sklearn\\metrics\\_classification.py:1248: UndefinedMetricWarning: Precision and F-score are ill-defined and being set to 0.0 in labels with no predicted samples. Use `zero_division` parameter to control this behavior.\n",
      "  _warn_prf(average, modifier, msg_start, len(result))\n",
      "C:\\Users\\fd299212\\anaconda3\\lib\\site-packages\\sklearn\\metrics\\_classification.py:1248: UndefinedMetricWarning: Precision and F-score are ill-defined and being set to 0.0 in labels with no predicted samples. Use `zero_division` parameter to control this behavior.\n",
      "  _warn_prf(average, modifier, msg_start, len(result))\n",
      "C:\\Users\\fd299212\\anaconda3\\lib\\site-packages\\sklearn\\metrics\\_classification.py:1248: UndefinedMetricWarning: Precision and F-score are ill-defined and being set to 0.0 in labels with no predicted samples. Use `zero_division` parameter to control this behavior.\n",
      "  _warn_prf(average, modifier, msg_start, len(result))\n"
     ]
    },
    {
     "name": "stdout",
     "output_type": "stream",
     "text": [
      "Run: 33\n",
      " Accuracy: 0.625 \n",
      " Sensitivity: 0.667 \n",
      " Specificity: 1.000 \n",
      "Run: 34\n",
      " Accuracy: 0.625 \n",
      " Sensitivity: 0.875 \n",
      " Specificity: 0.875 \n",
      "Run: 35\n",
      " Accuracy: 0.688 \n",
      " Sensitivity: 0.625 \n",
      " Specificity: 1.000 \n",
      "Run: 36\n",
      " Accuracy: 0.625 \n",
      " Sensitivity: 0.556 \n",
      " Specificity: 1.000 \n"
     ]
    },
    {
     "name": "stderr",
     "output_type": "stream",
     "text": [
      "C:\\Users\\fd299212\\anaconda3\\lib\\site-packages\\sklearn\\metrics\\_classification.py:1248: UndefinedMetricWarning: Precision and F-score are ill-defined and being set to 0.0 in labels with no predicted samples. Use `zero_division` parameter to control this behavior.\n",
      "  _warn_prf(average, modifier, msg_start, len(result))\n",
      "C:\\Users\\fd299212\\anaconda3\\lib\\site-packages\\sklearn\\metrics\\_classification.py:1248: UndefinedMetricWarning: Precision and F-score are ill-defined and being set to 0.0 in labels with no predicted samples. Use `zero_division` parameter to control this behavior.\n",
      "  _warn_prf(average, modifier, msg_start, len(result))\n",
      "C:\\Users\\fd299212\\anaconda3\\lib\\site-packages\\sklearn\\metrics\\_classification.py:1248: UndefinedMetricWarning: Precision and F-score are ill-defined and being set to 0.0 in labels with no predicted samples. Use `zero_division` parameter to control this behavior.\n",
      "  _warn_prf(average, modifier, msg_start, len(result))\n"
     ]
    },
    {
     "name": "stdout",
     "output_type": "stream",
     "text": [
      "Run: 37\n",
      " Accuracy: 0.750 \n",
      " Sensitivity: 0.750 \n",
      " Specificity: 1.000 \n"
     ]
    },
    {
     "name": "stderr",
     "output_type": "stream",
     "text": [
      "C:\\Users\\fd299212\\anaconda3\\lib\\site-packages\\sklearn\\metrics\\_classification.py:1248: UndefinedMetricWarning: Precision and F-score are ill-defined and being set to 0.0 in labels with no predicted samples. Use `zero_division` parameter to control this behavior.\n",
      "  _warn_prf(average, modifier, msg_start, len(result))\n",
      "C:\\Users\\fd299212\\anaconda3\\lib\\site-packages\\sklearn\\metrics\\_classification.py:1248: UndefinedMetricWarning: Precision and F-score are ill-defined and being set to 0.0 in labels with no predicted samples. Use `zero_division` parameter to control this behavior.\n",
      "  _warn_prf(average, modifier, msg_start, len(result))\n",
      "C:\\Users\\fd299212\\anaconda3\\lib\\site-packages\\sklearn\\metrics\\_classification.py:1248: UndefinedMetricWarning: Precision and F-score are ill-defined and being set to 0.0 in labels with no predicted samples. Use `zero_division` parameter to control this behavior.\n",
      "  _warn_prf(average, modifier, msg_start, len(result))\n"
     ]
    },
    {
     "name": "stdout",
     "output_type": "stream",
     "text": [
      "Run: 38\n",
      " Accuracy: 0.812 \n",
      " Sensitivity: 0.750 \n",
      " Specificity: 1.000 \n",
      "Run: 39\n",
      " Accuracy: 0.812 \n",
      " Sensitivity: 1.000 \n",
      " Specificity: 1.000 \n",
      "Run: 40\n",
      " Accuracy: 0.688 \n",
      " Sensitivity: 0.875 \n",
      " Specificity: 0.875 \n"
     ]
    },
    {
     "name": "stderr",
     "output_type": "stream",
     "text": [
      "C:\\Users\\fd299212\\anaconda3\\lib\\site-packages\\sklearn\\metrics\\_classification.py:1248: UndefinedMetricWarning: Precision and F-score are ill-defined and being set to 0.0 in labels with no predicted samples. Use `zero_division` parameter to control this behavior.\n",
      "  _warn_prf(average, modifier, msg_start, len(result))\n",
      "C:\\Users\\fd299212\\anaconda3\\lib\\site-packages\\sklearn\\metrics\\_classification.py:1248: UndefinedMetricWarning: Precision and F-score are ill-defined and being set to 0.0 in labels with no predicted samples. Use `zero_division` parameter to control this behavior.\n",
      "  _warn_prf(average, modifier, msg_start, len(result))\n",
      "C:\\Users\\fd299212\\anaconda3\\lib\\site-packages\\sklearn\\metrics\\_classification.py:1248: UndefinedMetricWarning: Precision and F-score are ill-defined and being set to 0.0 in labels with no predicted samples. Use `zero_division` parameter to control this behavior.\n",
      "  _warn_prf(average, modifier, msg_start, len(result))\n"
     ]
    },
    {
     "name": "stdout",
     "output_type": "stream",
     "text": [
      "Run: 41\n",
      " Accuracy: 0.688 \n",
      " Sensitivity: 0.667 \n",
      " Specificity: 1.000 \n",
      "Run: 42\n",
      " Accuracy: 0.875 \n",
      " Sensitivity: 0.889 \n",
      " Specificity: 1.000 \n",
      "Run: 43\n",
      " Accuracy: 0.750 \n",
      " Sensitivity: 0.625 \n",
      " Specificity: 1.000 \n"
     ]
    },
    {
     "name": "stderr",
     "output_type": "stream",
     "text": [
      "C:\\Users\\fd299212\\anaconda3\\lib\\site-packages\\sklearn\\metrics\\_classification.py:1248: UndefinedMetricWarning: Precision and F-score are ill-defined and being set to 0.0 in labels with no predicted samples. Use `zero_division` parameter to control this behavior.\n",
      "  _warn_prf(average, modifier, msg_start, len(result))\n",
      "C:\\Users\\fd299212\\anaconda3\\lib\\site-packages\\sklearn\\metrics\\_classification.py:1248: UndefinedMetricWarning: Precision and F-score are ill-defined and being set to 0.0 in labels with no predicted samples. Use `zero_division` parameter to control this behavior.\n",
      "  _warn_prf(average, modifier, msg_start, len(result))\n",
      "C:\\Users\\fd299212\\anaconda3\\lib\\site-packages\\sklearn\\metrics\\_classification.py:1248: UndefinedMetricWarning: Precision and F-score are ill-defined and being set to 0.0 in labels with no predicted samples. Use `zero_division` parameter to control this behavior.\n",
      "  _warn_prf(average, modifier, msg_start, len(result))\n"
     ]
    },
    {
     "name": "stdout",
     "output_type": "stream",
     "text": [
      "Run: 44\n",
      " Accuracy: 0.750 \n",
      " Sensitivity: 0.778 \n",
      " Specificity: 1.000 \n",
      "Run: 45\n",
      " Accuracy: 0.625 \n",
      " Sensitivity: 0.778 \n",
      " Specificity: 1.000 \n"
     ]
    },
    {
     "name": "stderr",
     "output_type": "stream",
     "text": [
      "C:\\Users\\fd299212\\anaconda3\\lib\\site-packages\\sklearn\\metrics\\_classification.py:1248: UndefinedMetricWarning: Precision and F-score are ill-defined and being set to 0.0 in labels with no predicted samples. Use `zero_division` parameter to control this behavior.\n",
      "  _warn_prf(average, modifier, msg_start, len(result))\n",
      "C:\\Users\\fd299212\\anaconda3\\lib\\site-packages\\sklearn\\metrics\\_classification.py:1248: UndefinedMetricWarning: Precision and F-score are ill-defined and being set to 0.0 in labels with no predicted samples. Use `zero_division` parameter to control this behavior.\n",
      "  _warn_prf(average, modifier, msg_start, len(result))\n",
      "C:\\Users\\fd299212\\anaconda3\\lib\\site-packages\\sklearn\\metrics\\_classification.py:1248: UndefinedMetricWarning: Precision and F-score are ill-defined and being set to 0.0 in labels with no predicted samples. Use `zero_division` parameter to control this behavior.\n",
      "  _warn_prf(average, modifier, msg_start, len(result))\n"
     ]
    },
    {
     "name": "stdout",
     "output_type": "stream",
     "text": [
      "Run: 46\n",
      " Accuracy: 0.750 \n",
      " Sensitivity: 0.556 \n",
      " Specificity: 1.000 \n",
      "Run: 47\n",
      " Accuracy: 0.688 \n",
      " Sensitivity: 0.625 \n",
      " Specificity: 1.000 \n",
      "Run: 48\n",
      " Accuracy: 0.625 \n",
      " Sensitivity: 0.556 \n",
      " Specificity: 1.000 \n"
     ]
    },
    {
     "name": "stderr",
     "output_type": "stream",
     "text": [
      "C:\\Users\\fd299212\\anaconda3\\lib\\site-packages\\sklearn\\metrics\\_classification.py:1248: UndefinedMetricWarning: Precision and F-score are ill-defined and being set to 0.0 in labels with no predicted samples. Use `zero_division` parameter to control this behavior.\n",
      "  _warn_prf(average, modifier, msg_start, len(result))\n",
      "C:\\Users\\fd299212\\anaconda3\\lib\\site-packages\\sklearn\\metrics\\_classification.py:1248: UndefinedMetricWarning: Precision and F-score are ill-defined and being set to 0.0 in labels with no predicted samples. Use `zero_division` parameter to control this behavior.\n",
      "  _warn_prf(average, modifier, msg_start, len(result))\n",
      "C:\\Users\\fd299212\\anaconda3\\lib\\site-packages\\sklearn\\metrics\\_classification.py:1248: UndefinedMetricWarning: Precision and F-score are ill-defined and being set to 0.0 in labels with no predicted samples. Use `zero_division` parameter to control this behavior.\n",
      "  _warn_prf(average, modifier, msg_start, len(result))\n"
     ]
    },
    {
     "name": "stdout",
     "output_type": "stream",
     "text": [
      "Run: 49\n",
      " Accuracy: 0.688 \n",
      " Sensitivity: 0.556 \n",
      " Specificity: 1.000 \n"
     ]
    },
    {
     "name": "stderr",
     "output_type": "stream",
     "text": [
      "C:\\Users\\fd299212\\anaconda3\\lib\\site-packages\\sklearn\\metrics\\_classification.py:1248: UndefinedMetricWarning: Precision and F-score are ill-defined and being set to 0.0 in labels with no predicted samples. Use `zero_division` parameter to control this behavior.\n",
      "  _warn_prf(average, modifier, msg_start, len(result))\n",
      "C:\\Users\\fd299212\\anaconda3\\lib\\site-packages\\sklearn\\metrics\\_classification.py:1248: UndefinedMetricWarning: Precision and F-score are ill-defined and being set to 0.0 in labels with no predicted samples. Use `zero_division` parameter to control this behavior.\n",
      "  _warn_prf(average, modifier, msg_start, len(result))\n",
      "C:\\Users\\fd299212\\anaconda3\\lib\\site-packages\\sklearn\\metrics\\_classification.py:1248: UndefinedMetricWarning: Precision and F-score are ill-defined and being set to 0.0 in labels with no predicted samples. Use `zero_division` parameter to control this behavior.\n",
      "  _warn_prf(average, modifier, msg_start, len(result))\n"
     ]
    },
    {
     "name": "stdout",
     "output_type": "stream",
     "text": [
      "Run: 50\n",
      " Accuracy: 0.688 \n",
      " Sensitivity: 0.375 \n",
      " Specificity: 1.000 \n",
      "Run: 51\n",
      " Accuracy: 0.688 \n",
      " Sensitivity: 0.500 \n",
      " Specificity: 1.000 \n",
      "Run: 52\n",
      " Accuracy: 0.625 \n",
      " Sensitivity: 0.500 \n",
      " Specificity: 0.750 \n",
      "Run: 53\n",
      " Accuracy: 0.688 \n",
      " Sensitivity: 0.889 \n",
      " Specificity: 1.000 \n",
      "Run: 54\n",
      " Accuracy: 0.750 \n",
      " Sensitivity: 0.778 \n",
      " Specificity: 1.000 \n",
      "Run: 55\n",
      " Accuracy: 0.812 \n",
      " Sensitivity: 0.667 \n",
      " Specificity: 1.000 \n",
      "Run: 56\n",
      " Accuracy: 0.688 \n",
      " Sensitivity: 0.875 \n",
      " Specificity: 1.000 \n",
      "Run: 57\n",
      " Accuracy: 0.688 \n",
      " Sensitivity: 0.667 \n",
      " Specificity: 1.000 \n",
      "Run: 58\n",
      " Accuracy: 0.688 \n",
      " Sensitivity: 0.625 \n",
      " Specificity: 1.000 \n",
      "Run: 59\n",
      " Accuracy: 0.750 \n",
      " Sensitivity: 0.625 \n",
      " Specificity: 1.000 \n"
     ]
    },
    {
     "name": "stderr",
     "output_type": "stream",
     "text": [
      "C:\\Users\\fd299212\\anaconda3\\lib\\site-packages\\sklearn\\metrics\\_classification.py:1248: UndefinedMetricWarning: Precision and F-score are ill-defined and being set to 0.0 in labels with no predicted samples. Use `zero_division` parameter to control this behavior.\n",
      "  _warn_prf(average, modifier, msg_start, len(result))\n",
      "C:\\Users\\fd299212\\anaconda3\\lib\\site-packages\\sklearn\\metrics\\_classification.py:1248: UndefinedMetricWarning: Precision and F-score are ill-defined and being set to 0.0 in labels with no predicted samples. Use `zero_division` parameter to control this behavior.\n",
      "  _warn_prf(average, modifier, msg_start, len(result))\n",
      "C:\\Users\\fd299212\\anaconda3\\lib\\site-packages\\sklearn\\metrics\\_classification.py:1248: UndefinedMetricWarning: Precision and F-score are ill-defined and being set to 0.0 in labels with no predicted samples. Use `zero_division` parameter to control this behavior.\n",
      "  _warn_prf(average, modifier, msg_start, len(result))\n"
     ]
    },
    {
     "name": "stdout",
     "output_type": "stream",
     "text": [
      "Run: 60\n",
      " Accuracy: 0.562 \n",
      " Sensitivity: 0.556 \n",
      " Specificity: 1.000 \n",
      "Run: 61\n",
      " Accuracy: 0.562 \n",
      " Sensitivity: 0.625 \n",
      " Specificity: 0.625 \n",
      "Run: 62\n",
      " Accuracy: 0.812 \n",
      " Sensitivity: 1.000 \n",
      " Specificity: 1.000 \n",
      "Run: 63\n",
      " Accuracy: 0.562 \n",
      " Sensitivity: 0.667 \n",
      " Specificity: 0.857 \n",
      "Run: 64\n",
      " Accuracy: 0.750 \n",
      " Sensitivity: 0.778 \n",
      " Specificity: 1.000 \n",
      "Run: 65\n",
      " Accuracy: 0.625 \n",
      " Sensitivity: 0.889 \n",
      " Specificity: 1.000 \n",
      "Run: 66\n",
      " Accuracy: 0.625 \n",
      " Sensitivity: 0.750 \n",
      " Specificity: 1.000 \n",
      "Run: 67\n",
      " Accuracy: 0.625 \n",
      " Sensitivity: 0.667 \n",
      " Specificity: 0.857 \n",
      "Run: 68\n",
      " Accuracy: 0.750 \n",
      " Sensitivity: 0.750 \n",
      " Specificity: 1.000 \n",
      "Run: 69\n",
      " Accuracy: 0.688 \n",
      " Sensitivity: 0.889 \n",
      " Specificity: 0.857 \n"
     ]
    },
    {
     "name": "stderr",
     "output_type": "stream",
     "text": [
      "C:\\Users\\fd299212\\anaconda3\\lib\\site-packages\\sklearn\\metrics\\_classification.py:1248: UndefinedMetricWarning: Precision and F-score are ill-defined and being set to 0.0 in labels with no predicted samples. Use `zero_division` parameter to control this behavior.\n",
      "  _warn_prf(average, modifier, msg_start, len(result))\n",
      "C:\\Users\\fd299212\\anaconda3\\lib\\site-packages\\sklearn\\metrics\\_classification.py:1248: UndefinedMetricWarning: Precision and F-score are ill-defined and being set to 0.0 in labels with no predicted samples. Use `zero_division` parameter to control this behavior.\n",
      "  _warn_prf(average, modifier, msg_start, len(result))\n",
      "C:\\Users\\fd299212\\anaconda3\\lib\\site-packages\\sklearn\\metrics\\_classification.py:1248: UndefinedMetricWarning: Precision and F-score are ill-defined and being set to 0.0 in labels with no predicted samples. Use `zero_division` parameter to control this behavior.\n",
      "  _warn_prf(average, modifier, msg_start, len(result))\n"
     ]
    },
    {
     "name": "stdout",
     "output_type": "stream",
     "text": [
      "Run: 70\n",
      " Accuracy: 0.500 \n",
      " Sensitivity: 0.556 \n",
      " Specificity: 1.000 \n",
      "Run: 71\n",
      " Accuracy: 0.750 \n",
      " Sensitivity: 0.889 \n",
      " Specificity: 1.000 \n",
      "Run: 72\n",
      " Accuracy: 0.688 \n",
      " Sensitivity: 0.778 \n",
      " Specificity: 1.000 \n",
      "Run: 73\n",
      " Accuracy: 0.625 \n",
      " Sensitivity: 0.500 \n",
      " Specificity: 1.000 \n",
      "Run: 74\n",
      " Accuracy: 0.688 \n",
      " Sensitivity: 0.625 \n",
      " Specificity: 0.875 \n",
      "Run: 75\n",
      " Accuracy: 0.688 \n",
      " Sensitivity: 0.778 \n",
      " Specificity: 1.000 \n",
      "Run: 76\n",
      " Accuracy: 0.625 \n",
      " Sensitivity: 0.625 \n",
      " Specificity: 0.750 \n"
     ]
    },
    {
     "name": "stderr",
     "output_type": "stream",
     "text": [
      "C:\\Users\\fd299212\\anaconda3\\lib\\site-packages\\sklearn\\metrics\\_classification.py:1248: UndefinedMetricWarning: Precision and F-score are ill-defined and being set to 0.0 in labels with no predicted samples. Use `zero_division` parameter to control this behavior.\n",
      "  _warn_prf(average, modifier, msg_start, len(result))\n",
      "C:\\Users\\fd299212\\anaconda3\\lib\\site-packages\\sklearn\\metrics\\_classification.py:1248: UndefinedMetricWarning: Precision and F-score are ill-defined and being set to 0.0 in labels with no predicted samples. Use `zero_division` parameter to control this behavior.\n",
      "  _warn_prf(average, modifier, msg_start, len(result))\n",
      "C:\\Users\\fd299212\\anaconda3\\lib\\site-packages\\sklearn\\metrics\\_classification.py:1248: UndefinedMetricWarning: Precision and F-score are ill-defined and being set to 0.0 in labels with no predicted samples. Use `zero_division` parameter to control this behavior.\n",
      "  _warn_prf(average, modifier, msg_start, len(result))\n"
     ]
    },
    {
     "name": "stdout",
     "output_type": "stream",
     "text": [
      "Run: 77\n",
      " Accuracy: 0.688 \n",
      " Sensitivity: 0.500 \n",
      " Specificity: 1.000 \n",
      "Run: 78\n",
      " Accuracy: 0.625 \n",
      " Sensitivity: 0.667 \n",
      " Specificity: 1.000 \n"
     ]
    },
    {
     "name": "stderr",
     "output_type": "stream",
     "text": [
      "C:\\Users\\fd299212\\anaconda3\\lib\\site-packages\\sklearn\\metrics\\_classification.py:1248: UndefinedMetricWarning: Precision and F-score are ill-defined and being set to 0.0 in labels with no predicted samples. Use `zero_division` parameter to control this behavior.\n",
      "  _warn_prf(average, modifier, msg_start, len(result))\n",
      "C:\\Users\\fd299212\\anaconda3\\lib\\site-packages\\sklearn\\metrics\\_classification.py:1248: UndefinedMetricWarning: Precision and F-score are ill-defined and being set to 0.0 in labels with no predicted samples. Use `zero_division` parameter to control this behavior.\n",
      "  _warn_prf(average, modifier, msg_start, len(result))\n",
      "C:\\Users\\fd299212\\anaconda3\\lib\\site-packages\\sklearn\\metrics\\_classification.py:1248: UndefinedMetricWarning: Precision and F-score are ill-defined and being set to 0.0 in labels with no predicted samples. Use `zero_division` parameter to control this behavior.\n",
      "  _warn_prf(average, modifier, msg_start, len(result))\n"
     ]
    },
    {
     "name": "stdout",
     "output_type": "stream",
     "text": [
      "Run: 79\n",
      " Accuracy: 0.750 \n",
      " Sensitivity: 0.875 \n",
      " Specificity: 0.875 \n",
      "Run: 80\n",
      " Accuracy: 0.750 \n",
      " Sensitivity: 0.750 \n",
      " Specificity: 1.000 \n",
      "Run: 81\n",
      " Accuracy: 0.750 \n",
      " Sensitivity: 0.750 \n",
      " Specificity: 1.000 \n",
      "Run: 82\n",
      " Accuracy: 0.875 \n",
      " Sensitivity: 0.750 \n",
      " Specificity: 1.000 \n",
      "Run: 83\n",
      " Accuracy: 0.875 \n",
      " Sensitivity: 0.875 \n",
      " Specificity: 1.000 \n",
      "Run: 84\n",
      " Accuracy: 0.688 \n",
      " Sensitivity: 0.778 \n",
      " Specificity: 1.000 \n"
     ]
    },
    {
     "name": "stderr",
     "output_type": "stream",
     "text": [
      "C:\\Users\\fd299212\\anaconda3\\lib\\site-packages\\sklearn\\metrics\\_classification.py:1248: UndefinedMetricWarning: Precision and F-score are ill-defined and being set to 0.0 in labels with no predicted samples. Use `zero_division` parameter to control this behavior.\n",
      "  _warn_prf(average, modifier, msg_start, len(result))\n",
      "C:\\Users\\fd299212\\anaconda3\\lib\\site-packages\\sklearn\\metrics\\_classification.py:1248: UndefinedMetricWarning: Precision and F-score are ill-defined and being set to 0.0 in labels with no predicted samples. Use `zero_division` parameter to control this behavior.\n",
      "  _warn_prf(average, modifier, msg_start, len(result))\n",
      "C:\\Users\\fd299212\\anaconda3\\lib\\site-packages\\sklearn\\metrics\\_classification.py:1248: UndefinedMetricWarning: Precision and F-score are ill-defined and being set to 0.0 in labels with no predicted samples. Use `zero_division` parameter to control this behavior.\n",
      "  _warn_prf(average, modifier, msg_start, len(result))\n"
     ]
    },
    {
     "name": "stdout",
     "output_type": "stream",
     "text": [
      "Run: 85\n",
      " Accuracy: 0.688 \n",
      " Sensitivity: 0.750 \n",
      " Specificity: 1.000 \n",
      "Run: 86\n",
      " Accuracy: 0.875 \n",
      " Sensitivity: 0.889 \n",
      " Specificity: 1.000 \n"
     ]
    },
    {
     "name": "stderr",
     "output_type": "stream",
     "text": [
      "C:\\Users\\fd299212\\anaconda3\\lib\\site-packages\\sklearn\\metrics\\_classification.py:1248: UndefinedMetricWarning: Precision and F-score are ill-defined and being set to 0.0 in labels with no predicted samples. Use `zero_division` parameter to control this behavior.\n",
      "  _warn_prf(average, modifier, msg_start, len(result))\n",
      "C:\\Users\\fd299212\\anaconda3\\lib\\site-packages\\sklearn\\metrics\\_classification.py:1248: UndefinedMetricWarning: Precision and F-score are ill-defined and being set to 0.0 in labels with no predicted samples. Use `zero_division` parameter to control this behavior.\n",
      "  _warn_prf(average, modifier, msg_start, len(result))\n",
      "C:\\Users\\fd299212\\anaconda3\\lib\\site-packages\\sklearn\\metrics\\_classification.py:1248: UndefinedMetricWarning: Precision and F-score are ill-defined and being set to 0.0 in labels with no predicted samples. Use `zero_division` parameter to control this behavior.\n",
      "  _warn_prf(average, modifier, msg_start, len(result))\n"
     ]
    },
    {
     "name": "stdout",
     "output_type": "stream",
     "text": [
      "Run: 87\n",
      " Accuracy: 0.750 \n",
      " Sensitivity: 0.625 \n",
      " Specificity: 1.000 \n"
     ]
    },
    {
     "name": "stderr",
     "output_type": "stream",
     "text": [
      "C:\\Users\\fd299212\\anaconda3\\lib\\site-packages\\sklearn\\metrics\\_classification.py:1248: UndefinedMetricWarning: Precision and F-score are ill-defined and being set to 0.0 in labels with no predicted samples. Use `zero_division` parameter to control this behavior.\n",
      "  _warn_prf(average, modifier, msg_start, len(result))\n",
      "C:\\Users\\fd299212\\anaconda3\\lib\\site-packages\\sklearn\\metrics\\_classification.py:1248: UndefinedMetricWarning: Precision and F-score are ill-defined and being set to 0.0 in labels with no predicted samples. Use `zero_division` parameter to control this behavior.\n",
      "  _warn_prf(average, modifier, msg_start, len(result))\n",
      "C:\\Users\\fd299212\\anaconda3\\lib\\site-packages\\sklearn\\metrics\\_classification.py:1248: UndefinedMetricWarning: Precision and F-score are ill-defined and being set to 0.0 in labels with no predicted samples. Use `zero_division` parameter to control this behavior.\n",
      "  _warn_prf(average, modifier, msg_start, len(result))\n"
     ]
    },
    {
     "name": "stdout",
     "output_type": "stream",
     "text": [
      "Run: 88\n",
      " Accuracy: 0.625 \n",
      " Sensitivity: 0.556 \n",
      " Specificity: 1.000 \n",
      "Run: 89\n",
      " Accuracy: 0.688 \n",
      " Sensitivity: 0.750 \n",
      " Specificity: 1.000 \n"
     ]
    },
    {
     "name": "stderr",
     "output_type": "stream",
     "text": [
      "C:\\Users\\fd299212\\anaconda3\\lib\\site-packages\\sklearn\\metrics\\_classification.py:1248: UndefinedMetricWarning: Precision and F-score are ill-defined and being set to 0.0 in labels with no predicted samples. Use `zero_division` parameter to control this behavior.\n",
      "  _warn_prf(average, modifier, msg_start, len(result))\n",
      "C:\\Users\\fd299212\\anaconda3\\lib\\site-packages\\sklearn\\metrics\\_classification.py:1248: UndefinedMetricWarning: Precision and F-score are ill-defined and being set to 0.0 in labels with no predicted samples. Use `zero_division` parameter to control this behavior.\n",
      "  _warn_prf(average, modifier, msg_start, len(result))\n",
      "C:\\Users\\fd299212\\anaconda3\\lib\\site-packages\\sklearn\\metrics\\_classification.py:1248: UndefinedMetricWarning: Precision and F-score are ill-defined and being set to 0.0 in labels with no predicted samples. Use `zero_division` parameter to control this behavior.\n",
      "  _warn_prf(average, modifier, msg_start, len(result))\n"
     ]
    },
    {
     "name": "stdout",
     "output_type": "stream",
     "text": [
      "Run: 90\n",
      " Accuracy: 0.750 \n",
      " Sensitivity: 0.778 \n",
      " Specificity: 1.000 \n",
      "Run: 91\n",
      " Accuracy: 0.688 \n",
      " Sensitivity: 0.750 \n",
      " Specificity: 1.000 \n"
     ]
    },
    {
     "name": "stderr",
     "output_type": "stream",
     "text": [
      "C:\\Users\\fd299212\\anaconda3\\lib\\site-packages\\sklearn\\metrics\\_classification.py:1248: UndefinedMetricWarning: Precision and F-score are ill-defined and being set to 0.0 in labels with no predicted samples. Use `zero_division` parameter to control this behavior.\n",
      "  _warn_prf(average, modifier, msg_start, len(result))\n",
      "C:\\Users\\fd299212\\anaconda3\\lib\\site-packages\\sklearn\\metrics\\_classification.py:1248: UndefinedMetricWarning: Precision and F-score are ill-defined and being set to 0.0 in labels with no predicted samples. Use `zero_division` parameter to control this behavior.\n",
      "  _warn_prf(average, modifier, msg_start, len(result))\n",
      "C:\\Users\\fd299212\\anaconda3\\lib\\site-packages\\sklearn\\metrics\\_classification.py:1248: UndefinedMetricWarning: Precision and F-score are ill-defined and being set to 0.0 in labels with no predicted samples. Use `zero_division` parameter to control this behavior.\n",
      "  _warn_prf(average, modifier, msg_start, len(result))\n"
     ]
    },
    {
     "name": "stdout",
     "output_type": "stream",
     "text": [
      "Run: 92\n",
      " Accuracy: 0.750 \n",
      " Sensitivity: 0.556 \n",
      " Specificity: 1.000 \n",
      "Run: 93\n",
      " Accuracy: 0.625 \n",
      " Sensitivity: 0.667 \n",
      " Specificity: 0.857 \n",
      "Run: 94\n",
      " Accuracy: 0.688 \n",
      " Sensitivity: 0.778 \n",
      " Specificity: 0.857 \n"
     ]
    },
    {
     "name": "stderr",
     "output_type": "stream",
     "text": [
      "C:\\Users\\fd299212\\anaconda3\\lib\\site-packages\\sklearn\\metrics\\_classification.py:1248: UndefinedMetricWarning: Precision and F-score are ill-defined and being set to 0.0 in labels with no predicted samples. Use `zero_division` parameter to control this behavior.\n",
      "  _warn_prf(average, modifier, msg_start, len(result))\n",
      "C:\\Users\\fd299212\\anaconda3\\lib\\site-packages\\sklearn\\metrics\\_classification.py:1248: UndefinedMetricWarning: Precision and F-score are ill-defined and being set to 0.0 in labels with no predicted samples. Use `zero_division` parameter to control this behavior.\n",
      "  _warn_prf(average, modifier, msg_start, len(result))\n",
      "C:\\Users\\fd299212\\anaconda3\\lib\\site-packages\\sklearn\\metrics\\_classification.py:1248: UndefinedMetricWarning: Precision and F-score are ill-defined and being set to 0.0 in labels with no predicted samples. Use `zero_division` parameter to control this behavior.\n",
      "  _warn_prf(average, modifier, msg_start, len(result))\n"
     ]
    },
    {
     "name": "stdout",
     "output_type": "stream",
     "text": [
      "Run: 95\n",
      " Accuracy: 0.562 \n",
      " Sensitivity: 0.625 \n",
      " Specificity: 1.000 \n",
      "Run: 96\n",
      " Accuracy: 0.562 \n",
      " Sensitivity: 0.625 \n",
      " Specificity: 1.000 \n"
     ]
    },
    {
     "name": "stderr",
     "output_type": "stream",
     "text": [
      "C:\\Users\\fd299212\\anaconda3\\lib\\site-packages\\sklearn\\metrics\\_classification.py:1248: UndefinedMetricWarning: Precision and F-score are ill-defined and being set to 0.0 in labels with no predicted samples. Use `zero_division` parameter to control this behavior.\n",
      "  _warn_prf(average, modifier, msg_start, len(result))\n",
      "C:\\Users\\fd299212\\anaconda3\\lib\\site-packages\\sklearn\\metrics\\_classification.py:1248: UndefinedMetricWarning: Precision and F-score are ill-defined and being set to 0.0 in labels with no predicted samples. Use `zero_division` parameter to control this behavior.\n",
      "  _warn_prf(average, modifier, msg_start, len(result))\n",
      "C:\\Users\\fd299212\\anaconda3\\lib\\site-packages\\sklearn\\metrics\\_classification.py:1248: UndefinedMetricWarning: Precision and F-score are ill-defined and being set to 0.0 in labels with no predicted samples. Use `zero_division` parameter to control this behavior.\n",
      "  _warn_prf(average, modifier, msg_start, len(result))\n"
     ]
    },
    {
     "name": "stdout",
     "output_type": "stream",
     "text": [
      "Run: 97\n",
      " Accuracy: 0.812 \n",
      " Sensitivity: 0.667 \n",
      " Specificity: 1.000 \n",
      "Run: 98\n",
      " Accuracy: 0.625 \n",
      " Sensitivity: 0.778 \n",
      " Specificity: 1.000 \n"
     ]
    },
    {
     "name": "stderr",
     "output_type": "stream",
     "text": [
      "C:\\Users\\fd299212\\anaconda3\\lib\\site-packages\\sklearn\\metrics\\_classification.py:1248: UndefinedMetricWarning: Precision and F-score are ill-defined and being set to 0.0 in labels with no predicted samples. Use `zero_division` parameter to control this behavior.\n",
      "  _warn_prf(average, modifier, msg_start, len(result))\n",
      "C:\\Users\\fd299212\\anaconda3\\lib\\site-packages\\sklearn\\metrics\\_classification.py:1248: UndefinedMetricWarning: Precision and F-score are ill-defined and being set to 0.0 in labels with no predicted samples. Use `zero_division` parameter to control this behavior.\n",
      "  _warn_prf(average, modifier, msg_start, len(result))\n",
      "C:\\Users\\fd299212\\anaconda3\\lib\\site-packages\\sklearn\\metrics\\_classification.py:1248: UndefinedMetricWarning: Precision and F-score are ill-defined and being set to 0.0 in labels with no predicted samples. Use `zero_division` parameter to control this behavior.\n",
      "  _warn_prf(average, modifier, msg_start, len(result))\n"
     ]
    },
    {
     "name": "stdout",
     "output_type": "stream",
     "text": [
      "Run: 99\n",
      " Accuracy: 0.750 \n",
      " Sensitivity: 0.889 \n",
      " Specificity: 1.000 \n",
      "Run: 100\n",
      " Accuracy: 0.688 \n",
      " Sensitivity: 0.500 \n",
      " Specificity: 1.000 \n",
      "\n",
      "Average Results:\n",
      "Average Accuracy: 0.692 \n",
      "Average Sensitivity: 0.708 \n",
      "Average Specificity: 0.961 \n"
     ]
    },
    {
     "name": "stderr",
     "output_type": "stream",
     "text": [
      "C:\\Users\\fd299212\\anaconda3\\lib\\site-packages\\sklearn\\metrics\\_classification.py:1248: UndefinedMetricWarning: Precision and F-score are ill-defined and being set to 0.0 in labels with no predicted samples. Use `zero_division` parameter to control this behavior.\n",
      "  _warn_prf(average, modifier, msg_start, len(result))\n",
      "C:\\Users\\fd299212\\anaconda3\\lib\\site-packages\\sklearn\\metrics\\_classification.py:1248: UndefinedMetricWarning: Precision and F-score are ill-defined and being set to 0.0 in labels with no predicted samples. Use `zero_division` parameter to control this behavior.\n",
      "  _warn_prf(average, modifier, msg_start, len(result))\n",
      "C:\\Users\\fd299212\\anaconda3\\lib\\site-packages\\sklearn\\metrics\\_classification.py:1248: UndefinedMetricWarning: Precision and F-score are ill-defined and being set to 0.0 in labels with no predicted samples. Use `zero_division` parameter to control this behavior.\n",
      "  _warn_prf(average, modifier, msg_start, len(result))\n"
     ]
    }
   ],
   "source": [
    "#note, it is not unusual to get warning messages based on some of the specific test/train split groupings\n",
    "from sklearn import metrics \n",
    "accuracy_sum = 0\n",
    "sensitivity_sum = 0\n",
    "specificity_sum = 0\n",
    "count = 100\n",
    "classes=['Negative','PosEarlyAcute','PosEarlyConv','PosLate']\n",
    "new_model = RandomForestClassifier(n_estimators=desired_estimators)\n",
    "for n in range(1, count+1):\n",
    "    X_tr, X_te, y_tr, y_te = train_test_split(X, y, test_size = 0.25, stratify=y)       \n",
    "    new_model.fit(X_tr, y_tr)\n",
    "    yh = new_model.predict(X_te)\n",
    "    cr = classification_report(y_te, yh, output_dict=True)\n",
    "    cnf_matrix = confusion_matrix(y_te, yh)\n",
    "    \n",
    "    \n",
    "    curr_accuracy = metrics.accuracy_score(y_te,yh)\n",
    "    #the code below derives TP/FP/TN/FN values from the multiclass confusion matrix by ignoring \n",
    "    #misclassification of positive subclasses   \n",
    "    curr_false_pos = cnf_matrix.sum(axis=1)[0]-cnf_matrix[0][0]\n",
    "    curr_false_neg = cnf_matrix.sum(axis=0)[0]-cnf_matrix[0][0]\n",
    "    curr_true_neg = cnf_matrix[0][0]\n",
    "    curr_true_pos = cnf_matrix.sum()-(curr_false_pos+curr_false_neg+curr_true_neg)    \n",
    "        \n",
    "    curr_sensitivity = curr_true_pos/(curr_true_pos+curr_false_neg)\n",
    "    \n",
    "    curr_specificity = cr[\"Neg\"][\"recall\"]\n",
    "    print(\"Run: %d\" % (n))\n",
    "    print(' Accuracy: %.3f ' % (curr_accuracy))\n",
    "    print(' Sensitivity: %.3f ' % (curr_sensitivity))\n",
    "    print(' Specificity: %.3f ' % (curr_specificity))\n",
    "    \n",
    "    #rows = y_te.index\n",
    "    #format_probabilities(yps , classes, rows)\n",
    "    \n",
    "    sensitivity_sum = sensitivity_sum + curr_sensitivity\n",
    "    specificity_sum = specificity_sum + curr_specificity\n",
    "    accuracy_sum = accuracy_sum + curr_accuracy\n",
    "    \n",
    "\n",
    "average_accuracy = accuracy_sum/count\n",
    "average_sensitivity = sensitivity_sum/count\n",
    "average_specificity = specificity_sum/count\n",
    "print('')\n",
    "print('Average Results:')\n",
    "print('Average Accuracy: %.3f ' % (average_accuracy))\n",
    "print('Average Sensitivity: %.3f ' % (average_sensitivity))\n",
    "print('Average Specificity: %.3f ' % (average_specificity))"
   ]
  },
  {
   "cell_type": "code",
   "execution_count": 22,
   "id": "9d40f3ed",
   "metadata": {},
   "outputs": [
    {
     "data": {
      "text/plain": [
       "153"
      ]
     },
     "execution_count": 22,
     "metadata": {},
     "output_type": "execute_result"
    }
   ],
   "source": [
    "\n"
   ]
  },
  {
   "cell_type": "code",
   "execution_count": null,
   "id": "f8d10bbb",
   "metadata": {},
   "outputs": [],
   "source": []
  }
 ],
 "metadata": {
  "kernelspec": {
   "display_name": "Python 3 (ipykernel)",
   "language": "python",
   "name": "python3"
  },
  "language_info": {
   "codemirror_mode": {
    "name": "ipython",
    "version": 3
   },
   "file_extension": ".py",
   "mimetype": "text/x-python",
   "name": "python",
   "nbconvert_exporter": "python",
   "pygments_lexer": "ipython3",
   "version": "3.9.7"
  }
 },
 "nbformat": 4,
 "nbformat_minor": 5
}
