{
 "cells": [
  {
   "cell_type": "code",
   "execution_count": 1,
   "id": "a853139b",
   "metadata": {},
   "outputs": [],
   "source": [
    "import numpy as np\n",
    "import matplotlib.pyplot as plt\n",
    "import pandas as pd\n",
    "import numpy as np\n",
    "from sklearn import preprocessing\n",
    "%matplotlib inline"
   ]
  },
  {
   "cell_type": "code",
   "execution_count": 2,
   "id": "b9b48a7a",
   "metadata": {},
   "outputs": [
    {
     "data": {
      "text/plain": [
       "'C:\\\\Users\\\\fd299212'"
      ]
     },
     "execution_count": 2,
     "metadata": {},
     "output_type": "execute_result"
    }
   ],
   "source": [
    "import os\n",
    "os.getcwd()\n"
   ]
  },
  {
   "cell_type": "code",
   "execution_count": 3,
   "id": "e6e8dc22",
   "metadata": {},
   "outputs": [
    {
     "data": {
      "text/html": [
       "<div>\n",
       "<style scoped>\n",
       "    .dataframe tbody tr th:only-of-type {\n",
       "        vertical-align: middle;\n",
       "    }\n",
       "\n",
       "    .dataframe tbody tr th {\n",
       "        vertical-align: top;\n",
       "    }\n",
       "\n",
       "    .dataframe thead th {\n",
       "        text-align: right;\n",
       "    }\n",
       "</style>\n",
       "<table border=\"1\" class=\"dataframe\">\n",
       "  <thead>\n",
       "    <tr style=\"text-align: right;\">\n",
       "      <th></th>\n",
       "      <th>ID</th>\n",
       "      <th>P100</th>\n",
       "      <th>P41</th>\n",
       "      <th>OspC</th>\n",
       "      <th>DbpA</th>\n",
       "      <th>BmpA</th>\n",
       "      <th>DbpB</th>\n",
       "      <th>P45</th>\n",
       "      <th>P58</th>\n",
       "      <th>P66</th>\n",
       "      <th>VlsE</th>\n",
       "      <th>ErpL</th>\n",
       "      <th>OspD</th>\n",
       "      <th>Diag</th>\n",
       "    </tr>\n",
       "  </thead>\n",
       "  <tbody>\n",
       "    <tr>\n",
       "      <th>0</th>\n",
       "      <td>R49#02</td>\n",
       "      <td>1.983017</td>\n",
       "      <td>2.176121</td>\n",
       "      <td>5.882121</td>\n",
       "      <td>1.738615</td>\n",
       "      <td>1.790831</td>\n",
       "      <td>3.950600</td>\n",
       "      <td>1.065420</td>\n",
       "      <td>1.938904</td>\n",
       "      <td>2.021073</td>\n",
       "      <td>12.455842</td>\n",
       "      <td>1.077889</td>\n",
       "      <td>1.784387</td>\n",
       "      <td>Pos - Late</td>\n",
       "    </tr>\n",
       "    <tr>\n",
       "      <th>1</th>\n",
       "      <td>R49#03</td>\n",
       "      <td>0.999950</td>\n",
       "      <td>2.920710</td>\n",
       "      <td>0.824318</td>\n",
       "      <td>8.279458</td>\n",
       "      <td>5.255024</td>\n",
       "      <td>3.925302</td>\n",
       "      <td>2.137922</td>\n",
       "      <td>9.256009</td>\n",
       "      <td>2.859532</td>\n",
       "      <td>9.868273</td>\n",
       "      <td>1.632559</td>\n",
       "      <td>1.639504</td>\n",
       "      <td>Pos - Late</td>\n",
       "    </tr>\n",
       "    <tr>\n",
       "      <th>2</th>\n",
       "      <td>R49#04</td>\n",
       "      <td>1.303573</td>\n",
       "      <td>2.653693</td>\n",
       "      <td>1.484388</td>\n",
       "      <td>11.072503</td>\n",
       "      <td>2.456271</td>\n",
       "      <td>9.749722</td>\n",
       "      <td>1.851222</td>\n",
       "      <td>3.669641</td>\n",
       "      <td>3.945022</td>\n",
       "      <td>11.615196</td>\n",
       "      <td>2.025580</td>\n",
       "      <td>1.568635</td>\n",
       "      <td>Pos - Late</td>\n",
       "    </tr>\n",
       "    <tr>\n",
       "      <th>3</th>\n",
       "      <td>R49#11</td>\n",
       "      <td>0.951188</td>\n",
       "      <td>1.917436</td>\n",
       "      <td>1.394031</td>\n",
       "      <td>1.197008</td>\n",
       "      <td>1.415143</td>\n",
       "      <td>2.359241</td>\n",
       "      <td>1.012177</td>\n",
       "      <td>1.321336</td>\n",
       "      <td>1.372410</td>\n",
       "      <td>4.370095</td>\n",
       "      <td>0.999341</td>\n",
       "      <td>1.308891</td>\n",
       "      <td>Pos - Early Conv</td>\n",
       "    </tr>\n",
       "    <tr>\n",
       "      <th>4</th>\n",
       "      <td>R49#12</td>\n",
       "      <td>1.117383</td>\n",
       "      <td>2.436597</td>\n",
       "      <td>2.284072</td>\n",
       "      <td>1.397075</td>\n",
       "      <td>1.373926</td>\n",
       "      <td>1.932654</td>\n",
       "      <td>1.233269</td>\n",
       "      <td>1.517965</td>\n",
       "      <td>1.648289</td>\n",
       "      <td>10.357989</td>\n",
       "      <td>1.230867</td>\n",
       "      <td>1.622813</td>\n",
       "      <td>Pos - Early Conv</td>\n",
       "    </tr>\n",
       "  </tbody>\n",
       "</table>\n",
       "</div>"
      ],
      "text/plain": [
       "       ID      P100       P41      OspC       DbpA      BmpA      DbpB  \\\n",
       "0  R49#02  1.983017  2.176121  5.882121   1.738615  1.790831  3.950600   \n",
       "1  R49#03  0.999950  2.920710  0.824318   8.279458  5.255024  3.925302   \n",
       "2  R49#04  1.303573  2.653693  1.484388  11.072503  2.456271  9.749722   \n",
       "3  R49#11  0.951188  1.917436  1.394031   1.197008  1.415143  2.359241   \n",
       "4  R49#12  1.117383  2.436597  2.284072   1.397075  1.373926  1.932654   \n",
       "\n",
       "        P45       P58       P66       VlsE      ErpL      OspD  \\\n",
       "0  1.065420  1.938904  2.021073  12.455842  1.077889  1.784387   \n",
       "1  2.137922  9.256009  2.859532   9.868273  1.632559  1.639504   \n",
       "2  1.851222  3.669641  3.945022  11.615196  2.025580  1.568635   \n",
       "3  1.012177  1.321336  1.372410   4.370095  0.999341  1.308891   \n",
       "4  1.233269  1.517965  1.648289  10.357989  1.230867  1.622813   \n",
       "\n",
       "               Diag  \n",
       "0        Pos - Late  \n",
       "1        Pos - Late  \n",
       "2        Pos - Late  \n",
       "3  Pos - Early Conv  \n",
       "4  Pos - Early Conv  "
      ]
     },
     "execution_count": 3,
     "metadata": {},
     "output_type": "execute_result"
    }
   ],
   "source": [
    "#df = pd.read_csv('C:\\\\Users\\\\fd299212\\\\Desktop\\\\lab_Stuff\\\\collaborations\\\\cady\\\\machineLearning\\\\lyme_data_nt.txt',sep='\\t')\n",
    "df = pd.read_csv('C:\\\\Users\\\\fd299212\\\\Desktop\\\\lab_Stuff\\\\collaborations\\\\cady\\\\machineLearning\\\\lyme_data_20220520.csv')\n",
    "df.head()"
   ]
  },
  {
   "cell_type": "code",
   "execution_count": 4,
   "id": "cdee2745",
   "metadata": {},
   "outputs": [
    {
     "data": {
      "text/plain": [
       "Neg                  30\n",
       "Pos - Early Conv     12\n",
       "Pos - Early Acute    12\n",
       "Pos - Late           10\n",
       "Name: Diag, dtype: int64"
      ]
     },
     "execution_count": 4,
     "metadata": {},
     "output_type": "execute_result"
    }
   ],
   "source": [
    "df['Diag'].value_counts()"
   ]
  },
  {
   "cell_type": "code",
   "execution_count": 6,
   "id": "be1435f5",
   "metadata": {},
   "outputs": [],
   "source": [
    "#df.hist(column='Hum IgG', bins=10)"
   ]
  },
  {
   "cell_type": "code",
   "execution_count": 7,
   "id": "4b4e072a",
   "metadata": {},
   "outputs": [
    {
     "data": {
      "text/plain": [
       "Index(['ID', 'P100', 'P41', 'OspC', 'DbpA', 'BmpA', 'DbpB', 'P45', 'P58',\n",
       "       'P66', 'VlsE', 'ErpL', 'OspD', 'Diag'],\n",
       "      dtype='object')"
      ]
     },
     "execution_count": 7,
     "metadata": {},
     "output_type": "execute_result"
    }
   ],
   "source": [
    "df.columns"
   ]
  },
  {
   "cell_type": "code",
   "execution_count": 8,
   "id": "b6bd19c5",
   "metadata": {},
   "outputs": [],
   "source": [
    "#dummy_variable_1 = pd.get_dummies(df[\"Diag\"])\n",
    "#dummy_variable_1.head()"
   ]
  },
  {
   "cell_type": "code",
   "execution_count": 9,
   "id": "6b5697c5",
   "metadata": {},
   "outputs": [],
   "source": [
    "#df = pd.concat([df,dummy_variable_1], axis=1)\n",
    "#df.drop(\"Diag\",axis = 1,inplace=True)"
   ]
  },
  {
   "cell_type": "code",
   "execution_count": 10,
   "id": "9c226b8d",
   "metadata": {},
   "outputs": [],
   "source": [
    "# Importing LabelEncoder from Sklearn\n",
    "# library from preprocessing Module.\n",
    "from sklearn.preprocessing import LabelEncoder\n",
    "# Creating a instance of label Encoder.\n",
    "le = LabelEncoder()\n",
    " \n",
    "# Using .fit_transform function to fit label\n",
    "# encoder and return encoded label\n",
    "label = le.fit_transform(df['Diag'])\n",
    " \n",
    "# printing label\n",
    "#label\n",
    "df[\"state\"]=label"
   ]
  },
  {
   "cell_type": "code",
   "execution_count": 11,
   "id": "cb574aca",
   "metadata": {},
   "outputs": [
    {
     "data": {
      "text/plain": [
       "array([3, 3, 3, 2, 2])"
      ]
     },
     "execution_count": 11,
     "metadata": {},
     "output_type": "execute_result"
    }
   ],
   "source": [
    "df.columns\n",
    "y = df['state'].values\n",
    "y[0:5]"
   ]
  },
  {
   "cell_type": "code",
   "execution_count": 22,
   "id": "9be5dbd2",
   "metadata": {},
   "outputs": [
    {
     "data": {
      "text/plain": [
       "array([[ 5.88212057,  1.73861454,  3.95060049,  1.93890358, 12.45584216,\n",
       "         1.07788947],\n",
       "       [ 0.82431779,  8.27945815,  3.92530155,  9.25600905,  9.86827322,\n",
       "         1.63255897],\n",
       "       [ 1.48438828, 11.07250259,  9.74972207,  3.66964123, 11.61519582,\n",
       "         2.02558011],\n",
       "       [ 1.39403148,  1.19700767,  2.35924062,  1.32133611,  4.37009458,\n",
       "         0.99934068],\n",
       "       [ 2.28407202,  1.39707483,  1.93265429,  1.51796498, 10.35798884,\n",
       "         1.23086668]])"
      ]
     },
     "execution_count": 22,
     "metadata": {},
     "output_type": "execute_result"
    }
   ],
   "source": [
    "#X = df[['Hum IgG', 'P100', 'P41', 'OspC', 'DbpA', 'BmpA', 'DbpB', 'P45',\n",
    "#       'P58', 'P66', 'VlsE', 'ErpL', 'OspD']].values\n",
    "#X = df[['P100', 'P41', 'OspC', 'DbpA', 'BmpA', 'DbpB', 'P45', 'P58', 'P66', 'VlsE', 'ErpL', 'OspD']].values\n",
    "X = df[['OspC', 'DbpA', 'DbpB', 'P58', 'VlsE', 'ErpL']].values\n",
    "\n",
    "X[0:5]"
   ]
  },
  {
   "cell_type": "code",
   "execution_count": 23,
   "id": "62fec434",
   "metadata": {},
   "outputs": [
    {
     "data": {
      "text/plain": [
       "array([[ 1.91807338, -0.26375664,  0.56816223, -0.23105999,  2.61592421,\n",
       "        -0.5546976 ],\n",
       "       [-0.32774603,  2.35800234,  0.55610723,  4.35997861,  1.90290827,\n",
       "         1.11784959],\n",
       "       [-0.0346545 ,  3.4775352 ,  3.3314574 ,  0.85487261,  2.38428043,\n",
       "         2.30296328],\n",
       "       [-0.07477569, -0.48084831, -0.19012452, -0.61854601,  0.38786108,\n",
       "        -0.79155315],\n",
       "       [ 0.32042958, -0.40065562, -0.39339391, -0.49517335,  2.03785155,\n",
       "        -0.09341099]])"
      ]
     },
     "execution_count": 23,
     "metadata": {},
     "output_type": "execute_result"
    }
   ],
   "source": [
    "#Data Standardization gives the data zero mean and unit variance, it is good practice, especially for algorithms such as KNN which is based on the distance of data points:\n",
    "X = preprocessing.StandardScaler().fit(X).transform(X.astype(float))\n",
    "X[0:5]"
   ]
  },
  {
   "cell_type": "code",
   "execution_count": 31,
   "id": "1f43c31d",
   "metadata": {},
   "outputs": [
    {
     "name": "stdout",
     "output_type": "stream",
     "text": [
      "Train set: (42, 6) (42,)\n",
      "Test set: (22, 6) (22,)\n"
     ]
    }
   ],
   "source": [
    "from sklearn.model_selection import train_test_split\n",
    "#to provide rnd seed, use \"random_state=\"\n",
    "X_train, X_test, y_train, y_test = train_test_split( X, y, test_size=0.33, stratify=y, random_state=42)\n",
    "print ('Train set:', X_train.shape,  y_train.shape)\n",
    "print ('Test set:', X_test.shape,  y_test.shape)"
   ]
  },
  {
   "cell_type": "code",
   "execution_count": 32,
   "id": "75f7aaa8",
   "metadata": {},
   "outputs": [],
   "source": [
    "from sklearn.neighbors import KNeighborsClassifier"
   ]
  },
  {
   "cell_type": "code",
   "execution_count": 33,
   "id": "1139466b",
   "metadata": {},
   "outputs": [
    {
     "data": {
      "text/plain": [
       "KNeighborsClassifier(n_neighbors=4)"
      ]
     },
     "execution_count": 33,
     "metadata": {},
     "output_type": "execute_result"
    }
   ],
   "source": [
    "k = 4\n",
    "#Train Model and Predict  \n",
    "neigh = KNeighborsClassifier(n_neighbors = k).fit(X_train,y_train)\n",
    "neigh"
   ]
  },
  {
   "cell_type": "code",
   "execution_count": 34,
   "id": "d7ee3b0d",
   "metadata": {},
   "outputs": [
    {
     "name": "stdout",
     "output_type": "stream",
     "text": [
      "[0 3 2 2 3]\n",
      "[0 2 2 1 3]\n"
     ]
    }
   ],
   "source": [
    "yhat = neigh.predict(X_test)\n",
    "print(yhat[0:5])\n",
    "print(y_test[0:5])"
   ]
  },
  {
   "cell_type": "code",
   "execution_count": 35,
   "id": "8a5cce9e",
   "metadata": {},
   "outputs": [
    {
     "name": "stdout",
     "output_type": "stream",
     "text": [
      "Train set Accuracy:  0.7380952380952381\n",
      "Test set Accuracy:  0.6818181818181818\n"
     ]
    }
   ],
   "source": [
    "from sklearn import metrics\n",
    "print(\"Train set Accuracy: \", metrics.accuracy_score(y_train, neigh.predict(X_train)))\n",
    "print(\"Test set Accuracy: \", metrics.accuracy_score(y_test, yhat))"
   ]
  },
  {
   "cell_type": "code",
   "execution_count": 36,
   "id": "3a5728e2",
   "metadata": {},
   "outputs": [
    {
     "data": {
      "text/plain": [
       "array([0.63636364, 0.72727273, 0.72727273, 0.68181818, 0.72727273,\n",
       "       0.72727273, 0.72727273, 0.72727273, 0.72727273])"
      ]
     },
     "execution_count": 36,
     "metadata": {},
     "output_type": "execute_result"
    }
   ],
   "source": [
    "Ks = 10\n",
    "mean_acc = np.zeros((Ks-1))\n",
    "std_acc = np.zeros((Ks-1))\n",
    "\n",
    "for n in range(1,Ks):\n",
    "    \n",
    "    #Train Model and Predict  \n",
    "    neigh = KNeighborsClassifier(n_neighbors = n).fit(X_train,y_train)\n",
    "    yhat=neigh.predict(X_test)\n",
    "    mean_acc[n-1] = metrics.accuracy_score(y_test, yhat)\n",
    "\n",
    "    \n",
    "    std_acc[n-1]=np.std(yhat==y_test)/np.sqrt(yhat.shape[0])\n",
    "\n",
    "mean_acc"
   ]
  },
  {
   "cell_type": "code",
   "execution_count": 37,
   "id": "46822553",
   "metadata": {},
   "outputs": [
    {
     "data": {
      "image/png": "[encoded data removed]",
      "text/plain": [
       "<Figure size 432x288 with 1 Axes>"
      ]
     },
     "metadata": {
      "needs_background": "light"
     },
     "output_type": "display_data"
    },
    {
     "name": "stdout",
     "output_type": "stream",
     "text": [
      "The best accuracy was with 0.7272727272727273 with k= 2\n"
     ]
    }
   ],
   "source": [
    "plt.plot(range(1,Ks),mean_acc,'g')\n",
    "plt.fill_between(range(1,Ks),mean_acc - 1 * std_acc,mean_acc + 1 * std_acc, alpha=0.10)\n",
    "plt.fill_between(range(1,Ks),mean_acc - 3 * std_acc,mean_acc + 3 * std_acc, alpha=0.10,color=\"green\")\n",
    "plt.legend(('Accuracy ', '+/- 1xstd','+/- 3xstd'))\n",
    "plt.ylabel('Accuracy ')\n",
    "plt.xlabel('Number of Neighbors (K)')\n",
    "plt.tight_layout()\n",
    "plt.show()\n",
    "print( \"The best accuracy was with\", mean_acc.max(), \"with k=\", mean_acc.argmax()+1)"
   ]
  },
  {
   "cell_type": "code",
   "execution_count": null,
   "id": "44e93290",
   "metadata": {},
   "outputs": [],
   "source": []
  },
  {
   "cell_type": "code",
   "execution_count": null,
   "id": "7b30dfe8",
   "metadata": {},
   "outputs": [],
   "source": []
  }
 ],
 "metadata": {
  "kernelspec": {
   "display_name": "Python 3 (ipykernel)",
   "language": "python",
   "name": "python3"
  },
  "language_info": {
   "codemirror_mode": {
    "name": "ipython",
    "version": 3
   },
   "file_extension": ".py",
   "mimetype": "text/x-python",
   "name": "python",
   "nbconvert_exporter": "python",
   "pygments_lexer": "ipython3",
   "version": "3.9.7"
  }
 },
 "nbformat": 4,
 "nbformat_minor": 5
}
