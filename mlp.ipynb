{
 "cells": [
  {
   "cell_type": "code",
   "execution_count": 24,
   "id": "a853139b",
   "metadata": {},
   "outputs": [],
   "source": [
    "import pandas as pd  \n",
    "import numpy as np  \n",
    "from sklearn.svm import SVC  \n",
    "from sklearn.metrics import classification_report, confusion_matrix  \n",
    "import matplotlib.pyplot as plt\n",
    "%matplotlib inline"
   ]
  },
  {
   "cell_type": "code",
   "execution_count": 25,
   "id": "e6e8dc22",
   "metadata": {},
   "outputs": [
    {
     "data": {
      "text/html": [
       "<div>\n",
       "<style scoped>\n",
       "    .dataframe tbody tr th:only-of-type {\n",
       "        vertical-align: middle;\n",
       "    }\n",
       "\n",
       "    .dataframe tbody tr th {\n",
       "        vertical-align: top;\n",
       "    }\n",
       "\n",
       "    .dataframe thead th {\n",
       "        text-align: right;\n",
       "    }\n",
       "</style>\n",
       "<table border=\"1\" class=\"dataframe\">\n",
       "  <thead>\n",
       "    <tr style=\"text-align: right;\">\n",
       "      <th></th>\n",
       "      <th>ID</th>\n",
       "      <th>P100</th>\n",
       "      <th>P41</th>\n",
       "      <th>OspC</th>\n",
       "      <th>DbpA</th>\n",
       "      <th>BmpA</th>\n",
       "      <th>DbpB</th>\n",
       "      <th>P45</th>\n",
       "      <th>P58</th>\n",
       "      <th>P66</th>\n",
       "      <th>VlsE</th>\n",
       "      <th>ErpL</th>\n",
       "      <th>OspD</th>\n",
       "      <th>Diag</th>\n",
       "    </tr>\n",
       "  </thead>\n",
       "  <tbody>\n",
       "    <tr>\n",
       "      <th>0</th>\n",
       "      <td>R49#02</td>\n",
       "      <td>1.983017</td>\n",
       "      <td>2.176121</td>\n",
       "      <td>5.882121</td>\n",
       "      <td>1.738615</td>\n",
       "      <td>1.790831</td>\n",
       "      <td>3.950600</td>\n",
       "      <td>1.065420</td>\n",
       "      <td>1.938904</td>\n",
       "      <td>2.021073</td>\n",
       "      <td>12.455842</td>\n",
       "      <td>1.077889</td>\n",
       "      <td>1.784387</td>\n",
       "      <td>Pos - Late</td>\n",
       "    </tr>\n",
       "    <tr>\n",
       "      <th>1</th>\n",
       "      <td>R49#03</td>\n",
       "      <td>0.999950</td>\n",
       "      <td>2.920710</td>\n",
       "      <td>0.824318</td>\n",
       "      <td>8.279458</td>\n",
       "      <td>5.255024</td>\n",
       "      <td>3.925302</td>\n",
       "      <td>2.137922</td>\n",
       "      <td>9.256009</td>\n",
       "      <td>2.859532</td>\n",
       "      <td>9.868273</td>\n",
       "      <td>1.632559</td>\n",
       "      <td>1.639504</td>\n",
       "      <td>Pos - Late</td>\n",
       "    </tr>\n",
       "    <tr>\n",
       "      <th>2</th>\n",
       "      <td>R49#04</td>\n",
       "      <td>1.303573</td>\n",
       "      <td>2.653693</td>\n",
       "      <td>1.484388</td>\n",
       "      <td>11.072503</td>\n",
       "      <td>2.456271</td>\n",
       "      <td>9.749722</td>\n",
       "      <td>1.851222</td>\n",
       "      <td>3.669641</td>\n",
       "      <td>3.945022</td>\n",
       "      <td>11.615196</td>\n",
       "      <td>2.025580</td>\n",
       "      <td>1.568635</td>\n",
       "      <td>Pos - Late</td>\n",
       "    </tr>\n",
       "    <tr>\n",
       "      <th>3</th>\n",
       "      <td>R49#11</td>\n",
       "      <td>0.951188</td>\n",
       "      <td>1.917436</td>\n",
       "      <td>1.394031</td>\n",
       "      <td>1.197008</td>\n",
       "      <td>1.415143</td>\n",
       "      <td>2.359241</td>\n",
       "      <td>1.012177</td>\n",
       "      <td>1.321336</td>\n",
       "      <td>1.372410</td>\n",
       "      <td>4.370095</td>\n",
       "      <td>0.999341</td>\n",
       "      <td>1.308891</td>\n",
       "      <td>Pos - Early Conv</td>\n",
       "    </tr>\n",
       "    <tr>\n",
       "      <th>4</th>\n",
       "      <td>R49#12</td>\n",
       "      <td>1.117383</td>\n",
       "      <td>2.436597</td>\n",
       "      <td>2.284072</td>\n",
       "      <td>1.397075</td>\n",
       "      <td>1.373926</td>\n",
       "      <td>1.932654</td>\n",
       "      <td>1.233269</td>\n",
       "      <td>1.517965</td>\n",
       "      <td>1.648289</td>\n",
       "      <td>10.357989</td>\n",
       "      <td>1.230867</td>\n",
       "      <td>1.622813</td>\n",
       "      <td>Pos - Early Conv</td>\n",
       "    </tr>\n",
       "  </tbody>\n",
       "</table>\n",
       "</div>"
      ],
      "text/plain": [
       "       ID      P100       P41      OspC       DbpA      BmpA      DbpB  \\\n",
       "0  R49#02  1.983017  2.176121  5.882121   1.738615  1.790831  3.950600   \n",
       "1  R49#03  0.999950  2.920710  0.824318   8.279458  5.255024  3.925302   \n",
       "2  R49#04  1.303573  2.653693  1.484388  11.072503  2.456271  9.749722   \n",
       "3  R49#11  0.951188  1.917436  1.394031   1.197008  1.415143  2.359241   \n",
       "4  R49#12  1.117383  2.436597  2.284072   1.397075  1.373926  1.932654   \n",
       "\n",
       "        P45       P58       P66       VlsE      ErpL      OspD  \\\n",
       "0  1.065420  1.938904  2.021073  12.455842  1.077889  1.784387   \n",
       "1  2.137922  9.256009  2.859532   9.868273  1.632559  1.639504   \n",
       "2  1.851222  3.669641  3.945022  11.615196  2.025580  1.568635   \n",
       "3  1.012177  1.321336  1.372410   4.370095  0.999341  1.308891   \n",
       "4  1.233269  1.517965  1.648289  10.357989  1.230867  1.622813   \n",
       "\n",
       "               Diag  \n",
       "0        Pos - Late  \n",
       "1        Pos - Late  \n",
       "2        Pos - Late  \n",
       "3  Pos - Early Conv  \n",
       "4  Pos - Early Conv  "
      ]
     },
     "execution_count": 25,
     "metadata": {},
     "output_type": "execute_result"
    }
   ],
   "source": [
    "df = pd.read_csv('C:\\\\Users\\\\fd299212\\\\Desktop\\\\lab_Stuff\\\\collaborations\\\\cady\\\\machineLearning\\\\lyme_data_20220520.csv')\n",
    "df.head()"
   ]
  },
  {
   "cell_type": "code",
   "execution_count": 26,
   "id": "cdee2745",
   "metadata": {},
   "outputs": [
    {
     "data": {
      "text/plain": [
       "Neg                  30\n",
       "Pos - Early Conv     12\n",
       "Pos - Early Acute    12\n",
       "Pos - Late           10\n",
       "Name: Diag, dtype: int64"
      ]
     },
     "execution_count": 26,
     "metadata": {},
     "output_type": "execute_result"
    }
   ],
   "source": [
    "df['Diag'].value_counts()"
   ]
  },
  {
   "cell_type": "code",
   "execution_count": 27,
   "id": "4b4e072a",
   "metadata": {},
   "outputs": [
    {
     "data": {
      "text/plain": [
       "Index(['ID', 'P100', 'P41', 'OspC', 'DbpA', 'BmpA', 'DbpB', 'P45', 'P58',\n",
       "       'P66', 'VlsE', 'ErpL', 'OspD', 'Diag'],\n",
       "      dtype='object')"
      ]
     },
     "execution_count": 27,
     "metadata": {},
     "output_type": "execute_result"
    }
   ],
   "source": [
    "df.columns"
   ]
  },
  {
   "cell_type": "code",
   "execution_count": 28,
   "id": "b6bd19c5",
   "metadata": {},
   "outputs": [],
   "source": [
    "#dummy_variable_1 = pd.get_dummies(df[\"Diag\"])\n",
    "#dummy_variable_1.head()"
   ]
  },
  {
   "cell_type": "code",
   "execution_count": 29,
   "id": "6b5697c5",
   "metadata": {},
   "outputs": [],
   "source": [
    "#df = pd.concat([df,dummy_variable_1], axis=1)\n",
    "#df.drop(\"Diag\",axis = 1,inplace=True)"
   ]
  },
  {
   "cell_type": "code",
   "execution_count": 30,
   "id": "9c226b8d",
   "metadata": {},
   "outputs": [],
   "source": [
    "# Importing LabelEncoder from Sklearn\n",
    "# library from preprocessing Module.\n",
    "from sklearn.preprocessing import LabelEncoder\n",
    "# Creating a instance of label Encoder.\n",
    "le = LabelEncoder()\n",
    " \n",
    "# Using .fit_transform function to fit label\n",
    "# encoder and return encoded label\n",
    "label = le.fit_transform(df['Diag'])\n",
    " \n",
    "# printing label\n",
    "#label\n",
    "df[\"state\"]=label"
   ]
  },
  {
   "cell_type": "code",
   "execution_count": 31,
   "id": "cb574aca",
   "metadata": {},
   "outputs": [
    {
     "data": {
      "text/plain": [
       "array([3, 3, 3, 2, 2])"
      ]
     },
     "execution_count": 31,
     "metadata": {},
     "output_type": "execute_result"
    }
   ],
   "source": [
    "df.columns\n",
    "y = df['state'].values\n",
    "y[0:5]"
   ]
  },
  {
   "cell_type": "code",
   "execution_count": 34,
   "id": "9be5dbd2",
   "metadata": {},
   "outputs": [
    {
     "data": {
      "text/plain": [
       "array([[12.45584216,  1.73861454,  1.93890358,  5.88212057,  1.07788947,\n",
       "         2.02107262],\n",
       "       [ 9.86827322,  8.27945815,  9.25600905,  0.82431779,  1.63255897,\n",
       "         2.85953154],\n",
       "       [11.61519582, 11.07250259,  3.66964123,  1.48438828,  2.02558011,\n",
       "         3.94502199],\n",
       "       [ 4.37009458,  1.19700767,  1.32133611,  1.39403148,  0.99934068,\n",
       "         1.3724105 ],\n",
       "       [10.35798884,  1.39707483,  1.51796498,  2.28407202,  1.23086668,\n",
       "         1.64828868]])"
      ]
     },
     "execution_count": 34,
     "metadata": {},
     "output_type": "execute_result"
    }
   ],
   "source": [
    "#X = df[['Hum IgG', 'P100', 'P41', 'OspC', 'DbpA', 'BmpA', 'DbpB', 'P45',\n",
    "#       'P58', 'P66', 'VlsE', 'ErpL', 'OspD']].values\n",
    "#X = df[['P100', 'P41', 'OspC', 'DbpA', 'BmpA', 'DbpB', 'P45', 'P58', 'P66', 'VlsE', 'ErpL', 'OspD']].values\n",
    "X = df[['VlsE', 'DbpA', 'P58', 'OspC','ErpL','P66']].values  \n",
    "\n",
    "X[0:5]"
   ]
  },
  {
   "cell_type": "code",
   "execution_count": 35,
   "id": "62fec434",
   "metadata": {},
   "outputs": [
    {
     "data": {
      "text/plain": [
       "array([[ 2.61592421, -0.26375664, -0.23105999,  1.91807338, -0.5546976 ,\n",
       "         0.50556666],\n",
       "       [ 1.90290827,  2.35800234,  4.35997861, -0.32774603,  1.11784959,\n",
       "         1.95119161],\n",
       "       [ 2.38428043,  3.4775352 ,  0.85487261, -0.0346545 ,  2.30296328,\n",
       "         3.82273481],\n",
       "       [ 0.38786108, -0.48084831, -0.61854601, -0.07477569, -0.79155315,\n",
       "        -0.61282106],\n",
       "       [ 2.03785155, -0.40065562, -0.49517335,  0.32042958, -0.09341099,\n",
       "        -0.13716699]])"
      ]
     },
     "execution_count": 35,
     "metadata": {},
     "output_type": "execute_result"
    }
   ],
   "source": [
    "from sklearn import preprocessing\n",
    "#Data Standardization gives the data zero mean and unit variance, it is good practice, especially for algorithms such as KNN which is based on the distance of data points:\n",
    "X = preprocessing.StandardScaler().fit(X).transform(X.astype(float))\n",
    "X[0:5]"
   ]
  },
  {
   "cell_type": "code",
   "execution_count": 36,
   "id": "1f43c31d",
   "metadata": {},
   "outputs": [
    {
     "name": "stdout",
     "output_type": "stream",
     "text": [
      "Train set: (44, 6) (44,)\n",
      "Test set: (20, 6) (20,)\n"
     ]
    }
   ],
   "source": [
    "from sklearn.model_selection import train_test_split\n",
    "#to provide rnd seed, use \"random_state=\"\n",
    "X_train, X_test, y_train, y_test = train_test_split( X, y, test_size=0.3, random_state=42, stratify=y)\n",
    "print ('Train set:', X_train.shape,  y_train.shape)\n",
    "print ('Test set:', X_test.shape,  y_test.shape)"
   ]
  },
  {
   "cell_type": "code",
   "execution_count": 37,
   "id": "75f7aaa8",
   "metadata": {},
   "outputs": [],
   "source": [
    "from sklearn.model_selection import GridSearchCV\n",
    "from sklearn.neural_network import MLPClassifier\n",
    "\n",
    "#clf = MLPClassifier(solver='lbfgs', alpha=1e-5, hidden_layer_sizes=(6,), random_state=1)\n",
    "#parameters = {'solver': ['lbfgs'], 'max_iter': [1000,1100,1200,1300,1400,1500,1600,1700,1800,1900,2000 ], 'alpha': 10.0 ** -np.arange(1, 10), 'hidden_layer_sizes':np.arange(10, 15), 'random_state':[0,1,2,3,4,5,6,7,8,9]}\n",
    "parameters = {'solver': ['lbfgs','sgd','adam'], 'hidden_layer_sizes':[6,8,10,12], 'max_iter': [2000], 'alpha': [.0001,.001,.01,.1,1] }\n",
    "grid = GridSearchCV(MLPClassifier(), parameters, n_jobs=-1)\n",
    "\n",
    " "
   ]
  },
  {
   "cell_type": "code",
   "execution_count": 38,
   "id": "07d071ef",
   "metadata": {},
   "outputs": [
    {
     "data": {
      "text/plain": [
       "GridSearchCV(estimator=MLPClassifier(), n_jobs=-1,\n",
       "             param_grid={'alpha': [0.0001, 0.001, 0.01, 0.1, 1],\n",
       "                         'hidden_layer_sizes': [6, 8, 10, 12],\n",
       "                         'max_iter': [2000],\n",
       "                         'solver': ['lbfgs', 'sgd', 'adam']})"
      ]
     },
     "execution_count": 38,
     "metadata": {},
     "output_type": "execute_result"
    }
   ],
   "source": [
    "grid.fit(X_train, y_train) "
   ]
  },
  {
   "cell_type": "code",
   "execution_count": 39,
   "id": "d4b5be85",
   "metadata": {},
   "outputs": [
    {
     "name": "stdout",
     "output_type": "stream",
     "text": [
      "MLPClassifier(alpha=0.01, hidden_layer_sizes=6, max_iter=2000)\n",
      "{'cv': None, 'error_score': nan, 'estimator__activation': 'relu', 'estimator__alpha': 0.0001, 'estimator__batch_size': 'auto', 'estimator__beta_1': 0.9, 'estimator__beta_2': 0.999, 'estimator__early_stopping': False, 'estimator__epsilon': 1e-08, 'estimator__hidden_layer_sizes': (100,), 'estimator__learning_rate': 'constant', 'estimator__learning_rate_init': 0.001, 'estimator__max_fun': 15000, 'estimator__max_iter': 200, 'estimator__momentum': 0.9, 'estimator__n_iter_no_change': 10, 'estimator__nesterovs_momentum': True, 'estimator__power_t': 0.5, 'estimator__random_state': None, 'estimator__shuffle': True, 'estimator__solver': 'adam', 'estimator__tol': 0.0001, 'estimator__validation_fraction': 0.1, 'estimator__verbose': False, 'estimator__warm_start': False, 'estimator': MLPClassifier(), 'n_jobs': -1, 'param_grid': {'solver': ['lbfgs', 'sgd', 'adam'], 'hidden_layer_sizes': [6, 8, 10, 12], 'max_iter': [2000], 'alpha': [0.0001, 0.001, 0.01, 0.1, 1]}, 'pre_dispatch': '2*n_jobs', 'refit': True, 'return_train_score': False, 'scoring': None, 'verbose': 0}\n"
     ]
    }
   ],
   "source": [
    "print(grid.best_estimator_)\n",
    "print(grid.get_params())"
   ]
  },
  {
   "cell_type": "code",
   "execution_count": 40,
   "id": "d7ee3b0d",
   "metadata": {},
   "outputs": [
    {
     "data": {
      "text/plain": [
       "0.9090909090909091"
      ]
     },
     "execution_count": 40,
     "metadata": {},
     "output_type": "execute_result"
    }
   ],
   "source": [
    "clf = grid.best_estimator_\n",
    "clf.score(X_train,y_train)"
   ]
  },
  {
   "cell_type": "code",
   "execution_count": 41,
   "id": "8a5cce9e",
   "metadata": {},
   "outputs": [
    {
     "name": "stdout",
     "output_type": "stream",
     "text": [
      "score on train data:  0.9090909090909091\n",
      "score on test data:  0.6\n"
     ]
    }
   ],
   "source": [
    "from sklearn.metrics import accuracy_score\n",
    "\n",
    "predictions_train = clf.predict(X_train)\n",
    "predictions_test = clf.predict(X_test)\n",
    "train_score = accuracy_score(predictions_train, y_train)\n",
    "print(\"score on train data: \", train_score)\n",
    "test_score = accuracy_score(predictions_test, y_test)\n",
    "print(\"score on test data: \", test_score)\n"
   ]
  },
  {
   "cell_type": "code",
   "execution_count": 42,
   "id": "3a5728e2",
   "metadata": {},
   "outputs": [
    {
     "name": "stdout",
     "output_type": "stream",
     "text": [
      "Training confusion matrix:\n"
     ]
    },
    {
     "data": {
      "text/plain": [
       "array([[21,  1,  1,  0],\n",
       "       [ 0,  6,  1,  0],\n",
       "       [ 0,  1,  6,  0],\n",
       "       [ 0,  0,  0,  7]], dtype=int64)"
      ]
     },
     "execution_count": 42,
     "metadata": {},
     "output_type": "execute_result"
    }
   ],
   "source": [
    "from sklearn.metrics import confusion_matrix\n",
    "print('Training confusion matrix:')\n",
    "confusion_matrix(predictions_train, y_train)\n",
    "\n"
   ]
  },
  {
   "cell_type": "code",
   "execution_count": 43,
   "id": "b4fb4be3",
   "metadata": {},
   "outputs": [
    {
     "name": "stdout",
     "output_type": "stream",
     "text": [
      "Testing confusion matrix:\n",
      "[[7 2 1 0]\n",
      " [1 2 1 0]\n",
      " [1 0 1 1]\n",
      " [0 0 1 2]]\n"
     ]
    }
   ],
   "source": [
    "print('Testing confusion matrix:')\n",
    "cnf_matrix = confusion_matrix(predictions_test, y_test)\n",
    "print(cnf_matrix)"
   ]
  },
  {
   "cell_type": "code",
   "execution_count": 44,
   "id": "4d55df06",
   "metadata": {},
   "outputs": [
    {
     "name": "stdout",
     "output_type": "stream",
     "text": [
      "              precision    recall  f1-score   support\n",
      "\n",
      "           0       0.78      0.70      0.74        10\n",
      "           1       0.50      0.50      0.50         4\n",
      "           2       0.25      0.33      0.29         3\n",
      "           3       0.67      0.67      0.67         3\n",
      "\n",
      "    accuracy                           0.60        20\n",
      "   macro avg       0.55      0.55      0.55        20\n",
      "weighted avg       0.63      0.60      0.61        20\n",
      "\n"
     ]
    }
   ],
   "source": [
    "from sklearn.metrics import classification_report\n",
    "print(classification_report(predictions_test, y_test))"
   ]
  },
  {
   "cell_type": "code",
   "execution_count": 45,
   "id": "44e93290",
   "metadata": {},
   "outputs": [],
   "source": [
    "from sklearn.metrics import multilabel_confusion_matrix\n",
    "import itertools\n",
    "def plot_confusion_matrix(cm, classes,\n",
    "                          normalize=False,\n",
    "                          title='Confusion matrix',\n",
    "                          cmap=plt.cm.Blues):\n",
    "    \"\"\"\n",
    "    This function prints and plots the confusion matrix.\n",
    "    Normalization can be applied by setting `normalize=True`.\n",
    "    \"\"\"\n",
    "    if normalize:\n",
    "        cm = cm.astype('float') / cm.sum(axis=1)[:, np.newaxis]\n",
    "        print(\"Normalized confusion matrix\")\n",
    "    else:\n",
    "        print('Confusion matrix, without normalization')\n",
    "\n",
    "    print(cm)\n",
    "\n",
    "    plt.imshow(cm, interpolation='nearest', cmap=cmap)\n",
    "    plt.title(title)\n",
    "    plt.colorbar()\n",
    "    tick_marks = np.arange(len(classes))\n",
    "    plt.xticks(tick_marks, classes, rotation=45)\n",
    "    plt.yticks(tick_marks, classes)\n",
    "\n",
    "    fmt = '.2f' if normalize else 'd'\n",
    "    thresh = cm.max() / 2.\n",
    "    for i, j in itertools.product(range(cm.shape[0]), range(cm.shape[1])):\n",
    "        plt.text(j, i, format(cm[i, j], fmt),\n",
    "                 horizontalalignment=\"center\",\n",
    "                 color=\"white\" if cm[i, j] > thresh else \"black\")\n",
    "\n",
    "    plt.tight_layout()\n",
    "    plt.ylabel('True label')\n",
    "    plt.xlabel('Predicted label')"
   ]
  },
  {
   "cell_type": "code",
   "execution_count": 46,
   "id": "7b30dfe8",
   "metadata": {},
   "outputs": [
    {
     "name": "stdout",
     "output_type": "stream",
     "text": [
      "Confusion matrix, without normalization\n",
      "[[7 2 1 0]\n",
      " [1 2 1 0]\n",
      " [1 0 1 1]\n",
      " [0 0 1 2]]\n"
     ]
    },
    {
     "data": {
      "image/png": "[encoded data removed]",
      "text/plain": [
       "<Figure size 432x288 with 2 Axes>"
      ]
     },
     "metadata": {
      "needs_background": "light"
     },
     "output_type": "display_data"
    }
   ],
   "source": [
    "# Plot non-normalized confusion matrix\n",
    "plt.figure()\n",
    "plot_confusion_matrix(cnf_matrix, classes=['Negative','PosEarlyAcute','PosEarlyConv','PosLate'],normalize= False,  title='Confusion matrix')"
   ]
  },
  {
   "cell_type": "code",
   "execution_count": 50,
   "id": "f1b4b788",
   "metadata": {},
   "outputs": [
    {
     "name": "stdout",
     "output_type": "stream",
     "text": [
      "Run: 1\n",
      " Accuracy: 0.812 \n",
      " Sensitivity: 0.875 \n",
      " Specificity: 1.000 \n"
     ]
    },
    {
     "name": "stderr",
     "output_type": "stream",
     "text": [
      "C:\\Users\\fd299212\\anaconda3\\lib\\site-packages\\sklearn\\neural_network\\_multilayer_perceptron.py:614: ConvergenceWarning: Stochastic Optimizer: Maximum iterations (2000) reached and the optimization hasn't converged yet.\n",
      "  warnings.warn(\n"
     ]
    },
    {
     "name": "stdout",
     "output_type": "stream",
     "text": [
      "Run: 2\n",
      " Accuracy: 0.750 \n",
      " Sensitivity: 0.889 \n",
      " Specificity: 1.000 \n"
     ]
    },
    {
     "name": "stderr",
     "output_type": "stream",
     "text": [
      "C:\\Users\\fd299212\\anaconda3\\lib\\site-packages\\sklearn\\neural_network\\_multilayer_perceptron.py:614: ConvergenceWarning: Stochastic Optimizer: Maximum iterations (2000) reached and the optimization hasn't converged yet.\n",
      "  warnings.warn(\n"
     ]
    },
    {
     "name": "stdout",
     "output_type": "stream",
     "text": [
      "Run: 3\n",
      " Accuracy: 0.750 \n",
      " Sensitivity: 0.875 \n",
      " Specificity: 1.000 \n"
     ]
    },
    {
     "name": "stderr",
     "output_type": "stream",
     "text": [
      "C:\\Users\\fd299212\\anaconda3\\lib\\site-packages\\sklearn\\neural_network\\_multilayer_perceptron.py:614: ConvergenceWarning: Stochastic Optimizer: Maximum iterations (2000) reached and the optimization hasn't converged yet.\n",
      "  warnings.warn(\n"
     ]
    },
    {
     "name": "stdout",
     "output_type": "stream",
     "text": [
      "Run: 4\n",
      " Accuracy: 0.688 \n",
      " Sensitivity: 0.875 \n",
      " Specificity: 1.000 \n"
     ]
    },
    {
     "name": "stderr",
     "output_type": "stream",
     "text": [
      "C:\\Users\\fd299212\\anaconda3\\lib\\site-packages\\sklearn\\neural_network\\_multilayer_perceptron.py:614: ConvergenceWarning: Stochastic Optimizer: Maximum iterations (2000) reached and the optimization hasn't converged yet.\n",
      "  warnings.warn(\n"
     ]
    },
    {
     "name": "stdout",
     "output_type": "stream",
     "text": [
      "Run: 5\n",
      " Accuracy: 0.750 \n",
      " Sensitivity: 0.875 \n",
      " Specificity: 1.000 \n"
     ]
    },
    {
     "name": "stderr",
     "output_type": "stream",
     "text": [
      "C:\\Users\\fd299212\\anaconda3\\lib\\site-packages\\sklearn\\neural_network\\_multilayer_perceptron.py:614: ConvergenceWarning: Stochastic Optimizer: Maximum iterations (2000) reached and the optimization hasn't converged yet.\n",
      "  warnings.warn(\n"
     ]
    },
    {
     "name": "stdout",
     "output_type": "stream",
     "text": [
      "Run: 6\n",
      " Accuracy: 0.750 \n",
      " Sensitivity: 0.889 \n",
      " Specificity: 0.857 \n",
      "Run: 7\n",
      " Accuracy: 0.750 \n",
      " Sensitivity: 0.889 \n",
      " Specificity: 1.000 \n",
      "Run: 8\n",
      " Accuracy: 0.750 \n",
      " Sensitivity: 0.889 \n",
      " Specificity: 1.000 \n"
     ]
    },
    {
     "name": "stderr",
     "output_type": "stream",
     "text": [
      "C:\\Users\\fd299212\\anaconda3\\lib\\site-packages\\sklearn\\neural_network\\_multilayer_perceptron.py:614: ConvergenceWarning: Stochastic Optimizer: Maximum iterations (2000) reached and the optimization hasn't converged yet.\n",
      "  warnings.warn(\n"
     ]
    },
    {
     "name": "stdout",
     "output_type": "stream",
     "text": [
      "Run: 9\n",
      " Accuracy: 0.750 \n",
      " Sensitivity: 0.875 \n",
      " Specificity: 1.000 \n",
      "Run: 10\n",
      " Accuracy: 0.625 \n",
      " Sensitivity: 0.500 \n",
      " Specificity: 0.875 \n"
     ]
    },
    {
     "name": "stderr",
     "output_type": "stream",
     "text": [
      "C:\\Users\\fd299212\\anaconda3\\lib\\site-packages\\sklearn\\neural_network\\_multilayer_perceptron.py:614: ConvergenceWarning: Stochastic Optimizer: Maximum iterations (2000) reached and the optimization hasn't converged yet.\n",
      "  warnings.warn(\n"
     ]
    },
    {
     "name": "stdout",
     "output_type": "stream",
     "text": [
      "Run: 11\n",
      " Accuracy: 0.812 \n",
      " Sensitivity: 1.000 \n",
      " Specificity: 1.000 \n",
      "Run: 12\n",
      " Accuracy: 0.688 \n",
      " Sensitivity: 1.000 \n",
      " Specificity: 1.000 \n"
     ]
    },
    {
     "name": "stderr",
     "output_type": "stream",
     "text": [
      "C:\\Users\\fd299212\\anaconda3\\lib\\site-packages\\sklearn\\neural_network\\_multilayer_perceptron.py:614: ConvergenceWarning: Stochastic Optimizer: Maximum iterations (2000) reached and the optimization hasn't converged yet.\n",
      "  warnings.warn(\n"
     ]
    },
    {
     "name": "stdout",
     "output_type": "stream",
     "text": [
      "Run: 13\n",
      " Accuracy: 0.750 \n",
      " Sensitivity: 1.000 \n",
      " Specificity: 1.000 \n"
     ]
    },
    {
     "name": "stderr",
     "output_type": "stream",
     "text": [
      "C:\\Users\\fd299212\\anaconda3\\lib\\site-packages\\sklearn\\neural_network\\_multilayer_perceptron.py:614: ConvergenceWarning: Stochastic Optimizer: Maximum iterations (2000) reached and the optimization hasn't converged yet.\n",
      "  warnings.warn(\n"
     ]
    },
    {
     "name": "stdout",
     "output_type": "stream",
     "text": [
      "Run: 14\n",
      " Accuracy: 0.750 \n",
      " Sensitivity: 0.875 \n",
      " Specificity: 0.875 \n",
      "Run: 15\n",
      " Accuracy: 0.625 \n",
      " Sensitivity: 1.000 \n",
      " Specificity: 0.857 \n",
      "Run: 16\n",
      " Accuracy: 0.688 \n",
      " Sensitivity: 0.889 \n",
      " Specificity: 1.000 \n",
      "Run: 17\n",
      " Accuracy: 0.812 \n",
      " Sensitivity: 0.889 \n",
      " Specificity: 1.000 \n",
      "Run: 18\n",
      " Accuracy: 0.625 \n",
      " Sensitivity: 0.875 \n",
      " Specificity: 0.875 \n"
     ]
    },
    {
     "name": "stderr",
     "output_type": "stream",
     "text": [
      "C:\\Users\\fd299212\\anaconda3\\lib\\site-packages\\sklearn\\neural_network\\_multilayer_perceptron.py:614: ConvergenceWarning: Stochastic Optimizer: Maximum iterations (2000) reached and the optimization hasn't converged yet.\n",
      "  warnings.warn(\n"
     ]
    },
    {
     "name": "stdout",
     "output_type": "stream",
     "text": [
      "Run: 19\n",
      " Accuracy: 0.625 \n",
      " Sensitivity: 0.889 \n",
      " Specificity: 1.000 \n"
     ]
    },
    {
     "name": "stderr",
     "output_type": "stream",
     "text": [
      "C:\\Users\\fd299212\\anaconda3\\lib\\site-packages\\sklearn\\metrics\\_classification.py:1248: UndefinedMetricWarning: Precision and F-score are ill-defined and being set to 0.0 in labels with no predicted samples. Use `zero_division` parameter to control this behavior.\n",
      "  _warn_prf(average, modifier, msg_start, len(result))\n",
      "C:\\Users\\fd299212\\anaconda3\\lib\\site-packages\\sklearn\\metrics\\_classification.py:1248: UndefinedMetricWarning: Precision and F-score are ill-defined and being set to 0.0 in labels with no predicted samples. Use `zero_division` parameter to control this behavior.\n",
      "  _warn_prf(average, modifier, msg_start, len(result))\n",
      "C:\\Users\\fd299212\\anaconda3\\lib\\site-packages\\sklearn\\metrics\\_classification.py:1248: UndefinedMetricWarning: Precision and F-score are ill-defined and being set to 0.0 in labels with no predicted samples. Use `zero_division` parameter to control this behavior.\n",
      "  _warn_prf(average, modifier, msg_start, len(result))\n"
     ]
    },
    {
     "name": "stdout",
     "output_type": "stream",
     "text": [
      "Run: 20\n",
      " Accuracy: 0.688 \n",
      " Sensitivity: 0.875 \n",
      " Specificity: 1.000 \n"
     ]
    },
    {
     "name": "stderr",
     "output_type": "stream",
     "text": [
      "C:\\Users\\fd299212\\anaconda3\\lib\\site-packages\\sklearn\\neural_network\\_multilayer_perceptron.py:614: ConvergenceWarning: Stochastic Optimizer: Maximum iterations (2000) reached and the optimization hasn't converged yet.\n",
      "  warnings.warn(\n"
     ]
    },
    {
     "name": "stdout",
     "output_type": "stream",
     "text": [
      "Run: 21\n",
      " Accuracy: 0.812 \n",
      " Sensitivity: 1.000 \n",
      " Specificity: 1.000 \n"
     ]
    },
    {
     "name": "stderr",
     "output_type": "stream",
     "text": [
      "C:\\Users\\fd299212\\anaconda3\\lib\\site-packages\\sklearn\\neural_network\\_multilayer_perceptron.py:614: ConvergenceWarning: Stochastic Optimizer: Maximum iterations (2000) reached and the optimization hasn't converged yet.\n",
      "  warnings.warn(\n"
     ]
    },
    {
     "name": "stdout",
     "output_type": "stream",
     "text": [
      "Run: 22\n",
      " Accuracy: 0.812 \n",
      " Sensitivity: 0.889 \n",
      " Specificity: 1.000 \n"
     ]
    },
    {
     "name": "stderr",
     "output_type": "stream",
     "text": [
      "C:\\Users\\fd299212\\anaconda3\\lib\\site-packages\\sklearn\\neural_network\\_multilayer_perceptron.py:614: ConvergenceWarning: Stochastic Optimizer: Maximum iterations (2000) reached and the optimization hasn't converged yet.\n",
      "  warnings.warn(\n"
     ]
    },
    {
     "name": "stdout",
     "output_type": "stream",
     "text": [
      "Run: 23\n",
      " Accuracy: 0.688 \n",
      " Sensitivity: 1.000 \n",
      " Specificity: 0.714 \n",
      "Run: 24\n",
      " Accuracy: 0.688 \n",
      " Sensitivity: 0.750 \n",
      " Specificity: 1.000 \n",
      "Run: 25\n",
      " Accuracy: 0.688 \n",
      " Sensitivity: 0.889 \n",
      " Specificity: 0.857 \n"
     ]
    },
    {
     "name": "stderr",
     "output_type": "stream",
     "text": [
      "C:\\Users\\fd299212\\anaconda3\\lib\\site-packages\\sklearn\\metrics\\_classification.py:1248: UndefinedMetricWarning: Precision and F-score are ill-defined and being set to 0.0 in labels with no predicted samples. Use `zero_division` parameter to control this behavior.\n",
      "  _warn_prf(average, modifier, msg_start, len(result))\n",
      "C:\\Users\\fd299212\\anaconda3\\lib\\site-packages\\sklearn\\metrics\\_classification.py:1248: UndefinedMetricWarning: Precision and F-score are ill-defined and being set to 0.0 in labels with no predicted samples. Use `zero_division` parameter to control this behavior.\n",
      "  _warn_prf(average, modifier, msg_start, len(result))\n",
      "C:\\Users\\fd299212\\anaconda3\\lib\\site-packages\\sklearn\\metrics\\_classification.py:1248: UndefinedMetricWarning: Precision and F-score are ill-defined and being set to 0.0 in labels with no predicted samples. Use `zero_division` parameter to control this behavior.\n",
      "  _warn_prf(average, modifier, msg_start, len(result))\n"
     ]
    },
    {
     "name": "stdout",
     "output_type": "stream",
     "text": [
      "Run: 26\n",
      " Accuracy: 0.625 \n",
      " Sensitivity: 0.875 \n",
      " Specificity: 1.000 \n",
      "Run: 27\n",
      " Accuracy: 0.688 \n",
      " Sensitivity: 1.000 \n",
      " Specificity: 0.857 \n",
      "Run: 28\n",
      " Accuracy: 0.750 \n",
      " Sensitivity: 0.778 \n",
      " Specificity: 1.000 \n",
      "Run: 29\n",
      " Accuracy: 0.562 \n",
      " Sensitivity: 0.778 \n",
      " Specificity: 1.000 \n",
      "Run: 30\n",
      " Accuracy: 0.688 \n",
      " Sensitivity: 0.750 \n",
      " Specificity: 1.000 \n"
     ]
    },
    {
     "name": "stderr",
     "output_type": "stream",
     "text": [
      "C:\\Users\\fd299212\\anaconda3\\lib\\site-packages\\sklearn\\neural_network\\_multilayer_perceptron.py:614: ConvergenceWarning: Stochastic Optimizer: Maximum iterations (2000) reached and the optimization hasn't converged yet.\n",
      "  warnings.warn(\n"
     ]
    },
    {
     "name": "stdout",
     "output_type": "stream",
     "text": [
      "Run: 31\n",
      " Accuracy: 0.875 \n",
      " Sensitivity: 1.000 \n",
      " Specificity: 1.000 \n",
      "Run: 32\n",
      " Accuracy: 0.500 \n",
      " Sensitivity: 0.556 \n",
      " Specificity: 0.857 \n"
     ]
    },
    {
     "name": "stderr",
     "output_type": "stream",
     "text": [
      "C:\\Users\\fd299212\\anaconda3\\lib\\site-packages\\sklearn\\neural_network\\_multilayer_perceptron.py:614: ConvergenceWarning: Stochastic Optimizer: Maximum iterations (2000) reached and the optimization hasn't converged yet.\n",
      "  warnings.warn(\n"
     ]
    },
    {
     "name": "stdout",
     "output_type": "stream",
     "text": [
      "Run: 33\n",
      " Accuracy: 0.812 \n",
      " Sensitivity: 0.889 \n",
      " Specificity: 1.000 \n"
     ]
    },
    {
     "name": "stderr",
     "output_type": "stream",
     "text": [
      "C:\\Users\\fd299212\\anaconda3\\lib\\site-packages\\sklearn\\neural_network\\_multilayer_perceptron.py:614: ConvergenceWarning: Stochastic Optimizer: Maximum iterations (2000) reached and the optimization hasn't converged yet.\n",
      "  warnings.warn(\n"
     ]
    },
    {
     "name": "stdout",
     "output_type": "stream",
     "text": [
      "Run: 34\n",
      " Accuracy: 0.812 \n",
      " Sensitivity: 0.875 \n",
      " Specificity: 1.000 \n"
     ]
    },
    {
     "name": "stderr",
     "output_type": "stream",
     "text": [
      "C:\\Users\\fd299212\\anaconda3\\lib\\site-packages\\sklearn\\neural_network\\_multilayer_perceptron.py:614: ConvergenceWarning: Stochastic Optimizer: Maximum iterations (2000) reached and the optimization hasn't converged yet.\n",
      "  warnings.warn(\n"
     ]
    },
    {
     "name": "stdout",
     "output_type": "stream",
     "text": [
      "Run: 35\n",
      " Accuracy: 0.688 \n",
      " Sensitivity: 0.778 \n",
      " Specificity: 0.857 \n",
      "Run: 36\n",
      " Accuracy: 0.812 \n",
      " Sensitivity: 0.875 \n",
      " Specificity: 1.000 \n"
     ]
    },
    {
     "name": "stderr",
     "output_type": "stream",
     "text": [
      "C:\\Users\\fd299212\\anaconda3\\lib\\site-packages\\sklearn\\neural_network\\_multilayer_perceptron.py:614: ConvergenceWarning: Stochastic Optimizer: Maximum iterations (2000) reached and the optimization hasn't converged yet.\n",
      "  warnings.warn(\n"
     ]
    },
    {
     "name": "stdout",
     "output_type": "stream",
     "text": [
      "Run: 37\n",
      " Accuracy: 0.875 \n",
      " Sensitivity: 0.875 \n",
      " Specificity: 1.000 \n"
     ]
    },
    {
     "name": "stderr",
     "output_type": "stream",
     "text": [
      "C:\\Users\\fd299212\\anaconda3\\lib\\site-packages\\sklearn\\metrics\\_classification.py:1248: UndefinedMetricWarning: Precision and F-score are ill-defined and being set to 0.0 in labels with no predicted samples. Use `zero_division` parameter to control this behavior.\n",
      "  _warn_prf(average, modifier, msg_start, len(result))\n",
      "C:\\Users\\fd299212\\anaconda3\\lib\\site-packages\\sklearn\\metrics\\_classification.py:1248: UndefinedMetricWarning: Precision and F-score are ill-defined and being set to 0.0 in labels with no predicted samples. Use `zero_division` parameter to control this behavior.\n",
      "  _warn_prf(average, modifier, msg_start, len(result))\n",
      "C:\\Users\\fd299212\\anaconda3\\lib\\site-packages\\sklearn\\metrics\\_classification.py:1248: UndefinedMetricWarning: Precision and F-score are ill-defined and being set to 0.0 in labels with no predicted samples. Use `zero_division` parameter to control this behavior.\n",
      "  _warn_prf(average, modifier, msg_start, len(result))\n"
     ]
    },
    {
     "name": "stdout",
     "output_type": "stream",
     "text": [
      "Run: 38\n",
      " Accuracy: 0.688 \n",
      " Sensitivity: 0.778 \n",
      " Specificity: 0.857 \n"
     ]
    },
    {
     "name": "stderr",
     "output_type": "stream",
     "text": [
      "C:\\Users\\fd299212\\anaconda3\\lib\\site-packages\\sklearn\\neural_network\\_multilayer_perceptron.py:614: ConvergenceWarning: Stochastic Optimizer: Maximum iterations (2000) reached and the optimization hasn't converged yet.\n",
      "  warnings.warn(\n"
     ]
    },
    {
     "name": "stdout",
     "output_type": "stream",
     "text": [
      "Run: 39\n",
      " Accuracy: 0.750 \n",
      " Sensitivity: 1.000 \n",
      " Specificity: 1.000 \n"
     ]
    },
    {
     "name": "stderr",
     "output_type": "stream",
     "text": [
      "C:\\Users\\fd299212\\anaconda3\\lib\\site-packages\\sklearn\\neural_network\\_multilayer_perceptron.py:614: ConvergenceWarning: Stochastic Optimizer: Maximum iterations (2000) reached and the optimization hasn't converged yet.\n",
      "  warnings.warn(\n"
     ]
    },
    {
     "name": "stdout",
     "output_type": "stream",
     "text": [
      "Run: 40\n",
      " Accuracy: 0.625 \n",
      " Sensitivity: 0.889 \n",
      " Specificity: 0.714 \n",
      "Run: 41\n",
      " Accuracy: 0.750 \n",
      " Sensitivity: 1.000 \n",
      " Specificity: 1.000 \n"
     ]
    },
    {
     "name": "stderr",
     "output_type": "stream",
     "text": [
      "C:\\Users\\fd299212\\anaconda3\\lib\\site-packages\\sklearn\\neural_network\\_multilayer_perceptron.py:614: ConvergenceWarning: Stochastic Optimizer: Maximum iterations (2000) reached and the optimization hasn't converged yet.\n",
      "  warnings.warn(\n"
     ]
    },
    {
     "name": "stdout",
     "output_type": "stream",
     "text": [
      "Run: 42\n",
      " Accuracy: 0.812 \n",
      " Sensitivity: 0.750 \n",
      " Specificity: 1.000 \n"
     ]
    },
    {
     "name": "stderr",
     "output_type": "stream",
     "text": [
      "C:\\Users\\fd299212\\anaconda3\\lib\\site-packages\\sklearn\\neural_network\\_multilayer_perceptron.py:614: ConvergenceWarning: Stochastic Optimizer: Maximum iterations (2000) reached and the optimization hasn't converged yet.\n",
      "  warnings.warn(\n"
     ]
    },
    {
     "name": "stdout",
     "output_type": "stream",
     "text": [
      "Run: 43\n",
      " Accuracy: 0.750 \n",
      " Sensitivity: 0.889 \n",
      " Specificity: 0.857 \n"
     ]
    },
    {
     "name": "stderr",
     "output_type": "stream",
     "text": [
      "C:\\Users\\fd299212\\anaconda3\\lib\\site-packages\\sklearn\\neural_network\\_multilayer_perceptron.py:614: ConvergenceWarning: Stochastic Optimizer: Maximum iterations (2000) reached and the optimization hasn't converged yet.\n",
      "  warnings.warn(\n"
     ]
    },
    {
     "name": "stdout",
     "output_type": "stream",
     "text": [
      "Run: 44\n",
      " Accuracy: 0.625 \n",
      " Sensitivity: 0.889 \n",
      " Specificity: 1.000 \n"
     ]
    },
    {
     "name": "stderr",
     "output_type": "stream",
     "text": [
      "C:\\Users\\fd299212\\anaconda3\\lib\\site-packages\\sklearn\\neural_network\\_multilayer_perceptron.py:614: ConvergenceWarning: Stochastic Optimizer: Maximum iterations (2000) reached and the optimization hasn't converged yet.\n",
      "  warnings.warn(\n"
     ]
    },
    {
     "name": "stdout",
     "output_type": "stream",
     "text": [
      "Run: 45\n",
      " Accuracy: 0.688 \n",
      " Sensitivity: 1.000 \n",
      " Specificity: 1.000 \n"
     ]
    },
    {
     "name": "stderr",
     "output_type": "stream",
     "text": [
      "C:\\Users\\fd299212\\anaconda3\\lib\\site-packages\\sklearn\\neural_network\\_multilayer_perceptron.py:614: ConvergenceWarning: Stochastic Optimizer: Maximum iterations (2000) reached and the optimization hasn't converged yet.\n",
      "  warnings.warn(\n"
     ]
    },
    {
     "name": "stdout",
     "output_type": "stream",
     "text": [
      "Run: 46\n",
      " Accuracy: 0.688 \n",
      " Sensitivity: 0.750 \n",
      " Specificity: 0.875 \n"
     ]
    },
    {
     "name": "stderr",
     "output_type": "stream",
     "text": [
      "C:\\Users\\fd299212\\anaconda3\\lib\\site-packages\\sklearn\\neural_network\\_multilayer_perceptron.py:614: ConvergenceWarning: Stochastic Optimizer: Maximum iterations (2000) reached and the optimization hasn't converged yet.\n",
      "  warnings.warn(\n"
     ]
    },
    {
     "name": "stdout",
     "output_type": "stream",
     "text": [
      "Run: 47\n",
      " Accuracy: 0.625 \n",
      " Sensitivity: 0.625 \n",
      " Specificity: 1.000 \n",
      "Run: 48\n",
      " Accuracy: 0.812 \n",
      " Sensitivity: 0.875 \n",
      " Specificity: 1.000 \n",
      "Run: 49\n",
      " Accuracy: 0.812 \n",
      " Sensitivity: 1.000 \n",
      " Specificity: 0.875 \n"
     ]
    },
    {
     "name": "stderr",
     "output_type": "stream",
     "text": [
      "C:\\Users\\fd299212\\anaconda3\\lib\\site-packages\\sklearn\\neural_network\\_multilayer_perceptron.py:614: ConvergenceWarning: Stochastic Optimizer: Maximum iterations (2000) reached and the optimization hasn't converged yet.\n",
      "  warnings.warn(\n"
     ]
    },
    {
     "name": "stdout",
     "output_type": "stream",
     "text": [
      "Run: 50\n",
      " Accuracy: 0.812 \n",
      " Sensitivity: 0.875 \n",
      " Specificity: 1.000 \n"
     ]
    },
    {
     "name": "stderr",
     "output_type": "stream",
     "text": [
      "C:\\Users\\fd299212\\anaconda3\\lib\\site-packages\\sklearn\\neural_network\\_multilayer_perceptron.py:614: ConvergenceWarning: Stochastic Optimizer: Maximum iterations (2000) reached and the optimization hasn't converged yet.\n",
      "  warnings.warn(\n"
     ]
    },
    {
     "name": "stdout",
     "output_type": "stream",
     "text": [
      "Run: 51\n",
      " Accuracy: 0.750 \n",
      " Sensitivity: 0.778 \n",
      " Specificity: 1.000 \n",
      "Run: 52\n",
      " Accuracy: 0.750 \n",
      " Sensitivity: 0.875 \n",
      " Specificity: 0.875 \n"
     ]
    },
    {
     "name": "stderr",
     "output_type": "stream",
     "text": [
      "C:\\Users\\fd299212\\anaconda3\\lib\\site-packages\\sklearn\\neural_network\\_multilayer_perceptron.py:614: ConvergenceWarning: Stochastic Optimizer: Maximum iterations (2000) reached and the optimization hasn't converged yet.\n",
      "  warnings.warn(\n",
      "C:\\Users\\fd299212\\anaconda3\\lib\\site-packages\\sklearn\\metrics\\_classification.py:1248: UndefinedMetricWarning: Precision and F-score are ill-defined and being set to 0.0 in labels with no predicted samples. Use `zero_division` parameter to control this behavior.\n",
      "  _warn_prf(average, modifier, msg_start, len(result))\n",
      "C:\\Users\\fd299212\\anaconda3\\lib\\site-packages\\sklearn\\metrics\\_classification.py:1248: UndefinedMetricWarning: Precision and F-score are ill-defined and being set to 0.0 in labels with no predicted samples. Use `zero_division` parameter to control this behavior.\n",
      "  _warn_prf(average, modifier, msg_start, len(result))\n",
      "C:\\Users\\fd299212\\anaconda3\\lib\\site-packages\\sklearn\\metrics\\_classification.py:1248: UndefinedMetricWarning: Precision and F-score are ill-defined and being set to 0.0 in labels with no predicted samples. Use `zero_division` parameter to control this behavior.\n",
      "  _warn_prf(average, modifier, msg_start, len(result))\n"
     ]
    },
    {
     "name": "stdout",
     "output_type": "stream",
     "text": [
      "Run: 53\n",
      " Accuracy: 0.625 \n",
      " Sensitivity: 0.667 \n",
      " Specificity: 1.000 \n",
      "Run: 54\n",
      " Accuracy: 0.750 \n",
      " Sensitivity: 1.000 \n",
      " Specificity: 1.000 \n"
     ]
    },
    {
     "name": "stderr",
     "output_type": "stream",
     "text": [
      "C:\\Users\\fd299212\\anaconda3\\lib\\site-packages\\sklearn\\neural_network\\_multilayer_perceptron.py:614: ConvergenceWarning: Stochastic Optimizer: Maximum iterations (2000) reached and the optimization hasn't converged yet.\n",
      "  warnings.warn(\n"
     ]
    },
    {
     "name": "stdout",
     "output_type": "stream",
     "text": [
      "Run: 55\n",
      " Accuracy: 0.688 \n",
      " Sensitivity: 1.000 \n",
      " Specificity: 0.750 \n"
     ]
    },
    {
     "name": "stderr",
     "output_type": "stream",
     "text": [
      "C:\\Users\\fd299212\\anaconda3\\lib\\site-packages\\sklearn\\neural_network\\_multilayer_perceptron.py:614: ConvergenceWarning: Stochastic Optimizer: Maximum iterations (2000) reached and the optimization hasn't converged yet.\n",
      "  warnings.warn(\n"
     ]
    },
    {
     "name": "stdout",
     "output_type": "stream",
     "text": [
      "Run: 56\n",
      " Accuracy: 0.812 \n",
      " Sensitivity: 0.875 \n",
      " Specificity: 1.000 \n",
      "Run: 57\n",
      " Accuracy: 0.750 \n",
      " Sensitivity: 1.000 \n",
      " Specificity: 0.857 \n"
     ]
    },
    {
     "name": "stderr",
     "output_type": "stream",
     "text": [
      "C:\\Users\\fd299212\\anaconda3\\lib\\site-packages\\sklearn\\neural_network\\_multilayer_perceptron.py:614: ConvergenceWarning: Stochastic Optimizer: Maximum iterations (2000) reached and the optimization hasn't converged yet.\n",
      "  warnings.warn(\n"
     ]
    },
    {
     "name": "stdout",
     "output_type": "stream",
     "text": [
      "Run: 58\n",
      " Accuracy: 1.000 \n",
      " Sensitivity: 1.000 \n",
      " Specificity: 1.000 \n"
     ]
    },
    {
     "name": "stderr",
     "output_type": "stream",
     "text": [
      "C:\\Users\\fd299212\\anaconda3\\lib\\site-packages\\sklearn\\neural_network\\_multilayer_perceptron.py:614: ConvergenceWarning: Stochastic Optimizer: Maximum iterations (2000) reached and the optimization hasn't converged yet.\n",
      "  warnings.warn(\n"
     ]
    },
    {
     "name": "stdout",
     "output_type": "stream",
     "text": [
      "Run: 59\n",
      " Accuracy: 0.812 \n",
      " Sensitivity: 1.000 \n",
      " Specificity: 1.000 \n"
     ]
    },
    {
     "name": "stderr",
     "output_type": "stream",
     "text": [
      "C:\\Users\\fd299212\\anaconda3\\lib\\site-packages\\sklearn\\neural_network\\_multilayer_perceptron.py:614: ConvergenceWarning: Stochastic Optimizer: Maximum iterations (2000) reached and the optimization hasn't converged yet.\n",
      "  warnings.warn(\n"
     ]
    },
    {
     "name": "stdout",
     "output_type": "stream",
     "text": [
      "Run: 60\n",
      " Accuracy: 0.812 \n",
      " Sensitivity: 1.000 \n",
      " Specificity: 1.000 \n"
     ]
    },
    {
     "name": "stderr",
     "output_type": "stream",
     "text": [
      "C:\\Users\\fd299212\\anaconda3\\lib\\site-packages\\sklearn\\neural_network\\_multilayer_perceptron.py:614: ConvergenceWarning: Stochastic Optimizer: Maximum iterations (2000) reached and the optimization hasn't converged yet.\n",
      "  warnings.warn(\n",
      "C:\\Users\\fd299212\\anaconda3\\lib\\site-packages\\sklearn\\metrics\\_classification.py:1248: UndefinedMetricWarning: Precision and F-score are ill-defined and being set to 0.0 in labels with no predicted samples. Use `zero_division` parameter to control this behavior.\n",
      "  _warn_prf(average, modifier, msg_start, len(result))\n",
      "C:\\Users\\fd299212\\anaconda3\\lib\\site-packages\\sklearn\\metrics\\_classification.py:1248: UndefinedMetricWarning: Precision and F-score are ill-defined and being set to 0.0 in labels with no predicted samples. Use `zero_division` parameter to control this behavior.\n",
      "  _warn_prf(average, modifier, msg_start, len(result))\n",
      "C:\\Users\\fd299212\\anaconda3\\lib\\site-packages\\sklearn\\metrics\\_classification.py:1248: UndefinedMetricWarning: Precision and F-score are ill-defined and being set to 0.0 in labels with no predicted samples. Use `zero_division` parameter to control this behavior.\n",
      "  _warn_prf(average, modifier, msg_start, len(result))\n"
     ]
    },
    {
     "name": "stdout",
     "output_type": "stream",
     "text": [
      "Run: 61\n",
      " Accuracy: 0.562 \n",
      " Sensitivity: 0.444 \n",
      " Specificity: 1.000 \n",
      "Run: 62\n",
      " Accuracy: 0.812 \n",
      " Sensitivity: 1.000 \n",
      " Specificity: 0.857 \n"
     ]
    },
    {
     "name": "stderr",
     "output_type": "stream",
     "text": [
      "C:\\Users\\fd299212\\anaconda3\\lib\\site-packages\\sklearn\\neural_network\\_multilayer_perceptron.py:614: ConvergenceWarning: Stochastic Optimizer: Maximum iterations (2000) reached and the optimization hasn't converged yet.\n",
      "  warnings.warn(\n",
      "C:\\Users\\fd299212\\anaconda3\\lib\\site-packages\\sklearn\\metrics\\_classification.py:1248: UndefinedMetricWarning: Precision and F-score are ill-defined and being set to 0.0 in labels with no predicted samples. Use `zero_division` parameter to control this behavior.\n",
      "  _warn_prf(average, modifier, msg_start, len(result))\n",
      "C:\\Users\\fd299212\\anaconda3\\lib\\site-packages\\sklearn\\metrics\\_classification.py:1248: UndefinedMetricWarning: Precision and F-score are ill-defined and being set to 0.0 in labels with no predicted samples. Use `zero_division` parameter to control this behavior.\n",
      "  _warn_prf(average, modifier, msg_start, len(result))\n",
      "C:\\Users\\fd299212\\anaconda3\\lib\\site-packages\\sklearn\\metrics\\_classification.py:1248: UndefinedMetricWarning: Precision and F-score are ill-defined and being set to 0.0 in labels with no predicted samples. Use `zero_division` parameter to control this behavior.\n",
      "  _warn_prf(average, modifier, msg_start, len(result))\n"
     ]
    },
    {
     "name": "stdout",
     "output_type": "stream",
     "text": [
      "Run: 63\n",
      " Accuracy: 0.625 \n",
      " Sensitivity: 0.750 \n",
      " Specificity: 0.875 \n"
     ]
    },
    {
     "name": "stderr",
     "output_type": "stream",
     "text": [
      "C:\\Users\\fd299212\\anaconda3\\lib\\site-packages\\sklearn\\neural_network\\_multilayer_perceptron.py:614: ConvergenceWarning: Stochastic Optimizer: Maximum iterations (2000) reached and the optimization hasn't converged yet.\n",
      "  warnings.warn(\n"
     ]
    },
    {
     "name": "stdout",
     "output_type": "stream",
     "text": [
      "Run: 64\n",
      " Accuracy: 0.812 \n",
      " Sensitivity: 0.750 \n",
      " Specificity: 1.000 \n"
     ]
    },
    {
     "name": "stderr",
     "output_type": "stream",
     "text": [
      "C:\\Users\\fd299212\\anaconda3\\lib\\site-packages\\sklearn\\neural_network\\_multilayer_perceptron.py:614: ConvergenceWarning: Stochastic Optimizer: Maximum iterations (2000) reached and the optimization hasn't converged yet.\n",
      "  warnings.warn(\n"
     ]
    },
    {
     "name": "stdout",
     "output_type": "stream",
     "text": [
      "Run: 65\n",
      " Accuracy: 0.812 \n",
      " Sensitivity: 1.000 \n",
      " Specificity: 1.000 \n"
     ]
    },
    {
     "name": "stderr",
     "output_type": "stream",
     "text": [
      "C:\\Users\\fd299212\\anaconda3\\lib\\site-packages\\sklearn\\neural_network\\_multilayer_perceptron.py:614: ConvergenceWarning: Stochastic Optimizer: Maximum iterations (2000) reached and the optimization hasn't converged yet.\n",
      "  warnings.warn(\n"
     ]
    },
    {
     "name": "stdout",
     "output_type": "stream",
     "text": [
      "Run: 66\n",
      " Accuracy: 0.812 \n",
      " Sensitivity: 0.875 \n",
      " Specificity: 1.000 \n",
      "Run: 67\n",
      " Accuracy: 0.688 \n",
      " Sensitivity: 0.889 \n",
      " Specificity: 0.857 \n"
     ]
    },
    {
     "name": "stderr",
     "output_type": "stream",
     "text": [
      "C:\\Users\\fd299212\\anaconda3\\lib\\site-packages\\sklearn\\neural_network\\_multilayer_perceptron.py:614: ConvergenceWarning: Stochastic Optimizer: Maximum iterations (2000) reached and the optimization hasn't converged yet.\n",
      "  warnings.warn(\n"
     ]
    },
    {
     "name": "stdout",
     "output_type": "stream",
     "text": [
      "Run: 68\n",
      " Accuracy: 0.750 \n",
      " Sensitivity: 1.000 \n",
      " Specificity: 0.875 \n",
      "Run: 69\n",
      " Accuracy: 0.750 \n",
      " Sensitivity: 0.750 \n",
      " Specificity: 0.875 \n"
     ]
    },
    {
     "name": "stderr",
     "output_type": "stream",
     "text": [
      "C:\\Users\\fd299212\\anaconda3\\lib\\site-packages\\sklearn\\neural_network\\_multilayer_perceptron.py:614: ConvergenceWarning: Stochastic Optimizer: Maximum iterations (2000) reached and the optimization hasn't converged yet.\n",
      "  warnings.warn(\n"
     ]
    },
    {
     "name": "stdout",
     "output_type": "stream",
     "text": [
      "Run: 70\n",
      " Accuracy: 0.750 \n",
      " Sensitivity: 0.667 \n",
      " Specificity: 1.000 \n"
     ]
    },
    {
     "name": "stderr",
     "output_type": "stream",
     "text": [
      "C:\\Users\\fd299212\\anaconda3\\lib\\site-packages\\sklearn\\neural_network\\_multilayer_perceptron.py:614: ConvergenceWarning: Stochastic Optimizer: Maximum iterations (2000) reached and the optimization hasn't converged yet.\n",
      "  warnings.warn(\n"
     ]
    },
    {
     "name": "stdout",
     "output_type": "stream",
     "text": [
      "Run: 71\n",
      " Accuracy: 0.625 \n",
      " Sensitivity: 1.000 \n",
      " Specificity: 0.750 \n",
      "Run: 72\n",
      " Accuracy: 0.688 \n",
      " Sensitivity: 0.778 \n",
      " Specificity: 1.000 \n",
      "Run: 73\n",
      " Accuracy: 0.812 \n",
      " Sensitivity: 0.889 \n",
      " Specificity: 1.000 \n"
     ]
    },
    {
     "name": "stderr",
     "output_type": "stream",
     "text": [
      "C:\\Users\\fd299212\\anaconda3\\lib\\site-packages\\sklearn\\neural_network\\_multilayer_perceptron.py:614: ConvergenceWarning: Stochastic Optimizer: Maximum iterations (2000) reached and the optimization hasn't converged yet.\n",
      "  warnings.warn(\n"
     ]
    },
    {
     "name": "stdout",
     "output_type": "stream",
     "text": [
      "Run: 74\n",
      " Accuracy: 0.875 \n",
      " Sensitivity: 1.000 \n",
      " Specificity: 1.000 \n"
     ]
    },
    {
     "name": "stderr",
     "output_type": "stream",
     "text": [
      "C:\\Users\\fd299212\\anaconda3\\lib\\site-packages\\sklearn\\neural_network\\_multilayer_perceptron.py:614: ConvergenceWarning: Stochastic Optimizer: Maximum iterations (2000) reached and the optimization hasn't converged yet.\n",
      "  warnings.warn(\n"
     ]
    },
    {
     "name": "stdout",
     "output_type": "stream",
     "text": [
      "Run: 75\n",
      " Accuracy: 0.750 \n",
      " Sensitivity: 0.875 \n",
      " Specificity: 0.875 \n"
     ]
    },
    {
     "name": "stderr",
     "output_type": "stream",
     "text": [
      "C:\\Users\\fd299212\\anaconda3\\lib\\site-packages\\sklearn\\neural_network\\_multilayer_perceptron.py:614: ConvergenceWarning: Stochastic Optimizer: Maximum iterations (2000) reached and the optimization hasn't converged yet.\n",
      "  warnings.warn(\n"
     ]
    },
    {
     "name": "stdout",
     "output_type": "stream",
     "text": [
      "Run: 76\n",
      " Accuracy: 0.625 \n",
      " Sensitivity: 0.667 \n",
      " Specificity: 0.857 \n",
      "Run: 77\n",
      " Accuracy: 0.875 \n",
      " Sensitivity: 0.889 \n",
      " Specificity: 0.857 \n",
      "Run: 78\n",
      " Accuracy: 0.688 \n",
      " Sensitivity: 0.875 \n",
      " Specificity: 0.750 \n"
     ]
    },
    {
     "name": "stderr",
     "output_type": "stream",
     "text": [
      "C:\\Users\\fd299212\\anaconda3\\lib\\site-packages\\sklearn\\neural_network\\_multilayer_perceptron.py:614: ConvergenceWarning: Stochastic Optimizer: Maximum iterations (2000) reached and the optimization hasn't converged yet.\n",
      "  warnings.warn(\n"
     ]
    },
    {
     "name": "stdout",
     "output_type": "stream",
     "text": [
      "Run: 79\n",
      " Accuracy: 0.750 \n",
      " Sensitivity: 0.875 \n",
      " Specificity: 0.875 \n",
      "Run: 80\n",
      " Accuracy: 0.812 \n",
      " Sensitivity: 1.000 \n",
      " Specificity: 0.857 \n",
      "Run: 81\n",
      " Accuracy: 0.750 \n",
      " Sensitivity: 1.000 \n",
      " Specificity: 1.000 \n"
     ]
    },
    {
     "name": "stderr",
     "output_type": "stream",
     "text": [
      "C:\\Users\\fd299212\\anaconda3\\lib\\site-packages\\sklearn\\neural_network\\_multilayer_perceptron.py:614: ConvergenceWarning: Stochastic Optimizer: Maximum iterations (2000) reached and the optimization hasn't converged yet.\n",
      "  warnings.warn(\n",
      "C:\\Users\\fd299212\\anaconda3\\lib\\site-packages\\sklearn\\metrics\\_classification.py:1248: UndefinedMetricWarning: Precision and F-score are ill-defined and being set to 0.0 in labels with no predicted samples. Use `zero_division` parameter to control this behavior.\n",
      "  _warn_prf(average, modifier, msg_start, len(result))\n",
      "C:\\Users\\fd299212\\anaconda3\\lib\\site-packages\\sklearn\\metrics\\_classification.py:1248: UndefinedMetricWarning: Precision and F-score are ill-defined and being set to 0.0 in labels with no predicted samples. Use `zero_division` parameter to control this behavior.\n",
      "  _warn_prf(average, modifier, msg_start, len(result))\n",
      "C:\\Users\\fd299212\\anaconda3\\lib\\site-packages\\sklearn\\metrics\\_classification.py:1248: UndefinedMetricWarning: Precision and F-score are ill-defined and being set to 0.0 in labels with no predicted samples. Use `zero_division` parameter to control this behavior.\n",
      "  _warn_prf(average, modifier, msg_start, len(result))\n"
     ]
    },
    {
     "name": "stdout",
     "output_type": "stream",
     "text": [
      "Run: 82\n",
      " Accuracy: 0.688 \n",
      " Sensitivity: 0.889 \n",
      " Specificity: 1.000 \n",
      "Run: 83\n",
      " Accuracy: 0.812 \n",
      " Sensitivity: 1.000 \n",
      " Specificity: 1.000 \n"
     ]
    },
    {
     "name": "stderr",
     "output_type": "stream",
     "text": [
      "C:\\Users\\fd299212\\anaconda3\\lib\\site-packages\\sklearn\\neural_network\\_multilayer_perceptron.py:614: ConvergenceWarning: Stochastic Optimizer: Maximum iterations (2000) reached and the optimization hasn't converged yet.\n",
      "  warnings.warn(\n"
     ]
    },
    {
     "name": "stdout",
     "output_type": "stream",
     "text": [
      "Run: 84\n",
      " Accuracy: 0.750 \n",
      " Sensitivity: 0.875 \n",
      " Specificity: 1.000 \n",
      "Run: 85\n",
      " Accuracy: 0.750 \n",
      " Sensitivity: 0.889 \n",
      " Specificity: 0.857 \n"
     ]
    },
    {
     "name": "stderr",
     "output_type": "stream",
     "text": [
      "C:\\Users\\fd299212\\anaconda3\\lib\\site-packages\\sklearn\\neural_network\\_multilayer_perceptron.py:614: ConvergenceWarning: Stochastic Optimizer: Maximum iterations (2000) reached and the optimization hasn't converged yet.\n",
      "  warnings.warn(\n"
     ]
    },
    {
     "name": "stdout",
     "output_type": "stream",
     "text": [
      "Run: 86\n",
      " Accuracy: 0.688 \n",
      " Sensitivity: 1.000 \n",
      " Specificity: 1.000 \n"
     ]
    },
    {
     "name": "stderr",
     "output_type": "stream",
     "text": [
      "C:\\Users\\fd299212\\anaconda3\\lib\\site-packages\\sklearn\\neural_network\\_multilayer_perceptron.py:614: ConvergenceWarning: Stochastic Optimizer: Maximum iterations (2000) reached and the optimization hasn't converged yet.\n",
      "  warnings.warn(\n"
     ]
    },
    {
     "name": "stdout",
     "output_type": "stream",
     "text": [
      "Run: 87\n",
      " Accuracy: 0.688 \n",
      " Sensitivity: 1.000 \n",
      " Specificity: 0.875 \n",
      "Run: 88\n",
      " Accuracy: 0.812 \n",
      " Sensitivity: 0.889 \n",
      " Specificity: 0.857 \n",
      "Run: 89\n",
      " Accuracy: 0.750 \n",
      " Sensitivity: 1.000 \n",
      " Specificity: 0.875 \n"
     ]
    },
    {
     "name": "stderr",
     "output_type": "stream",
     "text": [
      "C:\\Users\\fd299212\\anaconda3\\lib\\site-packages\\sklearn\\neural_network\\_multilayer_perceptron.py:614: ConvergenceWarning: Stochastic Optimizer: Maximum iterations (2000) reached and the optimization hasn't converged yet.\n",
      "  warnings.warn(\n"
     ]
    },
    {
     "name": "stdout",
     "output_type": "stream",
     "text": [
      "Run: 90\n",
      " Accuracy: 0.875 \n",
      " Sensitivity: 0.889 \n",
      " Specificity: 1.000 \n",
      "Run: 91\n",
      " Accuracy: 0.812 \n",
      " Sensitivity: 1.000 \n",
      " Specificity: 1.000 \n",
      "Run: 92\n",
      " Accuracy: 0.812 \n",
      " Sensitivity: 0.889 \n",
      " Specificity: 0.857 \n",
      "Run: 93\n",
      " Accuracy: 0.812 \n",
      " Sensitivity: 0.889 \n",
      " Specificity: 0.857 \n"
     ]
    },
    {
     "name": "stderr",
     "output_type": "stream",
     "text": [
      "C:\\Users\\fd299212\\anaconda3\\lib\\site-packages\\sklearn\\neural_network\\_multilayer_perceptron.py:614: ConvergenceWarning: Stochastic Optimizer: Maximum iterations (2000) reached and the optimization hasn't converged yet.\n",
      "  warnings.warn(\n"
     ]
    },
    {
     "name": "stdout",
     "output_type": "stream",
     "text": [
      "Run: 94\n",
      " Accuracy: 0.625 \n",
      " Sensitivity: 0.625 \n",
      " Specificity: 0.875 \n",
      "Run: 95\n",
      " Accuracy: 0.688 \n",
      " Sensitivity: 1.000 \n",
      " Specificity: 0.714 \n"
     ]
    },
    {
     "name": "stderr",
     "output_type": "stream",
     "text": [
      "C:\\Users\\fd299212\\anaconda3\\lib\\site-packages\\sklearn\\neural_network\\_multilayer_perceptron.py:614: ConvergenceWarning: Stochastic Optimizer: Maximum iterations (2000) reached and the optimization hasn't converged yet.\n",
      "  warnings.warn(\n"
     ]
    },
    {
     "name": "stdout",
     "output_type": "stream",
     "text": [
      "Run: 96\n",
      " Accuracy: 0.688 \n",
      " Sensitivity: 0.778 \n",
      " Specificity: 1.000 \n",
      "Run: 97\n",
      " Accuracy: 0.750 \n",
      " Sensitivity: 0.889 \n",
      " Specificity: 1.000 \n"
     ]
    },
    {
     "name": "stderr",
     "output_type": "stream",
     "text": [
      "C:\\Users\\fd299212\\anaconda3\\lib\\site-packages\\sklearn\\neural_network\\_multilayer_perceptron.py:614: ConvergenceWarning: Stochastic Optimizer: Maximum iterations (2000) reached and the optimization hasn't converged yet.\n",
      "  warnings.warn(\n",
      "C:\\Users\\fd299212\\anaconda3\\lib\\site-packages\\sklearn\\metrics\\_classification.py:1248: UndefinedMetricWarning: Precision and F-score are ill-defined and being set to 0.0 in labels with no predicted samples. Use `zero_division` parameter to control this behavior.\n",
      "  _warn_prf(average, modifier, msg_start, len(result))\n",
      "C:\\Users\\fd299212\\anaconda3\\lib\\site-packages\\sklearn\\metrics\\_classification.py:1248: UndefinedMetricWarning: Precision and F-score are ill-defined and being set to 0.0 in labels with no predicted samples. Use `zero_division` parameter to control this behavior.\n",
      "  _warn_prf(average, modifier, msg_start, len(result))\n",
      "C:\\Users\\fd299212\\anaconda3\\lib\\site-packages\\sklearn\\metrics\\_classification.py:1248: UndefinedMetricWarning: Precision and F-score are ill-defined and being set to 0.0 in labels with no predicted samples. Use `zero_division` parameter to control this behavior.\n",
      "  _warn_prf(average, modifier, msg_start, len(result))\n"
     ]
    },
    {
     "name": "stdout",
     "output_type": "stream",
     "text": [
      "Run: 98\n",
      " Accuracy: 0.625 \n",
      " Sensitivity: 0.875 \n",
      " Specificity: 0.875 \n"
     ]
    },
    {
     "name": "stderr",
     "output_type": "stream",
     "text": [
      "C:\\Users\\fd299212\\anaconda3\\lib\\site-packages\\sklearn\\neural_network\\_multilayer_perceptron.py:614: ConvergenceWarning: Stochastic Optimizer: Maximum iterations (2000) reached and the optimization hasn't converged yet.\n",
      "  warnings.warn(\n"
     ]
    },
    {
     "name": "stdout",
     "output_type": "stream",
     "text": [
      "Run: 99\n",
      " Accuracy: 0.688 \n",
      " Sensitivity: 0.778 \n",
      " Specificity: 1.000 \n",
      "Run: 100\n",
      " Accuracy: 0.750 \n",
      " Sensitivity: 0.778 \n",
      " Specificity: 1.000 \n",
      "\n",
      "Average Accuracy: 0.737 \n",
      "Average Sensitivity: 0.877 \n",
      "Average Specificity: 0.939 \n"
     ]
    }
   ],
   "source": [
    "#this cell includes code to do 'n' runs of random train/tests on\n",
    "#the whole data set using the best estimator settings from gridsearchCV\n",
    "from sklearn import metrics \n",
    "accuracy_sum = 0\n",
    "sensitivity_sum = 0\n",
    "specificity_sum = 0\n",
    "\n",
    "count = 100\n",
    "new_model = MLPClassifier(alpha=grid.best_estimator_.alpha, hidden_layer_sizes=grid.best_estimator_.hidden_layer_sizes, \n",
    "                          max_iter=grid.best_estimator_.max_iter, solver=grid.best_estimator_.solver)\n",
    "for n in range(1, count+1):\n",
    "    X_tr, X_te, y_tr, y_te = train_test_split(X, y, test_size = 0.25, stratify=y)   \n",
    "\n",
    "    new_model.fit(X_tr, y_tr)\n",
    "    yh = new_model.predict(X_te)\n",
    "    cr = classification_report(y_te, yh, output_dict=True)\n",
    "    cnf_matrix = confusion_matrix(y_te, yh)\n",
    "    \n",
    "    curr_accuracy = metrics.accuracy_score(y_te,yh)\n",
    "    #the code below derives TP/FP/TN/FN values from the multiclass confusion matrix by ignoring \n",
    "    #misclassification of positive subclasses   \n",
    "    curr_false_pos = cnf_matrix.sum(axis=1)[0]-cnf_matrix[0][0]\n",
    "    curr_false_neg = cnf_matrix.sum(axis=0)[0]-cnf_matrix[0][0]\n",
    "    curr_true_neg = cnf_matrix[0][0]\n",
    "    curr_true_pos = cnf_matrix.sum()-(curr_false_pos+curr_false_neg+curr_true_neg)    \n",
    "        \n",
    "    curr_sensitivity = curr_true_pos/(curr_true_pos+curr_false_neg)\n",
    "    \n",
    "    curr_specificity = curr_true_neg/(curr_true_neg+curr_false_pos)\n",
    "    print(\"Run: %d\" % (n))\n",
    "    print(' Accuracy: %.3f ' % (curr_accuracy))\n",
    "    print(' Sensitivity: %.3f ' % (curr_sensitivity))\n",
    "    print(' Specificity: %.3f ' % (curr_specificity))\n",
    "        \n",
    "    sensitivity_sum = sensitivity_sum + curr_sensitivity\n",
    "    specificity_sum = specificity_sum + curr_specificity\n",
    "    accuracy_sum = accuracy_sum + curr_accuracy\n",
    "\n",
    "average_accuracy = accuracy_sum/count\n",
    "average_sensitivity = sensitivity_sum/count\n",
    "average_specificity = specificity_sum/count\n",
    "print('')\n",
    "print('Average Accuracy: %.3f ' % (average_accuracy))\n",
    "print('Average Sensitivity: %.3f ' % (average_sensitivity))\n",
    "print('Average Specificity: %.3f ' % (average_specificity))"
   ]
  },
  {
   "cell_type": "code",
   "execution_count": null,
   "id": "6c32ff9c",
   "metadata": {},
   "outputs": [],
   "source": []
  }
 ],
 "metadata": {
  "kernelspec": {
   "display_name": "Python 3 (ipykernel)",
   "language": "python",
   "name": "python3"
  },
  "language_info": {
   "codemirror_mode": {
    "name": "ipython",
    "version": 3
   },
   "file_extension": ".py",
   "mimetype": "text/x-python",
   "name": "python",
   "nbconvert_exporter": "python",
   "pygments_lexer": "ipython3",
   "version": "3.9.7"
  }
 },
 "nbformat": 4,
 "nbformat_minor": 5
}
