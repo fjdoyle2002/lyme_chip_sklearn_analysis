{
 "cells": [
  {
   "cell_type": "code",
   "execution_count": 2,
   "id": "a853139b",
   "metadata": {},
   "outputs": [],
   "source": [
    "import pandas as pd  \n",
    "import numpy as np  \n",
    "from sklearn.linear_model import LogisticRegression\n",
    "#from sklearn.metrics import classification_report, confusion_matrix  \n",
    "import matplotlib.pyplot as plt\n",
    "from sklearn import preprocessing\n",
    "%matplotlib inline\n",
    "\n"
   ]
  },
  {
   "cell_type": "code",
   "execution_count": 3,
   "id": "e6e8dc22",
   "metadata": {},
   "outputs": [
    {
     "data": {
      "text/html": [
       "<div>\n",
       "<style scoped>\n",
       "    .dataframe tbody tr th:only-of-type {\n",
       "        vertical-align: middle;\n",
       "    }\n",
       "\n",
       "    .dataframe tbody tr th {\n",
       "        vertical-align: top;\n",
       "    }\n",
       "\n",
       "    .dataframe thead th {\n",
       "        text-align: right;\n",
       "    }\n",
       "</style>\n",
       "<table border=\"1\" class=\"dataframe\">\n",
       "  <thead>\n",
       "    <tr style=\"text-align: right;\">\n",
       "      <th></th>\n",
       "      <th>ID</th>\n",
       "      <th>P100</th>\n",
       "      <th>P41</th>\n",
       "      <th>OspC</th>\n",
       "      <th>DbpA</th>\n",
       "      <th>BmpA</th>\n",
       "      <th>DbpB</th>\n",
       "      <th>P45</th>\n",
       "      <th>P58</th>\n",
       "      <th>P66</th>\n",
       "      <th>VlsE</th>\n",
       "      <th>ErpL</th>\n",
       "      <th>OspD</th>\n",
       "      <th>Diag</th>\n",
       "    </tr>\n",
       "  </thead>\n",
       "  <tbody>\n",
       "    <tr>\n",
       "      <th>0</th>\n",
       "      <td>R49#02</td>\n",
       "      <td>1.983017</td>\n",
       "      <td>2.176121</td>\n",
       "      <td>5.882121</td>\n",
       "      <td>1.738615</td>\n",
       "      <td>1.790831</td>\n",
       "      <td>3.950600</td>\n",
       "      <td>1.065420</td>\n",
       "      <td>1.938904</td>\n",
       "      <td>2.021073</td>\n",
       "      <td>12.455842</td>\n",
       "      <td>1.077889</td>\n",
       "      <td>1.784387</td>\n",
       "      <td>Pos - Late</td>\n",
       "    </tr>\n",
       "    <tr>\n",
       "      <th>1</th>\n",
       "      <td>R49#03</td>\n",
       "      <td>0.999950</td>\n",
       "      <td>2.920710</td>\n",
       "      <td>0.824318</td>\n",
       "      <td>8.279458</td>\n",
       "      <td>5.255024</td>\n",
       "      <td>3.925302</td>\n",
       "      <td>2.137922</td>\n",
       "      <td>9.256009</td>\n",
       "      <td>2.859532</td>\n",
       "      <td>9.868273</td>\n",
       "      <td>1.632559</td>\n",
       "      <td>1.639504</td>\n",
       "      <td>Pos - Late</td>\n",
       "    </tr>\n",
       "    <tr>\n",
       "      <th>2</th>\n",
       "      <td>R49#04</td>\n",
       "      <td>1.303573</td>\n",
       "      <td>2.653693</td>\n",
       "      <td>1.484388</td>\n",
       "      <td>11.072503</td>\n",
       "      <td>2.456271</td>\n",
       "      <td>9.749722</td>\n",
       "      <td>1.851222</td>\n",
       "      <td>3.669641</td>\n",
       "      <td>3.945022</td>\n",
       "      <td>11.615196</td>\n",
       "      <td>2.025580</td>\n",
       "      <td>1.568635</td>\n",
       "      <td>Pos - Late</td>\n",
       "    </tr>\n",
       "    <tr>\n",
       "      <th>3</th>\n",
       "      <td>R49#11</td>\n",
       "      <td>0.951188</td>\n",
       "      <td>1.917436</td>\n",
       "      <td>1.394031</td>\n",
       "      <td>1.197008</td>\n",
       "      <td>1.415143</td>\n",
       "      <td>2.359241</td>\n",
       "      <td>1.012177</td>\n",
       "      <td>1.321336</td>\n",
       "      <td>1.372410</td>\n",
       "      <td>4.370095</td>\n",
       "      <td>0.999341</td>\n",
       "      <td>1.308891</td>\n",
       "      <td>Pos - Early Conv</td>\n",
       "    </tr>\n",
       "    <tr>\n",
       "      <th>4</th>\n",
       "      <td>R49#12</td>\n",
       "      <td>1.117383</td>\n",
       "      <td>2.436597</td>\n",
       "      <td>2.284072</td>\n",
       "      <td>1.397075</td>\n",
       "      <td>1.373926</td>\n",
       "      <td>1.932654</td>\n",
       "      <td>1.233269</td>\n",
       "      <td>1.517965</td>\n",
       "      <td>1.648289</td>\n",
       "      <td>10.357989</td>\n",
       "      <td>1.230867</td>\n",
       "      <td>1.622813</td>\n",
       "      <td>Pos - Early Conv</td>\n",
       "    </tr>\n",
       "  </tbody>\n",
       "</table>\n",
       "</div>"
      ],
      "text/plain": [
       "       ID      P100       P41      OspC       DbpA      BmpA      DbpB  \\\n",
       "0  R49#02  1.983017  2.176121  5.882121   1.738615  1.790831  3.950600   \n",
       "1  R49#03  0.999950  2.920710  0.824318   8.279458  5.255024  3.925302   \n",
       "2  R49#04  1.303573  2.653693  1.484388  11.072503  2.456271  9.749722   \n",
       "3  R49#11  0.951188  1.917436  1.394031   1.197008  1.415143  2.359241   \n",
       "4  R49#12  1.117383  2.436597  2.284072   1.397075  1.373926  1.932654   \n",
       "\n",
       "        P45       P58       P66       VlsE      ErpL      OspD  \\\n",
       "0  1.065420  1.938904  2.021073  12.455842  1.077889  1.784387   \n",
       "1  2.137922  9.256009  2.859532   9.868273  1.632559  1.639504   \n",
       "2  1.851222  3.669641  3.945022  11.615196  2.025580  1.568635   \n",
       "3  1.012177  1.321336  1.372410   4.370095  0.999341  1.308891   \n",
       "4  1.233269  1.517965  1.648289  10.357989  1.230867  1.622813   \n",
       "\n",
       "               Diag  \n",
       "0        Pos - Late  \n",
       "1        Pos - Late  \n",
       "2        Pos - Late  \n",
       "3  Pos - Early Conv  \n",
       "4  Pos - Early Conv  "
      ]
     },
     "execution_count": 3,
     "metadata": {},
     "output_type": "execute_result"
    }
   ],
   "source": [
    "#df = pd.read_csv('C:\\\\Users\\\\fd299212\\\\Desktop\\\\lab_Stuff\\\\collaborations\\\\cady\\\\machineLearning\\\\lyme_data_gcfp.txt',sep='\\t')\n",
    "df = pd.read_csv('C:\\\\Users\\\\fd299212\\\\Desktop\\\\lab_Stuff\\\\collaborations\\\\cady\\\\machineLearning\\\\lyme_data_20220520.csv')\n",
    "df.head()"
   ]
  },
  {
   "cell_type": "code",
   "execution_count": 4,
   "id": "cdee2745",
   "metadata": {
    "scrolled": true
   },
   "outputs": [
    {
     "name": "stdout",
     "output_type": "stream",
     "text": [
      "<class 'pandas.core.frame.DataFrame'>\n",
      "RangeIndex: 64 entries, 0 to 63\n",
      "Data columns (total 14 columns):\n",
      " #   Column  Non-Null Count  Dtype  \n",
      "---  ------  --------------  -----  \n",
      " 0   ID      64 non-null     object \n",
      " 1   P100    64 non-null     float64\n",
      " 2   P41     64 non-null     float64\n",
      " 3   OspC    64 non-null     float64\n",
      " 4   DbpA    64 non-null     float64\n",
      " 5   BmpA    64 non-null     float64\n",
      " 6   DbpB    64 non-null     float64\n",
      " 7   P45     64 non-null     float64\n",
      " 8   P58     64 non-null     float64\n",
      " 9   P66     64 non-null     float64\n",
      " 10  VlsE    64 non-null     float64\n",
      " 11  ErpL    64 non-null     float64\n",
      " 12  OspD    64 non-null     float64\n",
      " 13  Diag    64 non-null     object \n",
      "dtypes: float64(12), object(2)\n",
      "memory usage: 7.1+ KB\n"
     ]
    }
   ],
   "source": [
    "#df['Diag'].value_counts()\n",
    "df.info()"
   ]
  },
  {
   "cell_type": "code",
   "execution_count": 5,
   "id": "4b4e072a",
   "metadata": {},
   "outputs": [
    {
     "data": {
      "text/plain": [
       "Index(['ID', 'P100', 'P41', 'OspC', 'DbpA', 'BmpA', 'DbpB', 'P45', 'P58',\n",
       "       'P66', 'VlsE', 'ErpL', 'OspD', 'Diag'],\n",
       "      dtype='object')"
      ]
     },
     "execution_count": 5,
     "metadata": {},
     "output_type": "execute_result"
    }
   ],
   "source": [
    "df.columns\n",
    "#df.dtypes"
   ]
  },
  {
   "cell_type": "code",
   "execution_count": 6,
   "id": "6b5697c5",
   "metadata": {},
   "outputs": [],
   "source": [
    "from sklearn.model_selection import train_test_split\n",
    "#X = df.drop(['Diag','ID'], axis=1)  \n",
    "#X = df.filter(['VlsE', 'DbpA', 'P58', 'OspC','ErpL','DbpB'],axis=1) \n",
    "X = df.filter(['VlsE', 'DbpA', 'P58', 'OspC','ErpL','P66'],axis=1) \n",
    "\n",
    "#Data Standardization gives the data zero mean and unit variance, it is considered good practice, \n",
    "#especially for algorithms such as KNN which is based on the distance of data points\n",
    "#however, there is some disagreement about it for logistic regression...may require testing for specific dataset \n",
    "X = preprocessing.StandardScaler().fit(X).transform(X.astype(float))\n",
    "X[0:5]\n",
    "y = df['Diag']\n",
    "#split original dataset into training and testing subsets\n",
    "#stratify=y ensures that the sampled sets attempt to represent each class's proportions as they were in the full set\n",
    "#the 'y' does not mean 'yes' it is the y vectors of class labels\n",
    "#note, random_state provides specific seed for pseudorandom generator to allow reproducible analysis of the model\n",
    "#remove this parameter to allow random selection each run\n",
    "X_train, X_test, y_train, y_test = train_test_split(X, y, test_size = 0.25, stratify=y, random_state=42)"
   ]
  },
  {
   "cell_type": "code",
   "execution_count": 7,
   "id": "1719e563",
   "metadata": {},
   "outputs": [
    {
     "name": "stdout",
     "output_type": "stream",
     "text": [
      "Fitting 5 folds for each of 40 candidates, totalling 200 fits\n",
      "[CV] END ...C=0.1, max_iter=5000, penalty=none, solver=lbfgs; total time=   0.0s\n",
      "[CV] END ...C=0.1, max_iter=5000, penalty=none, solver=lbfgs; total time=   0.0s\n",
      "[CV] END ...C=0.1, max_iter=5000, penalty=none, solver=lbfgs; total time=   0.0s\n"
     ]
    },
    {
     "name": "stderr",
     "output_type": "stream",
     "text": [
      "C:\\Users\\fd299212\\anaconda3\\lib\\site-packages\\sklearn\\linear_model\\_logistic.py:1322: UserWarning: Setting penalty='none' will ignore the C and l1_ratio parameters\n",
      "  warnings.warn(\n",
      "C:\\Users\\fd299212\\anaconda3\\lib\\site-packages\\sklearn\\linear_model\\_logistic.py:1322: UserWarning: Setting penalty='none' will ignore the C and l1_ratio parameters\n",
      "  warnings.warn(\n",
      "C:\\Users\\fd299212\\anaconda3\\lib\\site-packages\\sklearn\\linear_model\\_logistic.py:1322: UserWarning: Setting penalty='none' will ignore the C and l1_ratio parameters\n",
      "  warnings.warn(\n",
      "C:\\Users\\fd299212\\anaconda3\\lib\\site-packages\\sklearn\\linear_model\\_logistic.py:1322: UserWarning: Setting penalty='none' will ignore the C and l1_ratio parameters\n",
      "  warnings.warn(\n"
     ]
    },
    {
     "name": "stdout",
     "output_type": "stream",
     "text": [
      "[CV] END ...C=0.1, max_iter=5000, penalty=none, solver=lbfgs; total time=   0.0s\n",
      "[CV] END ...C=0.1, max_iter=5000, penalty=none, solver=lbfgs; total time=   0.1s\n"
     ]
    },
    {
     "name": "stderr",
     "output_type": "stream",
     "text": [
      "C:\\Users\\fd299212\\anaconda3\\lib\\site-packages\\sklearn\\linear_model\\_logistic.py:1322: UserWarning: Setting penalty='none' will ignore the C and l1_ratio parameters\n",
      "  warnings.warn(\n",
      "C:\\Users\\fd299212\\anaconda3\\lib\\site-packages\\sklearn\\linear_model\\_logistic.py:1322: UserWarning: Setting penalty='none' will ignore the C and l1_ratio parameters\n",
      "  warnings.warn(\n"
     ]
    },
    {
     "name": "stdout",
     "output_type": "stream",
     "text": [
      "[CV] END C=0.1, max_iter=5000, penalty=none, solver=newton-cg; total time=   0.0s\n"
     ]
    },
    {
     "name": "stderr",
     "output_type": "stream",
     "text": [
      "C:\\Users\\fd299212\\anaconda3\\lib\\site-packages\\sklearn\\linear_model\\_logistic.py:1322: UserWarning: Setting penalty='none' will ignore the C and l1_ratio parameters\n",
      "  warnings.warn(\n"
     ]
    },
    {
     "name": "stdout",
     "output_type": "stream",
     "text": [
      "[CV] END C=0.1, max_iter=5000, penalty=none, solver=newton-cg; total time=   0.2s\n",
      "[CV] END C=0.1, max_iter=5000, penalty=none, solver=newton-cg; total time=   0.1s\n"
     ]
    },
    {
     "name": "stderr",
     "output_type": "stream",
     "text": [
      "C:\\Users\\fd299212\\anaconda3\\lib\\site-packages\\sklearn\\linear_model\\_logistic.py:1322: UserWarning: Setting penalty='none' will ignore the C and l1_ratio parameters\n",
      "  warnings.warn(\n",
      "C:\\Users\\fd299212\\anaconda3\\lib\\site-packages\\sklearn\\linear_model\\_logistic.py:1322: UserWarning: Setting penalty='none' will ignore the C and l1_ratio parameters\n",
      "  warnings.warn(\n"
     ]
    },
    {
     "name": "stdout",
     "output_type": "stream",
     "text": [
      "[CV] END C=0.1, max_iter=5000, penalty=none, solver=newton-cg; total time=   0.0s\n",
      "[CV] END C=0.1, max_iter=5000, penalty=none, solver=newton-cg; total time=   0.2s\n"
     ]
    },
    {
     "name": "stderr",
     "output_type": "stream",
     "text": [
      "C:\\Users\\fd299212\\anaconda3\\lib\\site-packages\\sklearn\\linear_model\\_logistic.py:1322: UserWarning: Setting penalty='none' will ignore the C and l1_ratio parameters\n",
      "  warnings.warn(\n",
      "C:\\Users\\fd299212\\anaconda3\\lib\\site-packages\\sklearn\\linear_model\\_logistic.py:1322: UserWarning: Setting penalty='none' will ignore the C and l1_ratio parameters\n",
      "  warnings.warn(\n",
      "C:\\Users\\fd299212\\anaconda3\\lib\\site-packages\\sklearn\\linear_model\\_sag.py:328: ConvergenceWarning: The max_iter was reached which means the coef_ did not converge\n",
      "  warnings.warn(\"The max_iter was reached which means \"\n",
      "C:\\Users\\fd299212\\anaconda3\\lib\\site-packages\\sklearn\\linear_model\\_logistic.py:1322: UserWarning: Setting penalty='none' will ignore the C and l1_ratio parameters\n",
      "  warnings.warn(\n",
      "C:\\Users\\fd299212\\anaconda3\\lib\\site-packages\\sklearn\\linear_model\\_sag.py:328: ConvergenceWarning: The max_iter was reached which means the coef_ did not converge\n",
      "  warnings.warn(\"The max_iter was reached which means \"\n",
      "C:\\Users\\fd299212\\anaconda3\\lib\\site-packages\\sklearn\\linear_model\\_logistic.py:1322: UserWarning: Setting penalty='none' will ignore the C and l1_ratio parameters\n",
      "  warnings.warn(\n"
     ]
    },
    {
     "name": "stdout",
     "output_type": "stream",
     "text": [
      "[CV] END .....C=0.1, max_iter=5000, penalty=none, solver=sag; total time=   0.0s\n",
      "[CV] END .....C=0.1, max_iter=5000, penalty=none, solver=sag; total time=   0.0s\n",
      "[CV] END .....C=0.1, max_iter=5000, penalty=none, solver=sag; total time=   0.0s\n",
      "[CV] END .....C=0.1, max_iter=5000, penalty=none, solver=sag; total time=   0.0s\n"
     ]
    },
    {
     "name": "stderr",
     "output_type": "stream",
     "text": [
      "C:\\Users\\fd299212\\anaconda3\\lib\\site-packages\\sklearn\\linear_model\\_logistic.py:1322: UserWarning: Setting penalty='none' will ignore the C and l1_ratio parameters\n",
      "  warnings.warn(\n",
      "C:\\Users\\fd299212\\anaconda3\\lib\\site-packages\\sklearn\\linear_model\\_sag.py:328: ConvergenceWarning: The max_iter was reached which means the coef_ did not converge\n",
      "  warnings.warn(\"The max_iter was reached which means \"\n",
      "C:\\Users\\fd299212\\anaconda3\\lib\\site-packages\\sklearn\\linear_model\\_logistic.py:1322: UserWarning: Setting penalty='none' will ignore the C and l1_ratio parameters\n",
      "  warnings.warn(\n"
     ]
    },
    {
     "name": "stdout",
     "output_type": "stream",
     "text": [
      "[CV] END .....C=0.1, max_iter=5000, penalty=none, solver=sag; total time=   0.0s\n",
      "[CV] END .....C=0.1, max_iter=5000, penalty=l2, solver=lbfgs; total time=   0.0s\n",
      "[CV] END .....C=0.1, max_iter=5000, penalty=l2, solver=lbfgs; total time=   0.0s\n",
      "[CV] END .....C=0.1, max_iter=5000, penalty=l2, solver=lbfgs; total time=   0.0s\n",
      "[CV] END .....C=0.1, max_iter=5000, penalty=l2, solver=lbfgs; total time=   0.0s\n",
      "[CV] END .....C=0.1, max_iter=5000, penalty=l2, solver=lbfgs; total time=   0.0s\n",
      "[CV] END .C=0.1, max_iter=5000, penalty=l2, solver=newton-cg; total time=   0.0s\n",
      "[CV] END .C=0.1, max_iter=5000, penalty=l2, solver=newton-cg; total time=   0.0s\n",
      "[CV] END .C=0.1, max_iter=5000, penalty=l2, solver=newton-cg; total time=   0.0s\n",
      "[CV] END .C=0.1, max_iter=5000, penalty=l2, solver=newton-cg; total time=   0.0s\n",
      "[CV] END .C=0.1, max_iter=5000, penalty=l2, solver=newton-cg; total time=   0.0s\n",
      "[CV] END .......C=0.1, max_iter=5000, penalty=l2, solver=sag; total time=   0.0s\n",
      "[CV] END .......C=0.1, max_iter=5000, penalty=l2, solver=sag; total time=   0.0s\n",
      "[CV] END .......C=0.1, max_iter=5000, penalty=l2, solver=sag; total time=   0.0s\n",
      "[CV] END .......C=0.1, max_iter=5000, penalty=l2, solver=sag; total time=   0.0s\n",
      "[CV] END .......C=0.1, max_iter=5000, penalty=l2, solver=sag; total time=   0.0s\n",
      "[CV] END .....C=1, max_iter=5000, penalty=none, solver=lbfgs; total time=   0.0s\n",
      "[CV] END .....C=1, max_iter=5000, penalty=none, solver=lbfgs; total time=   0.0s\n",
      "[CV] END .....C=1, max_iter=5000, penalty=none, solver=lbfgs; total time=   0.0s\n",
      "[CV] END .....C=1, max_iter=5000, penalty=none, solver=lbfgs; total time=   0.0s\n",
      "[CV] END .....C=1, max_iter=5000, penalty=none, solver=lbfgs; total time=   0.1s\n",
      "[CV] END .C=1, max_iter=5000, penalty=none, solver=newton-cg; total time=   0.0s\n",
      "[CV] END .C=1, max_iter=5000, penalty=none, solver=newton-cg; total time=   0.2s\n",
      "[CV] END .C=1, max_iter=5000, penalty=none, solver=newton-cg; total time=   0.2s\n",
      "[CV] END .C=1, max_iter=5000, penalty=none, solver=newton-cg; total time=   0.0s\n",
      "[CV] END .C=1, max_iter=5000, penalty=none, solver=newton-cg; total time=   0.2s\n",
      "[CV] END .......C=1, max_iter=5000, penalty=none, solver=sag; total time=   0.0s\n"
     ]
    },
    {
     "name": "stderr",
     "output_type": "stream",
     "text": [
      "C:\\Users\\fd299212\\anaconda3\\lib\\site-packages\\sklearn\\linear_model\\_sag.py:328: ConvergenceWarning: The max_iter was reached which means the coef_ did not converge\n",
      "  warnings.warn(\"The max_iter was reached which means \"\n",
      "C:\\Users\\fd299212\\anaconda3\\lib\\site-packages\\sklearn\\linear_model\\_sag.py:328: ConvergenceWarning: The max_iter was reached which means the coef_ did not converge\n",
      "  warnings.warn(\"The max_iter was reached which means \"\n"
     ]
    },
    {
     "name": "stdout",
     "output_type": "stream",
     "text": [
      "[CV] END .......C=1, max_iter=5000, penalty=none, solver=sag; total time=   0.1s\n",
      "[CV] END .......C=1, max_iter=5000, penalty=none, solver=sag; total time=   0.0s\n"
     ]
    },
    {
     "name": "stderr",
     "output_type": "stream",
     "text": [
      "C:\\Users\\fd299212\\anaconda3\\lib\\site-packages\\sklearn\\linear_model\\_sag.py:328: ConvergenceWarning: The max_iter was reached which means the coef_ did not converge\n",
      "  warnings.warn(\"The max_iter was reached which means \"\n"
     ]
    },
    {
     "name": "stdout",
     "output_type": "stream",
     "text": [
      "[CV] END .......C=1, max_iter=5000, penalty=none, solver=sag; total time=   0.0s\n",
      "[CV] END .......C=1, max_iter=5000, penalty=none, solver=sag; total time=   0.0s\n",
      "[CV] END .......C=1, max_iter=5000, penalty=l2, solver=lbfgs; total time=   0.0s\n",
      "[CV] END .......C=1, max_iter=5000, penalty=l2, solver=lbfgs; total time=   0.0s\n",
      "[CV] END .......C=1, max_iter=5000, penalty=l2, solver=lbfgs; total time=   0.0s\n",
      "[CV] END .......C=1, max_iter=5000, penalty=l2, solver=lbfgs; total time=   0.0s\n",
      "[CV] END .......C=1, max_iter=5000, penalty=l2, solver=lbfgs; total time=   0.0s\n",
      "[CV] END ...C=1, max_iter=5000, penalty=l2, solver=newton-cg; total time=   0.0s\n",
      "[CV] END ...C=1, max_iter=5000, penalty=l2, solver=newton-cg; total time=   0.0s\n",
      "[CV] END ...C=1, max_iter=5000, penalty=l2, solver=newton-cg; total time=   0.0s\n",
      "[CV] END ...C=1, max_iter=5000, penalty=l2, solver=newton-cg; total time=   0.0s\n",
      "[CV] END ...C=1, max_iter=5000, penalty=l2, solver=newton-cg; total time=   0.0s\n",
      "[CV] END .........C=1, max_iter=5000, penalty=l2, solver=sag; total time=   0.0s\n",
      "[CV] END .........C=1, max_iter=5000, penalty=l2, solver=sag; total time=   0.0s\n",
      "[CV] END .........C=1, max_iter=5000, penalty=l2, solver=sag; total time=   0.0s\n",
      "[CV] END .........C=1, max_iter=5000, penalty=l2, solver=sag; total time=   0.0s\n",
      "[CV] END .........C=1, max_iter=5000, penalty=l2, solver=sag; total time=   0.0s\n"
     ]
    },
    {
     "name": "stderr",
     "output_type": "stream",
     "text": [
      "C:\\Users\\fd299212\\anaconda3\\lib\\site-packages\\sklearn\\linear_model\\_logistic.py:1322: UserWarning: Setting penalty='none' will ignore the C and l1_ratio parameters\n",
      "  warnings.warn(\n",
      "C:\\Users\\fd299212\\anaconda3\\lib\\site-packages\\sklearn\\linear_model\\_logistic.py:1322: UserWarning: Setting penalty='none' will ignore the C and l1_ratio parameters\n",
      "  warnings.warn(\n",
      "C:\\Users\\fd299212\\anaconda3\\lib\\site-packages\\sklearn\\linear_model\\_logistic.py:1322: UserWarning: Setting penalty='none' will ignore the C and l1_ratio parameters\n",
      "  warnings.warn(\n",
      "C:\\Users\\fd299212\\anaconda3\\lib\\site-packages\\sklearn\\linear_model\\_logistic.py:1322: UserWarning: Setting penalty='none' will ignore the C and l1_ratio parameters\n",
      "  warnings.warn(\n"
     ]
    },
    {
     "name": "stdout",
     "output_type": "stream",
     "text": [
      "[CV] END ...C=2.5, max_iter=5000, penalty=none, solver=lbfgs; total time=   0.0s\n",
      "[CV] END ...C=2.5, max_iter=5000, penalty=none, solver=lbfgs; total time=   0.0s\n",
      "[CV] END ...C=2.5, max_iter=5000, penalty=none, solver=lbfgs; total time=   0.0s\n"
     ]
    },
    {
     "name": "stderr",
     "output_type": "stream",
     "text": [
      "C:\\Users\\fd299212\\anaconda3\\lib\\site-packages\\sklearn\\linear_model\\_logistic.py:1322: UserWarning: Setting penalty='none' will ignore the C and l1_ratio parameters\n",
      "  warnings.warn(\n",
      "C:\\Users\\fd299212\\anaconda3\\lib\\site-packages\\sklearn\\linear_model\\_logistic.py:1322: UserWarning: Setting penalty='none' will ignore the C and l1_ratio parameters\n",
      "  warnings.warn(\n",
      "C:\\Users\\fd299212\\anaconda3\\lib\\site-packages\\sklearn\\linear_model\\_logistic.py:1322: UserWarning: Setting penalty='none' will ignore the C and l1_ratio parameters\n",
      "  warnings.warn(\n"
     ]
    },
    {
     "name": "stdout",
     "output_type": "stream",
     "text": [
      "[CV] END ...C=2.5, max_iter=5000, penalty=none, solver=lbfgs; total time=   0.0s\n",
      "[CV] END ...C=2.5, max_iter=5000, penalty=none, solver=lbfgs; total time=   0.1s\n",
      "[CV] END C=2.5, max_iter=5000, penalty=none, solver=newton-cg; total time=   0.0s\n",
      "[CV] END C=2.5, max_iter=5000, penalty=none, solver=newton-cg; total time=   0.2s\n"
     ]
    },
    {
     "name": "stderr",
     "output_type": "stream",
     "text": [
      "C:\\Users\\fd299212\\anaconda3\\lib\\site-packages\\sklearn\\linear_model\\_logistic.py:1322: UserWarning: Setting penalty='none' will ignore the C and l1_ratio parameters\n",
      "  warnings.warn(\n"
     ]
    },
    {
     "name": "stdout",
     "output_type": "stream",
     "text": [
      "[CV] END C=2.5, max_iter=5000, penalty=none, solver=newton-cg; total time=   0.1s\n",
      "[CV] END C=2.5, max_iter=5000, penalty=none, solver=newton-cg; total time=   0.1s\n"
     ]
    },
    {
     "name": "stderr",
     "output_type": "stream",
     "text": [
      "C:\\Users\\fd299212\\anaconda3\\lib\\site-packages\\sklearn\\linear_model\\_logistic.py:1322: UserWarning: Setting penalty='none' will ignore the C and l1_ratio parameters\n",
      "  warnings.warn(\n",
      "C:\\Users\\fd299212\\anaconda3\\lib\\site-packages\\sklearn\\linear_model\\_logistic.py:1322: UserWarning: Setting penalty='none' will ignore the C and l1_ratio parameters\n",
      "  warnings.warn(\n"
     ]
    },
    {
     "name": "stdout",
     "output_type": "stream",
     "text": [
      "[CV] END C=2.5, max_iter=5000, penalty=none, solver=newton-cg; total time=   0.2s\n",
      "[CV] END .....C=2.5, max_iter=5000, penalty=none, solver=sag; total time=   0.0s\n"
     ]
    },
    {
     "name": "stderr",
     "output_type": "stream",
     "text": [
      "C:\\Users\\fd299212\\anaconda3\\lib\\site-packages\\sklearn\\linear_model\\_logistic.py:1322: UserWarning: Setting penalty='none' will ignore the C and l1_ratio parameters\n",
      "  warnings.warn(\n",
      "C:\\Users\\fd299212\\anaconda3\\lib\\site-packages\\sklearn\\linear_model\\_sag.py:328: ConvergenceWarning: The max_iter was reached which means the coef_ did not converge\n",
      "  warnings.warn(\"The max_iter was reached which means \"\n",
      "C:\\Users\\fd299212\\anaconda3\\lib\\site-packages\\sklearn\\linear_model\\_logistic.py:1322: UserWarning: Setting penalty='none' will ignore the C and l1_ratio parameters\n",
      "  warnings.warn(\n",
      "C:\\Users\\fd299212\\anaconda3\\lib\\site-packages\\sklearn\\linear_model\\_sag.py:328: ConvergenceWarning: The max_iter was reached which means the coef_ did not converge\n",
      "  warnings.warn(\"The max_iter was reached which means \"\n",
      "C:\\Users\\fd299212\\anaconda3\\lib\\site-packages\\sklearn\\linear_model\\_logistic.py:1322: UserWarning: Setting penalty='none' will ignore the C and l1_ratio parameters\n",
      "  warnings.warn(\n",
      "C:\\Users\\fd299212\\anaconda3\\lib\\site-packages\\sklearn\\linear_model\\_logistic.py:1322: UserWarning: Setting penalty='none' will ignore the C and l1_ratio parameters\n",
      "  warnings.warn(\n"
     ]
    },
    {
     "name": "stdout",
     "output_type": "stream",
     "text": [
      "[CV] END .....C=2.5, max_iter=5000, penalty=none, solver=sag; total time=   0.0s\n",
      "[CV] END .....C=2.5, max_iter=5000, penalty=none, solver=sag; total time=   0.0s\n"
     ]
    },
    {
     "name": "stderr",
     "output_type": "stream",
     "text": [
      "C:\\Users\\fd299212\\anaconda3\\lib\\site-packages\\sklearn\\linear_model\\_sag.py:328: ConvergenceWarning: The max_iter was reached which means the coef_ did not converge\n",
      "  warnings.warn(\"The max_iter was reached which means \"\n",
      "C:\\Users\\fd299212\\anaconda3\\lib\\site-packages\\sklearn\\linear_model\\_logistic.py:1322: UserWarning: Setting penalty='none' will ignore the C and l1_ratio parameters\n",
      "  warnings.warn(\n"
     ]
    },
    {
     "name": "stdout",
     "output_type": "stream",
     "text": [
      "[CV] END .....C=2.5, max_iter=5000, penalty=none, solver=sag; total time=   0.0s\n",
      "[CV] END .....C=2.5, max_iter=5000, penalty=none, solver=sag; total time=   0.0s\n",
      "[CV] END .....C=2.5, max_iter=5000, penalty=l2, solver=lbfgs; total time=   0.0s\n",
      "[CV] END .....C=2.5, max_iter=5000, penalty=l2, solver=lbfgs; total time=   0.0s\n",
      "[CV] END .....C=2.5, max_iter=5000, penalty=l2, solver=lbfgs; total time=   0.0s\n",
      "[CV] END .....C=2.5, max_iter=5000, penalty=l2, solver=lbfgs; total time=   0.0s\n",
      "[CV] END .....C=2.5, max_iter=5000, penalty=l2, solver=lbfgs; total time=   0.0s\n",
      "[CV] END .C=2.5, max_iter=5000, penalty=l2, solver=newton-cg; total time=   0.0s\n",
      "[CV] END .C=2.5, max_iter=5000, penalty=l2, solver=newton-cg; total time=   0.0s\n",
      "[CV] END .C=2.5, max_iter=5000, penalty=l2, solver=newton-cg; total time=   0.0s\n",
      "[CV] END .C=2.5, max_iter=5000, penalty=l2, solver=newton-cg; total time=   0.0s\n",
      "[CV] END .C=2.5, max_iter=5000, penalty=l2, solver=newton-cg; total time=   0.0s\n",
      "[CV] END .......C=2.5, max_iter=5000, penalty=l2, solver=sag; total time=   0.0s\n",
      "[CV] END .......C=2.5, max_iter=5000, penalty=l2, solver=sag; total time=   0.0s\n",
      "[CV] END .......C=2.5, max_iter=5000, penalty=l2, solver=sag; total time=   0.0s\n",
      "[CV] END .......C=2.5, max_iter=5000, penalty=l2, solver=sag; total time=   0.0s\n",
      "[CV] END .......C=2.5, max_iter=5000, penalty=l2, solver=sag; total time=   0.0s\n"
     ]
    },
    {
     "name": "stderr",
     "output_type": "stream",
     "text": [
      "C:\\Users\\fd299212\\anaconda3\\lib\\site-packages\\sklearn\\linear_model\\_logistic.py:1322: UserWarning: Setting penalty='none' will ignore the C and l1_ratio parameters\n",
      "  warnings.warn(\n",
      "C:\\Users\\fd299212\\anaconda3\\lib\\site-packages\\sklearn\\linear_model\\_logistic.py:1322: UserWarning: Setting penalty='none' will ignore the C and l1_ratio parameters\n",
      "  warnings.warn(\n",
      "C:\\Users\\fd299212\\anaconda3\\lib\\site-packages\\sklearn\\linear_model\\_logistic.py:1322: UserWarning: Setting penalty='none' will ignore the C and l1_ratio parameters\n",
      "  warnings.warn(\n",
      "C:\\Users\\fd299212\\anaconda3\\lib\\site-packages\\sklearn\\linear_model\\_logistic.py:1322: UserWarning: Setting penalty='none' will ignore the C and l1_ratio parameters\n",
      "  warnings.warn(\n"
     ]
    },
    {
     "name": "stdout",
     "output_type": "stream",
     "text": [
      "[CV] END .....C=5, max_iter=5000, penalty=none, solver=lbfgs; total time=   0.0s\n",
      "[CV] END .....C=5, max_iter=5000, penalty=none, solver=lbfgs; total time=   0.0s\n",
      "[CV] END .....C=5, max_iter=5000, penalty=none, solver=lbfgs; total time=   0.0s\n",
      "[CV] END .....C=5, max_iter=5000, penalty=none, solver=lbfgs; total time=   0.0s\n",
      "[CV] END .....C=5, max_iter=5000, penalty=none, solver=lbfgs; total time=   0.1s\n",
      "[CV] END .C=5, max_iter=5000, penalty=none, solver=newton-cg; total time=   0.0s\n"
     ]
    },
    {
     "name": "stderr",
     "output_type": "stream",
     "text": [
      "C:\\Users\\fd299212\\anaconda3\\lib\\site-packages\\sklearn\\linear_model\\_logistic.py:1322: UserWarning: Setting penalty='none' will ignore the C and l1_ratio parameters\n",
      "  warnings.warn(\n",
      "C:\\Users\\fd299212\\anaconda3\\lib\\site-packages\\sklearn\\linear_model\\_logistic.py:1322: UserWarning: Setting penalty='none' will ignore the C and l1_ratio parameters\n",
      "  warnings.warn(\n",
      "C:\\Users\\fd299212\\anaconda3\\lib\\site-packages\\sklearn\\linear_model\\_logistic.py:1322: UserWarning: Setting penalty='none' will ignore the C and l1_ratio parameters\n",
      "  warnings.warn(\n"
     ]
    },
    {
     "name": "stdout",
     "output_type": "stream",
     "text": [
      "[CV] END .C=5, max_iter=5000, penalty=none, solver=newton-cg; total time=   0.2s\n",
      "[CV] END .C=5, max_iter=5000, penalty=none, solver=newton-cg; total time=   0.1s\n"
     ]
    },
    {
     "name": "stderr",
     "output_type": "stream",
     "text": [
      "C:\\Users\\fd299212\\anaconda3\\lib\\site-packages\\sklearn\\linear_model\\_logistic.py:1322: UserWarning: Setting penalty='none' will ignore the C and l1_ratio parameters\n",
      "  warnings.warn(\n",
      "C:\\Users\\fd299212\\anaconda3\\lib\\site-packages\\sklearn\\linear_model\\_logistic.py:1322: UserWarning: Setting penalty='none' will ignore the C and l1_ratio parameters\n",
      "  warnings.warn(\n",
      "C:\\Users\\fd299212\\anaconda3\\lib\\site-packages\\sklearn\\linear_model\\_logistic.py:1322: UserWarning: Setting penalty='none' will ignore the C and l1_ratio parameters\n",
      "  warnings.warn(\n"
     ]
    },
    {
     "name": "stdout",
     "output_type": "stream",
     "text": [
      "[CV] END .C=5, max_iter=5000, penalty=none, solver=newton-cg; total time=   0.1s\n",
      "[CV] END .C=5, max_iter=5000, penalty=none, solver=newton-cg; total time=   0.2s\n",
      "[CV] END .......C=5, max_iter=5000, penalty=none, solver=sag; total time=   0.0s\n"
     ]
    },
    {
     "name": "stderr",
     "output_type": "stream",
     "text": [
      "C:\\Users\\fd299212\\anaconda3\\lib\\site-packages\\sklearn\\linear_model\\_logistic.py:1322: UserWarning: Setting penalty='none' will ignore the C and l1_ratio parameters\n",
      "  warnings.warn(\n",
      "C:\\Users\\fd299212\\anaconda3\\lib\\site-packages\\sklearn\\linear_model\\_sag.py:328: ConvergenceWarning: The max_iter was reached which means the coef_ did not converge\n",
      "  warnings.warn(\"The max_iter was reached which means \"\n",
      "C:\\Users\\fd299212\\anaconda3\\lib\\site-packages\\sklearn\\linear_model\\_logistic.py:1322: UserWarning: Setting penalty='none' will ignore the C and l1_ratio parameters\n",
      "  warnings.warn(\n",
      "C:\\Users\\fd299212\\anaconda3\\lib\\site-packages\\sklearn\\linear_model\\_sag.py:328: ConvergenceWarning: The max_iter was reached which means the coef_ did not converge\n",
      "  warnings.warn(\"The max_iter was reached which means \"\n",
      "C:\\Users\\fd299212\\anaconda3\\lib\\site-packages\\sklearn\\linear_model\\_logistic.py:1322: UserWarning: Setting penalty='none' will ignore the C and l1_ratio parameters\n",
      "  warnings.warn(\n",
      "C:\\Users\\fd299212\\anaconda3\\lib\\site-packages\\sklearn\\linear_model\\_logistic.py:1322: UserWarning: Setting penalty='none' will ignore the C and l1_ratio parameters\n",
      "  warnings.warn(\n"
     ]
    },
    {
     "name": "stdout",
     "output_type": "stream",
     "text": [
      "[CV] END .......C=5, max_iter=5000, penalty=none, solver=sag; total time=   0.0s\n",
      "[CV] END .......C=5, max_iter=5000, penalty=none, solver=sag; total time=   0.0s\n"
     ]
    },
    {
     "name": "stderr",
     "output_type": "stream",
     "text": [
      "C:\\Users\\fd299212\\anaconda3\\lib\\site-packages\\sklearn\\linear_model\\_sag.py:328: ConvergenceWarning: The max_iter was reached which means the coef_ did not converge\n",
      "  warnings.warn(\"The max_iter was reached which means \"\n",
      "C:\\Users\\fd299212\\anaconda3\\lib\\site-packages\\sklearn\\linear_model\\_logistic.py:1322: UserWarning: Setting penalty='none' will ignore the C and l1_ratio parameters\n",
      "  warnings.warn(\n"
     ]
    },
    {
     "name": "stdout",
     "output_type": "stream",
     "text": [
      "[CV] END .......C=5, max_iter=5000, penalty=none, solver=sag; total time=   0.1s\n",
      "[CV] END .......C=5, max_iter=5000, penalty=none, solver=sag; total time=   0.0s\n",
      "[CV] END .......C=5, max_iter=5000, penalty=l2, solver=lbfgs; total time=   0.0s\n",
      "[CV] END .......C=5, max_iter=5000, penalty=l2, solver=lbfgs; total time=   0.0s\n",
      "[CV] END .......C=5, max_iter=5000, penalty=l2, solver=lbfgs; total time=   0.0s\n",
      "[CV] END .......C=5, max_iter=5000, penalty=l2, solver=lbfgs; total time=   0.0s\n",
      "[CV] END .......C=5, max_iter=5000, penalty=l2, solver=lbfgs; total time=   0.0s\n",
      "[CV] END ...C=5, max_iter=5000, penalty=l2, solver=newton-cg; total time=   0.0s\n",
      "[CV] END ...C=5, max_iter=5000, penalty=l2, solver=newton-cg; total time=   0.0s\n",
      "[CV] END ...C=5, max_iter=5000, penalty=l2, solver=newton-cg; total time=   0.0s\n",
      "[CV] END ...C=5, max_iter=5000, penalty=l2, solver=newton-cg; total time=   0.0s\n",
      "[CV] END ...C=5, max_iter=5000, penalty=l2, solver=newton-cg; total time=   0.0s\n",
      "[CV] END .........C=5, max_iter=5000, penalty=l2, solver=sag; total time=   0.0s\n",
      "[CV] END .........C=5, max_iter=5000, penalty=l2, solver=sag; total time=   0.0s\n",
      "[CV] END .........C=5, max_iter=5000, penalty=l2, solver=sag; total time=   0.0s\n",
      "[CV] END .........C=5, max_iter=5000, penalty=l2, solver=sag; total time=   0.0s\n",
      "[CV] END .........C=5, max_iter=5000, penalty=l2, solver=sag; total time=   0.0s\n"
     ]
    },
    {
     "name": "stderr",
     "output_type": "stream",
     "text": [
      "C:\\Users\\fd299212\\anaconda3\\lib\\site-packages\\sklearn\\linear_model\\_logistic.py:1322: UserWarning: Setting penalty='none' will ignore the C and l1_ratio parameters\n",
      "  warnings.warn(\n",
      "C:\\Users\\fd299212\\anaconda3\\lib\\site-packages\\sklearn\\linear_model\\_sag.py:328: ConvergenceWarning: The max_iter was reached which means the coef_ did not converge\n",
      "  warnings.warn(\"The max_iter was reached which means \"\n"
     ]
    },
    {
     "name": "stdout",
     "output_type": "stream",
     "text": [
      "[CV] END ....C=0.1, max_iter=5000, penalty=none, solver=saga; total time=   0.1s\n",
      "[CV] END ....C=0.1, max_iter=5000, penalty=none, solver=saga; total time=   0.1s\n"
     ]
    },
    {
     "name": "stderr",
     "output_type": "stream",
     "text": [
      "C:\\Users\\fd299212\\anaconda3\\lib\\site-packages\\sklearn\\linear_model\\_logistic.py:1322: UserWarning: Setting penalty='none' will ignore the C and l1_ratio parameters\n",
      "  warnings.warn(\n",
      "C:\\Users\\fd299212\\anaconda3\\lib\\site-packages\\sklearn\\linear_model\\_logistic.py:1322: UserWarning: Setting penalty='none' will ignore the C and l1_ratio parameters\n",
      "  warnings.warn(\n",
      "C:\\Users\\fd299212\\anaconda3\\lib\\site-packages\\sklearn\\linear_model\\_sag.py:328: ConvergenceWarning: The max_iter was reached which means the coef_ did not converge\n",
      "  warnings.warn(\"The max_iter was reached which means \"\n",
      "C:\\Users\\fd299212\\anaconda3\\lib\\site-packages\\sklearn\\linear_model\\_logistic.py:1322: UserWarning: Setting penalty='none' will ignore the C and l1_ratio parameters\n",
      "  warnings.warn(\n"
     ]
    },
    {
     "name": "stdout",
     "output_type": "stream",
     "text": [
      "[CV] END ....C=0.1, max_iter=5000, penalty=none, solver=saga; total time=   0.1s\n"
     ]
    },
    {
     "name": "stderr",
     "output_type": "stream",
     "text": [
      "C:\\Users\\fd299212\\anaconda3\\lib\\site-packages\\sklearn\\linear_model\\_sag.py:328: ConvergenceWarning: The max_iter was reached which means the coef_ did not converge\n",
      "  warnings.warn(\"The max_iter was reached which means \"\n",
      "C:\\Users\\fd299212\\anaconda3\\lib\\site-packages\\sklearn\\linear_model\\_logistic.py:1322: UserWarning: Setting penalty='none' will ignore the C and l1_ratio parameters\n",
      "  warnings.warn(\n"
     ]
    },
    {
     "name": "stdout",
     "output_type": "stream",
     "text": [
      "[CV] END ....C=0.1, max_iter=5000, penalty=none, solver=saga; total time=   0.1s\n",
      "[CV] END ....C=0.1, max_iter=5000, penalty=none, solver=saga; total time=   0.1s\n",
      "[CV] END ......C=0.1, max_iter=5000, penalty=l1, solver=saga; total time=   0.0s\n",
      "[CV] END ......C=0.1, max_iter=5000, penalty=l1, solver=saga; total time=   0.0s\n",
      "[CV] END ......C=0.1, max_iter=5000, penalty=l1, solver=saga; total time=   0.0s\n",
      "[CV] END ......C=0.1, max_iter=5000, penalty=l1, solver=saga; total time=   0.0s\n",
      "[CV] END ......C=0.1, max_iter=5000, penalty=l1, solver=saga; total time=   0.0s\n",
      "[CV] END ......C=0.1, max_iter=5000, penalty=l2, solver=saga; total time=   0.0s\n",
      "[CV] END ......C=0.1, max_iter=5000, penalty=l2, solver=saga; total time=   0.0s\n",
      "[CV] END ......C=0.1, max_iter=5000, penalty=l2, solver=saga; total time=   0.0s\n",
      "[CV] END ......C=0.1, max_iter=5000, penalty=l2, solver=saga; total time=   0.0s\n",
      "[CV] END ......C=0.1, max_iter=5000, penalty=l2, solver=saga; total time=   0.0s\n",
      "[CV] END C=0.1, max_iter=5000, penalty=elasticnet, solver=saga; total time=   0.0s\n",
      "[CV] END C=0.1, max_iter=5000, penalty=elasticnet, solver=saga; total time=   0.0s\n",
      "[CV] END C=0.1, max_iter=5000, penalty=elasticnet, solver=saga; total time=   0.0s\n",
      "[CV] END C=0.1, max_iter=5000, penalty=elasticnet, solver=saga; total time=   0.0s\n",
      "[CV] END C=0.1, max_iter=5000, penalty=elasticnet, solver=saga; total time=   0.0s\n"
     ]
    },
    {
     "name": "stderr",
     "output_type": "stream",
     "text": [
      "C:\\Users\\fd299212\\anaconda3\\lib\\site-packages\\sklearn\\model_selection\\_validation.py:615: FitFailedWarning: Estimator fit failed. The score on this train-test partition for these parameters will be set to nan. Details: \n",
      "Traceback (most recent call last):\n",
      "  File \"C:\\Users\\fd299212\\anaconda3\\lib\\site-packages\\sklearn\\model_selection\\_validation.py\", line 598, in _fit_and_score\n",
      "    estimator.fit(X_train, y_train, **fit_params)\n",
      "  File \"C:\\Users\\fd299212\\anaconda3\\lib\\site-packages\\sklearn\\linear_model\\_logistic.py\", line 1314, in fit\n",
      "    raise ValueError(\"l1_ratio must be between 0 and 1;\"\n",
      "ValueError: l1_ratio must be between 0 and 1; got (l1_ratio=None)\n",
      "\n",
      "  warnings.warn(\"Estimator fit failed. The score on this train-test\"\n",
      "C:\\Users\\fd299212\\anaconda3\\lib\\site-packages\\sklearn\\model_selection\\_validation.py:615: FitFailedWarning: Estimator fit failed. The score on this train-test partition for these parameters will be set to nan. Details: \n",
      "Traceback (most recent call last):\n",
      "  File \"C:\\Users\\fd299212\\anaconda3\\lib\\site-packages\\sklearn\\model_selection\\_validation.py\", line 598, in _fit_and_score\n",
      "    estimator.fit(X_train, y_train, **fit_params)\n",
      "  File \"C:\\Users\\fd299212\\anaconda3\\lib\\site-packages\\sklearn\\linear_model\\_logistic.py\", line 1314, in fit\n",
      "    raise ValueError(\"l1_ratio must be between 0 and 1;\"\n",
      "ValueError: l1_ratio must be between 0 and 1; got (l1_ratio=None)\n",
      "\n",
      "  warnings.warn(\"Estimator fit failed. The score on this train-test\"\n",
      "C:\\Users\\fd299212\\anaconda3\\lib\\site-packages\\sklearn\\model_selection\\_validation.py:615: FitFailedWarning: Estimator fit failed. The score on this train-test partition for these parameters will be set to nan. Details: \n",
      "Traceback (most recent call last):\n",
      "  File \"C:\\Users\\fd299212\\anaconda3\\lib\\site-packages\\sklearn\\model_selection\\_validation.py\", line 598, in _fit_and_score\n",
      "    estimator.fit(X_train, y_train, **fit_params)\n",
      "  File \"C:\\Users\\fd299212\\anaconda3\\lib\\site-packages\\sklearn\\linear_model\\_logistic.py\", line 1314, in fit\n",
      "    raise ValueError(\"l1_ratio must be between 0 and 1;\"\n",
      "ValueError: l1_ratio must be between 0 and 1; got (l1_ratio=None)\n",
      "\n",
      "  warnings.warn(\"Estimator fit failed. The score on this train-test\"\n",
      "C:\\Users\\fd299212\\anaconda3\\lib\\site-packages\\sklearn\\model_selection\\_validation.py:615: FitFailedWarning: Estimator fit failed. The score on this train-test partition for these parameters will be set to nan. Details: \n",
      "Traceback (most recent call last):\n",
      "  File \"C:\\Users\\fd299212\\anaconda3\\lib\\site-packages\\sklearn\\model_selection\\_validation.py\", line 598, in _fit_and_score\n",
      "    estimator.fit(X_train, y_train, **fit_params)\n",
      "  File \"C:\\Users\\fd299212\\anaconda3\\lib\\site-packages\\sklearn\\linear_model\\_logistic.py\", line 1314, in fit\n",
      "    raise ValueError(\"l1_ratio must be between 0 and 1;\"\n",
      "ValueError: l1_ratio must be between 0 and 1; got (l1_ratio=None)\n",
      "\n",
      "  warnings.warn(\"Estimator fit failed. The score on this train-test\"\n",
      "C:\\Users\\fd299212\\anaconda3\\lib\\site-packages\\sklearn\\model_selection\\_validation.py:615: FitFailedWarning: Estimator fit failed. The score on this train-test partition for these parameters will be set to nan. Details: \n",
      "Traceback (most recent call last):\n",
      "  File \"C:\\Users\\fd299212\\anaconda3\\lib\\site-packages\\sklearn\\model_selection\\_validation.py\", line 598, in _fit_and_score\n",
      "    estimator.fit(X_train, y_train, **fit_params)\n",
      "  File \"C:\\Users\\fd299212\\anaconda3\\lib\\site-packages\\sklearn\\linear_model\\_logistic.py\", line 1314, in fit\n",
      "    raise ValueError(\"l1_ratio must be between 0 and 1;\"\n",
      "ValueError: l1_ratio must be between 0 and 1; got (l1_ratio=None)\n",
      "\n",
      "  warnings.warn(\"Estimator fit failed. The score on this train-test\"\n",
      "C:\\Users\\fd299212\\anaconda3\\lib\\site-packages\\sklearn\\linear_model\\_sag.py:328: ConvergenceWarning: The max_iter was reached which means the coef_ did not converge\n",
      "  warnings.warn(\"The max_iter was reached which means \"\n"
     ]
    },
    {
     "name": "stdout",
     "output_type": "stream",
     "text": [
      "[CV] END ......C=1, max_iter=5000, penalty=none, solver=saga; total time=   0.1s\n",
      "[CV] END ......C=1, max_iter=5000, penalty=none, solver=saga; total time=   0.1s\n"
     ]
    },
    {
     "name": "stderr",
     "output_type": "stream",
     "text": [
      "C:\\Users\\fd299212\\anaconda3\\lib\\site-packages\\sklearn\\linear_model\\_sag.py:328: ConvergenceWarning: The max_iter was reached which means the coef_ did not converge\n",
      "  warnings.warn(\"The max_iter was reached which means \"\n",
      "C:\\Users\\fd299212\\anaconda3\\lib\\site-packages\\sklearn\\linear_model\\_sag.py:328: ConvergenceWarning: The max_iter was reached which means the coef_ did not converge\n",
      "  warnings.warn(\"The max_iter was reached which means \"\n"
     ]
    },
    {
     "name": "stdout",
     "output_type": "stream",
     "text": [
      "[CV] END ......C=1, max_iter=5000, penalty=none, solver=saga; total time=   0.1s\n",
      "[CV] END ......C=1, max_iter=5000, penalty=none, solver=saga; total time=   0.1s\n",
      "[CV] END ......C=1, max_iter=5000, penalty=none, solver=saga; total time=   0.1s\n",
      "[CV] END ........C=1, max_iter=5000, penalty=l1, solver=saga; total time=   0.0s\n",
      "[CV] END ........C=1, max_iter=5000, penalty=l1, solver=saga; total time=   0.0s\n",
      "[CV] END ........C=1, max_iter=5000, penalty=l1, solver=saga; total time=   0.0s\n",
      "[CV] END ........C=1, max_iter=5000, penalty=l1, solver=saga; total time=   0.0s\n",
      "[CV] END ........C=1, max_iter=5000, penalty=l1, solver=saga; total time=   0.0s\n",
      "[CV] END ........C=1, max_iter=5000, penalty=l2, solver=saga; total time=   0.0s\n",
      "[CV] END ........C=1, max_iter=5000, penalty=l2, solver=saga; total time=   0.0s\n",
      "[CV] END ........C=1, max_iter=5000, penalty=l2, solver=saga; total time=   0.0s\n",
      "[CV] END ........C=1, max_iter=5000, penalty=l2, solver=saga; total time=   0.0s\n",
      "[CV] END ........C=1, max_iter=5000, penalty=l2, solver=saga; total time=   0.0s\n",
      "[CV] END C=1, max_iter=5000, penalty=elasticnet, solver=saga; total time=   0.0s\n",
      "[CV] END C=1, max_iter=5000, penalty=elasticnet, solver=saga; total time=   0.0s\n",
      "[CV] END C=1, max_iter=5000, penalty=elasticnet, solver=saga; total time=   0.0s\n",
      "[CV] END C=1, max_iter=5000, penalty=elasticnet, solver=saga; total time=   0.0s\n",
      "[CV] END C=1, max_iter=5000, penalty=elasticnet, solver=saga; total time=   0.0s\n"
     ]
    },
    {
     "name": "stderr",
     "output_type": "stream",
     "text": [
      "C:\\Users\\fd299212\\anaconda3\\lib\\site-packages\\sklearn\\model_selection\\_validation.py:615: FitFailedWarning: Estimator fit failed. The score on this train-test partition for these parameters will be set to nan. Details: \n",
      "Traceback (most recent call last):\n",
      "  File \"C:\\Users\\fd299212\\anaconda3\\lib\\site-packages\\sklearn\\model_selection\\_validation.py\", line 598, in _fit_and_score\n",
      "    estimator.fit(X_train, y_train, **fit_params)\n",
      "  File \"C:\\Users\\fd299212\\anaconda3\\lib\\site-packages\\sklearn\\linear_model\\_logistic.py\", line 1314, in fit\n",
      "    raise ValueError(\"l1_ratio must be between 0 and 1;\"\n",
      "ValueError: l1_ratio must be between 0 and 1; got (l1_ratio=None)\n",
      "\n",
      "  warnings.warn(\"Estimator fit failed. The score on this train-test\"\n",
      "C:\\Users\\fd299212\\anaconda3\\lib\\site-packages\\sklearn\\model_selection\\_validation.py:615: FitFailedWarning: Estimator fit failed. The score on this train-test partition for these parameters will be set to nan. Details: \n",
      "Traceback (most recent call last):\n",
      "  File \"C:\\Users\\fd299212\\anaconda3\\lib\\site-packages\\sklearn\\model_selection\\_validation.py\", line 598, in _fit_and_score\n",
      "    estimator.fit(X_train, y_train, **fit_params)\n",
      "  File \"C:\\Users\\fd299212\\anaconda3\\lib\\site-packages\\sklearn\\linear_model\\_logistic.py\", line 1314, in fit\n",
      "    raise ValueError(\"l1_ratio must be between 0 and 1;\"\n",
      "ValueError: l1_ratio must be between 0 and 1; got (l1_ratio=None)\n",
      "\n",
      "  warnings.warn(\"Estimator fit failed. The score on this train-test\"\n",
      "C:\\Users\\fd299212\\anaconda3\\lib\\site-packages\\sklearn\\model_selection\\_validation.py:615: FitFailedWarning: Estimator fit failed. The score on this train-test partition for these parameters will be set to nan. Details: \n",
      "Traceback (most recent call last):\n",
      "  File \"C:\\Users\\fd299212\\anaconda3\\lib\\site-packages\\sklearn\\model_selection\\_validation.py\", line 598, in _fit_and_score\n",
      "    estimator.fit(X_train, y_train, **fit_params)\n",
      "  File \"C:\\Users\\fd299212\\anaconda3\\lib\\site-packages\\sklearn\\linear_model\\_logistic.py\", line 1314, in fit\n",
      "    raise ValueError(\"l1_ratio must be between 0 and 1;\"\n",
      "ValueError: l1_ratio must be between 0 and 1; got (l1_ratio=None)\n",
      "\n",
      "  warnings.warn(\"Estimator fit failed. The score on this train-test\"\n",
      "C:\\Users\\fd299212\\anaconda3\\lib\\site-packages\\sklearn\\model_selection\\_validation.py:615: FitFailedWarning: Estimator fit failed. The score on this train-test partition for these parameters will be set to nan. Details: \n",
      "Traceback (most recent call last):\n",
      "  File \"C:\\Users\\fd299212\\anaconda3\\lib\\site-packages\\sklearn\\model_selection\\_validation.py\", line 598, in _fit_and_score\n",
      "    estimator.fit(X_train, y_train, **fit_params)\n",
      "  File \"C:\\Users\\fd299212\\anaconda3\\lib\\site-packages\\sklearn\\linear_model\\_logistic.py\", line 1314, in fit\n",
      "    raise ValueError(\"l1_ratio must be between 0 and 1;\"\n",
      "ValueError: l1_ratio must be between 0 and 1; got (l1_ratio=None)\n",
      "\n",
      "  warnings.warn(\"Estimator fit failed. The score on this train-test\"\n",
      "C:\\Users\\fd299212\\anaconda3\\lib\\site-packages\\sklearn\\model_selection\\_validation.py:615: FitFailedWarning: Estimator fit failed. The score on this train-test partition for these parameters will be set to nan. Details: \n",
      "Traceback (most recent call last):\n",
      "  File \"C:\\Users\\fd299212\\anaconda3\\lib\\site-packages\\sklearn\\model_selection\\_validation.py\", line 598, in _fit_and_score\n",
      "    estimator.fit(X_train, y_train, **fit_params)\n",
      "  File \"C:\\Users\\fd299212\\anaconda3\\lib\\site-packages\\sklearn\\linear_model\\_logistic.py\", line 1314, in fit\n",
      "    raise ValueError(\"l1_ratio must be between 0 and 1;\"\n",
      "ValueError: l1_ratio must be between 0 and 1; got (l1_ratio=None)\n",
      "\n",
      "  warnings.warn(\"Estimator fit failed. The score on this train-test\"\n",
      "C:\\Users\\fd299212\\anaconda3\\lib\\site-packages\\sklearn\\linear_model\\_logistic.py:1322: UserWarning: Setting penalty='none' will ignore the C and l1_ratio parameters\n",
      "  warnings.warn(\n",
      "C:\\Users\\fd299212\\anaconda3\\lib\\site-packages\\sklearn\\linear_model\\_sag.py:328: ConvergenceWarning: The max_iter was reached which means the coef_ did not converge\n",
      "  warnings.warn(\"The max_iter was reached which means \"\n",
      "C:\\Users\\fd299212\\anaconda3\\lib\\site-packages\\sklearn\\linear_model\\_logistic.py:1322: UserWarning: Setting penalty='none' will ignore the C and l1_ratio parameters\n",
      "  warnings.warn(\n",
      "C:\\Users\\fd299212\\anaconda3\\lib\\site-packages\\sklearn\\linear_model\\_logistic.py:1322: UserWarning: Setting penalty='none' will ignore the C and l1_ratio parameters\n",
      "  warnings.warn(\n"
     ]
    },
    {
     "name": "stdout",
     "output_type": "stream",
     "text": [
      "[CV] END ....C=2.5, max_iter=5000, penalty=none, solver=saga; total time=   0.1s\n",
      "[CV] END ....C=2.5, max_iter=5000, penalty=none, solver=saga; total time=   0.1s\n"
     ]
    },
    {
     "name": "stderr",
     "output_type": "stream",
     "text": [
      "C:\\Users\\fd299212\\anaconda3\\lib\\site-packages\\sklearn\\linear_model\\_sag.py:328: ConvergenceWarning: The max_iter was reached which means the coef_ did not converge\n",
      "  warnings.warn(\"The max_iter was reached which means \"\n",
      "C:\\Users\\fd299212\\anaconda3\\lib\\site-packages\\sklearn\\linear_model\\_logistic.py:1322: UserWarning: Setting penalty='none' will ignore the C and l1_ratio parameters\n",
      "  warnings.warn(\n",
      "C:\\Users\\fd299212\\anaconda3\\lib\\site-packages\\sklearn\\linear_model\\_sag.py:328: ConvergenceWarning: The max_iter was reached which means the coef_ did not converge\n",
      "  warnings.warn(\"The max_iter was reached which means \"\n"
     ]
    },
    {
     "name": "stdout",
     "output_type": "stream",
     "text": [
      "[CV] END ....C=2.5, max_iter=5000, penalty=none, solver=saga; total time=   0.1s\n",
      "[CV] END ....C=2.5, max_iter=5000, penalty=none, solver=saga; total time=   0.1s\n"
     ]
    },
    {
     "name": "stderr",
     "output_type": "stream",
     "text": [
      "C:\\Users\\fd299212\\anaconda3\\lib\\site-packages\\sklearn\\linear_model\\_logistic.py:1322: UserWarning: Setting penalty='none' will ignore the C and l1_ratio parameters\n",
      "  warnings.warn(\n"
     ]
    },
    {
     "name": "stdout",
     "output_type": "stream",
     "text": [
      "[CV] END ....C=2.5, max_iter=5000, penalty=none, solver=saga; total time=   0.1s\n",
      "[CV] END ......C=2.5, max_iter=5000, penalty=l1, solver=saga; total time=   0.0s\n",
      "[CV] END ......C=2.5, max_iter=5000, penalty=l1, solver=saga; total time=   0.0s\n",
      "[CV] END ......C=2.5, max_iter=5000, penalty=l1, solver=saga; total time=   0.0s\n",
      "[CV] END ......C=2.5, max_iter=5000, penalty=l1, solver=saga; total time=   0.0s\n",
      "[CV] END ......C=2.5, max_iter=5000, penalty=l1, solver=saga; total time=   0.0s\n",
      "[CV] END ......C=2.5, max_iter=5000, penalty=l2, solver=saga; total time=   0.0s\n",
      "[CV] END ......C=2.5, max_iter=5000, penalty=l2, solver=saga; total time=   0.0s\n",
      "[CV] END ......C=2.5, max_iter=5000, penalty=l2, solver=saga; total time=   0.0s\n",
      "[CV] END ......C=2.5, max_iter=5000, penalty=l2, solver=saga; total time=   0.0s\n",
      "[CV] END ......C=2.5, max_iter=5000, penalty=l2, solver=saga; total time=   0.0s\n",
      "[CV] END C=2.5, max_iter=5000, penalty=elasticnet, solver=saga; total time=   0.0s\n",
      "[CV] END C=2.5, max_iter=5000, penalty=elasticnet, solver=saga; total time=   0.0s\n",
      "[CV] END C=2.5, max_iter=5000, penalty=elasticnet, solver=saga; total time=   0.0s\n",
      "[CV] END C=2.5, max_iter=5000, penalty=elasticnet, solver=saga; total time=   0.0s\n",
      "[CV] END C=2.5, max_iter=5000, penalty=elasticnet, solver=saga; total time=   0.0s\n"
     ]
    },
    {
     "name": "stderr",
     "output_type": "stream",
     "text": [
      "C:\\Users\\fd299212\\anaconda3\\lib\\site-packages\\sklearn\\model_selection\\_validation.py:615: FitFailedWarning: Estimator fit failed. The score on this train-test partition for these parameters will be set to nan. Details: \n",
      "Traceback (most recent call last):\n",
      "  File \"C:\\Users\\fd299212\\anaconda3\\lib\\site-packages\\sklearn\\model_selection\\_validation.py\", line 598, in _fit_and_score\n",
      "    estimator.fit(X_train, y_train, **fit_params)\n",
      "  File \"C:\\Users\\fd299212\\anaconda3\\lib\\site-packages\\sklearn\\linear_model\\_logistic.py\", line 1314, in fit\n",
      "    raise ValueError(\"l1_ratio must be between 0 and 1;\"\n",
      "ValueError: l1_ratio must be between 0 and 1; got (l1_ratio=None)\n",
      "\n",
      "  warnings.warn(\"Estimator fit failed. The score on this train-test\"\n",
      "C:\\Users\\fd299212\\anaconda3\\lib\\site-packages\\sklearn\\model_selection\\_validation.py:615: FitFailedWarning: Estimator fit failed. The score on this train-test partition for these parameters will be set to nan. Details: \n",
      "Traceback (most recent call last):\n",
      "  File \"C:\\Users\\fd299212\\anaconda3\\lib\\site-packages\\sklearn\\model_selection\\_validation.py\", line 598, in _fit_and_score\n",
      "    estimator.fit(X_train, y_train, **fit_params)\n",
      "  File \"C:\\Users\\fd299212\\anaconda3\\lib\\site-packages\\sklearn\\linear_model\\_logistic.py\", line 1314, in fit\n",
      "    raise ValueError(\"l1_ratio must be between 0 and 1;\"\n",
      "ValueError: l1_ratio must be between 0 and 1; got (l1_ratio=None)\n",
      "\n",
      "  warnings.warn(\"Estimator fit failed. The score on this train-test\"\n",
      "C:\\Users\\fd299212\\anaconda3\\lib\\site-packages\\sklearn\\model_selection\\_validation.py:615: FitFailedWarning: Estimator fit failed. The score on this train-test partition for these parameters will be set to nan. Details: \n",
      "Traceback (most recent call last):\n",
      "  File \"C:\\Users\\fd299212\\anaconda3\\lib\\site-packages\\sklearn\\model_selection\\_validation.py\", line 598, in _fit_and_score\n",
      "    estimator.fit(X_train, y_train, **fit_params)\n",
      "  File \"C:\\Users\\fd299212\\anaconda3\\lib\\site-packages\\sklearn\\linear_model\\_logistic.py\", line 1314, in fit\n",
      "    raise ValueError(\"l1_ratio must be between 0 and 1;\"\n",
      "ValueError: l1_ratio must be between 0 and 1; got (l1_ratio=None)\n",
      "\n",
      "  warnings.warn(\"Estimator fit failed. The score on this train-test\"\n",
      "C:\\Users\\fd299212\\anaconda3\\lib\\site-packages\\sklearn\\model_selection\\_validation.py:615: FitFailedWarning: Estimator fit failed. The score on this train-test partition for these parameters will be set to nan. Details: \n",
      "Traceback (most recent call last):\n",
      "  File \"C:\\Users\\fd299212\\anaconda3\\lib\\site-packages\\sklearn\\model_selection\\_validation.py\", line 598, in _fit_and_score\n",
      "    estimator.fit(X_train, y_train, **fit_params)\n",
      "  File \"C:\\Users\\fd299212\\anaconda3\\lib\\site-packages\\sklearn\\linear_model\\_logistic.py\", line 1314, in fit\n",
      "    raise ValueError(\"l1_ratio must be between 0 and 1;\"\n",
      "ValueError: l1_ratio must be between 0 and 1; got (l1_ratio=None)\n",
      "\n",
      "  warnings.warn(\"Estimator fit failed. The score on this train-test\"\n",
      "C:\\Users\\fd299212\\anaconda3\\lib\\site-packages\\sklearn\\model_selection\\_validation.py:615: FitFailedWarning: Estimator fit failed. The score on this train-test partition for these parameters will be set to nan. Details: \n",
      "Traceback (most recent call last):\n",
      "  File \"C:\\Users\\fd299212\\anaconda3\\lib\\site-packages\\sklearn\\model_selection\\_validation.py\", line 598, in _fit_and_score\n",
      "    estimator.fit(X_train, y_train, **fit_params)\n",
      "  File \"C:\\Users\\fd299212\\anaconda3\\lib\\site-packages\\sklearn\\linear_model\\_logistic.py\", line 1314, in fit\n",
      "    raise ValueError(\"l1_ratio must be between 0 and 1;\"\n",
      "ValueError: l1_ratio must be between 0 and 1; got (l1_ratio=None)\n",
      "\n",
      "  warnings.warn(\"Estimator fit failed. The score on this train-test\"\n",
      "C:\\Users\\fd299212\\anaconda3\\lib\\site-packages\\sklearn\\linear_model\\_logistic.py:1322: UserWarning: Setting penalty='none' will ignore the C and l1_ratio parameters\n",
      "  warnings.warn(\n",
      "C:\\Users\\fd299212\\anaconda3\\lib\\site-packages\\sklearn\\linear_model\\_sag.py:328: ConvergenceWarning: The max_iter was reached which means the coef_ did not converge\n",
      "  warnings.warn(\"The max_iter was reached which means \"\n"
     ]
    },
    {
     "name": "stdout",
     "output_type": "stream",
     "text": [
      "[CV] END ......C=5, max_iter=5000, penalty=none, solver=saga; total time=   0.1s\n",
      "[CV] END ......C=5, max_iter=5000, penalty=none, solver=saga; total time=   0.1s\n"
     ]
    },
    {
     "name": "stderr",
     "output_type": "stream",
     "text": [
      "C:\\Users\\fd299212\\anaconda3\\lib\\site-packages\\sklearn\\linear_model\\_logistic.py:1322: UserWarning: Setting penalty='none' will ignore the C and l1_ratio parameters\n",
      "  warnings.warn(\n",
      "C:\\Users\\fd299212\\anaconda3\\lib\\site-packages\\sklearn\\linear_model\\_logistic.py:1322: UserWarning: Setting penalty='none' will ignore the C and l1_ratio parameters\n",
      "  warnings.warn(\n",
      "C:\\Users\\fd299212\\anaconda3\\lib\\site-packages\\sklearn\\linear_model\\_sag.py:328: ConvergenceWarning: The max_iter was reached which means the coef_ did not converge\n",
      "  warnings.warn(\"The max_iter was reached which means \"\n",
      "C:\\Users\\fd299212\\anaconda3\\lib\\site-packages\\sklearn\\linear_model\\_logistic.py:1322: UserWarning: Setting penalty='none' will ignore the C and l1_ratio parameters\n",
      "  warnings.warn(\n",
      "C:\\Users\\fd299212\\anaconda3\\lib\\site-packages\\sklearn\\linear_model\\_sag.py:328: ConvergenceWarning: The max_iter was reached which means the coef_ did not converge\n",
      "  warnings.warn(\"The max_iter was reached which means \"\n"
     ]
    },
    {
     "name": "stdout",
     "output_type": "stream",
     "text": [
      "[CV] END ......C=5, max_iter=5000, penalty=none, solver=saga; total time=   0.1s\n"
     ]
    },
    {
     "name": "stderr",
     "output_type": "stream",
     "text": [
      "C:\\Users\\fd299212\\anaconda3\\lib\\site-packages\\sklearn\\linear_model\\_logistic.py:1322: UserWarning: Setting penalty='none' will ignore the C and l1_ratio parameters\n",
      "  warnings.warn(\n"
     ]
    },
    {
     "name": "stdout",
     "output_type": "stream",
     "text": [
      "[CV] END ......C=5, max_iter=5000, penalty=none, solver=saga; total time=   0.1s\n",
      "[CV] END ......C=5, max_iter=5000, penalty=none, solver=saga; total time=   0.1s\n",
      "[CV] END ........C=5, max_iter=5000, penalty=l1, solver=saga; total time=   0.0s\n",
      "[CV] END ........C=5, max_iter=5000, penalty=l1, solver=saga; total time=   0.0s\n",
      "[CV] END ........C=5, max_iter=5000, penalty=l1, solver=saga; total time=   0.1s\n",
      "[CV] END ........C=5, max_iter=5000, penalty=l1, solver=saga; total time=   0.1s\n",
      "[CV] END ........C=5, max_iter=5000, penalty=l1, solver=saga; total time=   0.0s\n",
      "[CV] END ........C=5, max_iter=5000, penalty=l2, solver=saga; total time=   0.0s\n",
      "[CV] END ........C=5, max_iter=5000, penalty=l2, solver=saga; total time=   0.0s\n",
      "[CV] END ........C=5, max_iter=5000, penalty=l2, solver=saga; total time=   0.0s\n",
      "[CV] END ........C=5, max_iter=5000, penalty=l2, solver=saga; total time=   0.0s\n",
      "[CV] END ........C=5, max_iter=5000, penalty=l2, solver=saga; total time=   0.0s\n",
      "[CV] END C=5, max_iter=5000, penalty=elasticnet, solver=saga; total time=   0.0s\n",
      "[CV] END C=5, max_iter=5000, penalty=elasticnet, solver=saga; total time=   0.0s\n",
      "[CV] END C=5, max_iter=5000, penalty=elasticnet, solver=saga; total time=   0.0s\n",
      "[CV] END C=5, max_iter=5000, penalty=elasticnet, solver=saga; total time=   0.0s\n",
      "[CV] END C=5, max_iter=5000, penalty=elasticnet, solver=saga; total time=   0.0s\n"
     ]
    },
    {
     "name": "stderr",
     "output_type": "stream",
     "text": [
      "C:\\Users\\fd299212\\anaconda3\\lib\\site-packages\\sklearn\\model_selection\\_validation.py:615: FitFailedWarning: Estimator fit failed. The score on this train-test partition for these parameters will be set to nan. Details: \n",
      "Traceback (most recent call last):\n",
      "  File \"C:\\Users\\fd299212\\anaconda3\\lib\\site-packages\\sklearn\\model_selection\\_validation.py\", line 598, in _fit_and_score\n",
      "    estimator.fit(X_train, y_train, **fit_params)\n",
      "  File \"C:\\Users\\fd299212\\anaconda3\\lib\\site-packages\\sklearn\\linear_model\\_logistic.py\", line 1314, in fit\n",
      "    raise ValueError(\"l1_ratio must be between 0 and 1;\"\n",
      "ValueError: l1_ratio must be between 0 and 1; got (l1_ratio=None)\n",
      "\n",
      "  warnings.warn(\"Estimator fit failed. The score on this train-test\"\n",
      "C:\\Users\\fd299212\\anaconda3\\lib\\site-packages\\sklearn\\model_selection\\_validation.py:615: FitFailedWarning: Estimator fit failed. The score on this train-test partition for these parameters will be set to nan. Details: \n",
      "Traceback (most recent call last):\n",
      "  File \"C:\\Users\\fd299212\\anaconda3\\lib\\site-packages\\sklearn\\model_selection\\_validation.py\", line 598, in _fit_and_score\n",
      "    estimator.fit(X_train, y_train, **fit_params)\n",
      "  File \"C:\\Users\\fd299212\\anaconda3\\lib\\site-packages\\sklearn\\linear_model\\_logistic.py\", line 1314, in fit\n",
      "    raise ValueError(\"l1_ratio must be between 0 and 1;\"\n",
      "ValueError: l1_ratio must be between 0 and 1; got (l1_ratio=None)\n",
      "\n",
      "  warnings.warn(\"Estimator fit failed. The score on this train-test\"\n",
      "C:\\Users\\fd299212\\anaconda3\\lib\\site-packages\\sklearn\\model_selection\\_validation.py:615: FitFailedWarning: Estimator fit failed. The score on this train-test partition for these parameters will be set to nan. Details: \n",
      "Traceback (most recent call last):\n",
      "  File \"C:\\Users\\fd299212\\anaconda3\\lib\\site-packages\\sklearn\\model_selection\\_validation.py\", line 598, in _fit_and_score\n",
      "    estimator.fit(X_train, y_train, **fit_params)\n",
      "  File \"C:\\Users\\fd299212\\anaconda3\\lib\\site-packages\\sklearn\\linear_model\\_logistic.py\", line 1314, in fit\n",
      "    raise ValueError(\"l1_ratio must be between 0 and 1;\"\n",
      "ValueError: l1_ratio must be between 0 and 1; got (l1_ratio=None)\n",
      "\n",
      "  warnings.warn(\"Estimator fit failed. The score on this train-test\"\n",
      "C:\\Users\\fd299212\\anaconda3\\lib\\site-packages\\sklearn\\model_selection\\_validation.py:615: FitFailedWarning: Estimator fit failed. The score on this train-test partition for these parameters will be set to nan. Details: \n",
      "Traceback (most recent call last):\n",
      "  File \"C:\\Users\\fd299212\\anaconda3\\lib\\site-packages\\sklearn\\model_selection\\_validation.py\", line 598, in _fit_and_score\n",
      "    estimator.fit(X_train, y_train, **fit_params)\n",
      "  File \"C:\\Users\\fd299212\\anaconda3\\lib\\site-packages\\sklearn\\linear_model\\_logistic.py\", line 1314, in fit\n",
      "    raise ValueError(\"l1_ratio must be between 0 and 1;\"\n",
      "ValueError: l1_ratio must be between 0 and 1; got (l1_ratio=None)\n",
      "\n",
      "  warnings.warn(\"Estimator fit failed. The score on this train-test\"\n",
      "C:\\Users\\fd299212\\anaconda3\\lib\\site-packages\\sklearn\\model_selection\\_validation.py:615: FitFailedWarning: Estimator fit failed. The score on this train-test partition for these parameters will be set to nan. Details: \n",
      "Traceback (most recent call last):\n",
      "  File \"C:\\Users\\fd299212\\anaconda3\\lib\\site-packages\\sklearn\\model_selection\\_validation.py\", line 598, in _fit_and_score\n",
      "    estimator.fit(X_train, y_train, **fit_params)\n",
      "  File \"C:\\Users\\fd299212\\anaconda3\\lib\\site-packages\\sklearn\\linear_model\\_logistic.py\", line 1314, in fit\n",
      "    raise ValueError(\"l1_ratio must be between 0 and 1;\"\n",
      "ValueError: l1_ratio must be between 0 and 1; got (l1_ratio=None)\n",
      "\n",
      "  warnings.warn(\"Estimator fit failed. The score on this train-test\"\n",
      "C:\\Users\\fd299212\\anaconda3\\lib\\site-packages\\sklearn\\model_selection\\_search.py:922: UserWarning: One or more of the test scores are non-finite: [0.54       0.5        0.58666667 0.62666667 0.62666667 0.62666667\n",
      " 0.54       0.5        0.58666667 0.68666667 0.68666667 0.68666667\n",
      " 0.54       0.5        0.58666667 0.70666667 0.70666667 0.70666667\n",
      " 0.54       0.5        0.58666667 0.70666667 0.70666667 0.70666667\n",
      " 0.65111111 0.50444444 0.62666667        nan 0.65111111 0.66666667\n",
      " 0.68666667        nan 0.65111111 0.66666667 0.70666667        nan\n",
      " 0.65111111 0.71111111 0.70666667        nan]\n",
      "  warnings.warn(\n"
     ]
    },
    {
     "data": {
      "text/plain": [
       "GridSearchCV(estimator=LogisticRegression(multi_class='multinomial'),\n",
       "             param_grid=[{'C': [0.1, 1, 2.5, 5], 'max_iter': [5000],\n",
       "                          'penalty': ['none', 'l2'],\n",
       "                          'solver': ['lbfgs', 'newton-cg', 'sag']},\n",
       "                         {'C': [0.1, 1, 2.5, 5], 'max_iter': [5000],\n",
       "                          'penalty': ['none', 'l1', 'l2', 'elasticnet'],\n",
       "                          'solver': ['saga']}],\n",
       "             verbose=2)"
      ]
     },
     "execution_count": 7,
     "metadata": {},
     "output_type": "execute_result"
    }
   ],
   "source": [
    "from sklearn.linear_model import LogisticRegression\n",
    "from sklearn.model_selection import GridSearchCV\n",
    "\n",
    "#the hyperparameters being fed to the gridsearch in this case may include some that are not \n",
    "#applicable with each other. Invocations with those may raise warnings that should be able to be ignored\n",
    "#but to the degree practicable, feed compatible parameters together...\n",
    "\n",
    "#we define the set of parameter values that will be passed in as \"param_grid\"\n",
    "#max_iter is set very high due to non convergence errors that had been occurring. This can be revisited as data set \n",
    "#continues to grow\n",
    "param_grid = [{'C': [.1,1,2.5,5], 'penalty': ['none','l2'],'solver': ['lbfgs','newton-cg', 'sag'], 'max_iter':[5000]},             \n",
    "             {'C': [.1,1,2.5,5], 'penalty': ['none','l1','l2','elasticnet'],'solver': ['saga'], 'max_iter':[5000]}]\n",
    "#following set left out as liblinear does not support multinomial classification. Reserve for binary pos/neg analysis\n",
    "#{'C': [.1,1,2.5,5], 'penalty': ['l1','l2'],'solver': ['liblinear'], 'max_iter':[2000]},\n",
    "\n",
    "logreg=LogisticRegression(multi_class='multinomial')\n",
    "#this code implements the grid search\n",
    "grid = GridSearchCV(logreg,param_grid,refit=True,verbose=2)\n",
    "grid.fit(X_train,y_train)"
   ]
  },
  {
   "cell_type": "code",
   "execution_count": 8,
   "id": "aab3b51a",
   "metadata": {},
   "outputs": [],
   "source": [
    "#print(grid.best_estimator_.penalty)"
   ]
  },
  {
   "cell_type": "code",
   "execution_count": 9,
   "id": "06039a0d",
   "metadata": {},
   "outputs": [
    {
     "name": "stdout",
     "output_type": "stream",
     "text": [
      "{'C': 5, 'class_weight': None, 'dual': False, 'fit_intercept': True, 'intercept_scaling': 1, 'l1_ratio': None, 'max_iter': 5000, 'multi_class': 'multinomial', 'n_jobs': None, 'penalty': 'l1', 'random_state': None, 'solver': 'saga', 'tol': 0.0001, 'verbose': 0, 'warm_start': False}\n"
     ]
    }
   ],
   "source": [
    "#from sklearn.model_selection import cross_val_score\n",
    "print(grid.best_estimator_.get_params())\n",
    "\n"
   ]
  },
  {
   "cell_type": "code",
   "execution_count": 10,
   "id": "8d73b366",
   "metadata": {},
   "outputs": [
    {
     "name": "stdout",
     "output_type": "stream",
     "text": [
      "Predicted Classes:\n",
      "['Pos - Early Acute' 'Pos - Early Conv' 'Neg' 'Pos - Late' 'Neg' 'Neg'\n",
      " 'Neg' 'Pos - Early Acute' 'Pos - Early Conv' 'Neg' 'Pos - Early Acute'\n",
      " 'Neg' 'Pos - Early Acute' 'Neg' 'Pos - Early Acute' 'Neg']\n",
      "Actual Classes:\n",
      "26                  Neg\n",
      "45     Pos - Early Conv\n",
      "54                  Neg\n",
      "1            Pos - Late\n",
      "31                  Neg\n",
      "18                  Neg\n",
      "19                  Neg\n",
      "33           Pos - Late\n",
      "4      Pos - Early Conv\n",
      "36    Pos - Early Acute\n",
      "42     Pos - Early Conv\n",
      "62                  Neg\n",
      "7     Pos - Early Acute\n",
      "22                  Neg\n",
      "41    Pos - Early Acute\n",
      "30                  Neg\n",
      "Name: Diag, dtype: object\n",
      "Accuracy: 0.750 \n"
     ]
    }
   ],
   "source": [
    "model = grid.best_estimator_\n",
    "#following lines are not needed as gridsearchCV does 'refit' (retrains best estimator on full set provided[the whole\n",
    "#training set in this case]) by default\n",
    "#model.set_params(max_iter=5000)\n",
    "#model.fit(X_train, y_train)\n",
    "\n",
    "yhat = model.predict(X_test)\n",
    "print('Predicted Classes:')\n",
    "print(yhat)\n",
    "print('Actual Classes:')\n",
    "print(y_test)\n",
    "\n",
    "score = model.score(X_test,y_test)\n",
    "# report the model performance\n",
    "print('Accuracy: %.3f ' % (score))"
   ]
  },
  {
   "cell_type": "code",
   "execution_count": 52,
   "id": "16f36849",
   "metadata": {},
   "outputs": [
    {
     "name": "stdout",
     "output_type": "stream",
     "text": [
      "Predicted Probabilities:\n",
      "[[1.45e-01 6.87e-01 1.66e-01 1.44e-03]\n",
      " [8.00e-03 3.05e-01 5.63e-01 1.24e-01]\n",
      " [8.86e-01 4.91e-02 4.84e-02 1.64e-02]\n",
      " [2.02e-11 7.30e-10 3.58e-07 1.00e+00]\n",
      " [9.68e-01 2.02e-02 1.17e-02 4.11e-04]\n",
      " [9.53e-01 2.89e-02 1.85e-02 1.44e-04]\n",
      " [5.22e-01 2.57e-02 2.10e-01 2.42e-01]\n",
      " [4.17e-03 5.00e-01 4.90e-01 5.75e-03]\n",
      " [1.92e-06 5.56e-03 6.07e-01 3.87e-01]\n",
      " [5.91e-01 2.98e-01 1.10e-01 3.84e-04]\n",
      " [3.53e-01 5.15e-01 1.31e-01 2.46e-04]\n",
      " [9.72e-01 2.07e-02 7.46e-03 3.53e-05]\n",
      " [7.35e-03 7.62e-01 2.29e-01 1.28e-03]\n",
      " [9.01e-01 6.98e-02 2.91e-02 2.81e-04]\n",
      " [1.19e-01 6.25e-01 2.54e-01 1.72e-03]\n",
      " [8.10e-01 1.09e-01 8.00e-02 9.93e-04]]\n",
      "Int64Index([26, 45, 54, 1, 31, 18, 19, 33, 4, 36, 42, 62, 7, 22, 41, 30], dtype='int64')\n"
     ]
    }
   ],
   "source": [
    "# predict probabilities with a multinomial logistic regression model\n",
    "from sklearn.datasets import make_classification\n",
    "# predict a multinomial probability distribution\n",
    "yprobs = model.predict_proba(X_test)\n",
    "# summarize the predicted probabilities\n",
    "print('Predicted Probabilities:')\n",
    "print(yprobs)\n",
    "print(y_test.index)\n",
    "\n"
   ]
  },
  {
   "cell_type": "code",
   "execution_count": 28,
   "id": "764083e0",
   "metadata": {},
   "outputs": [
    {
     "name": "stdout",
     "output_type": "stream",
     "text": [
      "['neg', 'pos-early-acute', 'pos-early-conv', 'pos-late']\n"
     ]
    }
   ],
   "source": [
    "classes = ['neg','pos-early-acute','pos-early-conv','pos-late']\n",
    "#print(type(classes))\n",
    "#print(len(classes))\n",
    "print(classes)"
   ]
  },
  {
   "cell_type": "code",
   "execution_count": 75,
   "id": "cdafc8cc",
   "metadata": {},
   "outputs": [
    {
     "name": "stdout",
     "output_type": "stream",
     "text": [
      "Probabilities:\n"
     ]
    },
    {
     "data": {
      "text/html": [
       "<div>\n",
       "<style scoped>\n",
       "    .dataframe tbody tr th:only-of-type {\n",
       "        vertical-align: middle;\n",
       "    }\n",
       "\n",
       "    .dataframe tbody tr th {\n",
       "        vertical-align: top;\n",
       "    }\n",
       "\n",
       "    .dataframe thead th {\n",
       "        text-align: right;\n",
       "    }\n",
       "</style>\n",
       "<table border=\"1\" class=\"dataframe\">\n",
       "  <thead>\n",
       "    <tr style=\"text-align: right;\">\n",
       "      <th></th>\n",
       "      <th>Negative</th>\n",
       "      <th>PosEarlyAcute</th>\n",
       "      <th>PosEarlyConv</th>\n",
       "      <th>PosLate</th>\n",
       "      <th>original sample index</th>\n",
       "    </tr>\n",
       "  </thead>\n",
       "  <tbody>\n",
       "    <tr>\n",
       "      <th>0</th>\n",
       "      <td>0.145</td>\n",
       "      <td>0.687</td>\n",
       "      <td>0.166</td>\n",
       "      <td>0.001</td>\n",
       "      <td>26</td>\n",
       "    </tr>\n",
       "    <tr>\n",
       "      <th>1</th>\n",
       "      <td>0.008</td>\n",
       "      <td>0.305</td>\n",
       "      <td>0.563</td>\n",
       "      <td>0.124</td>\n",
       "      <td>45</td>\n",
       "    </tr>\n",
       "    <tr>\n",
       "      <th>2</th>\n",
       "      <td>0.886</td>\n",
       "      <td>0.049</td>\n",
       "      <td>0.048</td>\n",
       "      <td>0.016</td>\n",
       "      <td>54</td>\n",
       "    </tr>\n",
       "    <tr>\n",
       "      <th>3</th>\n",
       "      <td>0.000</td>\n",
       "      <td>0.000</td>\n",
       "      <td>0.000</td>\n",
       "      <td>1.000</td>\n",
       "      <td>1</td>\n",
       "    </tr>\n",
       "    <tr>\n",
       "      <th>4</th>\n",
       "      <td>0.968</td>\n",
       "      <td>0.020</td>\n",
       "      <td>0.012</td>\n",
       "      <td>0.000</td>\n",
       "      <td>31</td>\n",
       "    </tr>\n",
       "    <tr>\n",
       "      <th>5</th>\n",
       "      <td>0.953</td>\n",
       "      <td>0.029</td>\n",
       "      <td>0.018</td>\n",
       "      <td>0.000</td>\n",
       "      <td>18</td>\n",
       "    </tr>\n",
       "    <tr>\n",
       "      <th>6</th>\n",
       "      <td>0.522</td>\n",
       "      <td>0.026</td>\n",
       "      <td>0.210</td>\n",
       "      <td>0.242</td>\n",
       "      <td>19</td>\n",
       "    </tr>\n",
       "    <tr>\n",
       "      <th>7</th>\n",
       "      <td>0.004</td>\n",
       "      <td>0.500</td>\n",
       "      <td>0.490</td>\n",
       "      <td>0.006</td>\n",
       "      <td>33</td>\n",
       "    </tr>\n",
       "    <tr>\n",
       "      <th>8</th>\n",
       "      <td>0.000</td>\n",
       "      <td>0.006</td>\n",
       "      <td>0.607</td>\n",
       "      <td>0.387</td>\n",
       "      <td>4</td>\n",
       "    </tr>\n",
       "    <tr>\n",
       "      <th>9</th>\n",
       "      <td>0.591</td>\n",
       "      <td>0.298</td>\n",
       "      <td>0.110</td>\n",
       "      <td>0.000</td>\n",
       "      <td>36</td>\n",
       "    </tr>\n",
       "    <tr>\n",
       "      <th>10</th>\n",
       "      <td>0.353</td>\n",
       "      <td>0.515</td>\n",
       "      <td>0.131</td>\n",
       "      <td>0.000</td>\n",
       "      <td>42</td>\n",
       "    </tr>\n",
       "    <tr>\n",
       "      <th>11</th>\n",
       "      <td>0.972</td>\n",
       "      <td>0.021</td>\n",
       "      <td>0.007</td>\n",
       "      <td>0.000</td>\n",
       "      <td>62</td>\n",
       "    </tr>\n",
       "    <tr>\n",
       "      <th>12</th>\n",
       "      <td>0.007</td>\n",
       "      <td>0.762</td>\n",
       "      <td>0.229</td>\n",
       "      <td>0.001</td>\n",
       "      <td>7</td>\n",
       "    </tr>\n",
       "    <tr>\n",
       "      <th>13</th>\n",
       "      <td>0.901</td>\n",
       "      <td>0.070</td>\n",
       "      <td>0.029</td>\n",
       "      <td>0.000</td>\n",
       "      <td>22</td>\n",
       "    </tr>\n",
       "    <tr>\n",
       "      <th>14</th>\n",
       "      <td>0.119</td>\n",
       "      <td>0.625</td>\n",
       "      <td>0.254</td>\n",
       "      <td>0.002</td>\n",
       "      <td>41</td>\n",
       "    </tr>\n",
       "    <tr>\n",
       "      <th>15</th>\n",
       "      <td>0.810</td>\n",
       "      <td>0.109</td>\n",
       "      <td>0.080</td>\n",
       "      <td>0.001</td>\n",
       "      <td>30</td>\n",
       "    </tr>\n",
       "  </tbody>\n",
       "</table>\n",
       "</div>"
      ],
      "text/plain": [
       "    Negative  PosEarlyAcute  PosEarlyConv  PosLate  original sample index\n",
       "0      0.145          0.687         0.166    0.001                     26\n",
       "1      0.008          0.305         0.563    0.124                     45\n",
       "2      0.886          0.049         0.048    0.016                     54\n",
       "3      0.000          0.000         0.000    1.000                      1\n",
       "4      0.968          0.020         0.012    0.000                     31\n",
       "5      0.953          0.029         0.018    0.000                     18\n",
       "6      0.522          0.026         0.210    0.242                     19\n",
       "7      0.004          0.500         0.490    0.006                     33\n",
       "8      0.000          0.006         0.607    0.387                      4\n",
       "9      0.591          0.298         0.110    0.000                     36\n",
       "10     0.353          0.515         0.131    0.000                     42\n",
       "11     0.972          0.021         0.007    0.000                     62\n",
       "12     0.007          0.762         0.229    0.001                      7\n",
       "13     0.901          0.070         0.029    0.000                     22\n",
       "14     0.119          0.625         0.254    0.002                     41\n",
       "15     0.810          0.109         0.080    0.001                     30"
      ]
     },
     "metadata": {},
     "output_type": "display_data"
    }
   ],
   "source": [
    "#following is test code to output the probabilities in an easy to \n",
    "#read format using the dataframe display and format options\n",
    "import pandas as pd\n",
    "def format_probabilities(prob_array, col_labels, sample_indices):\n",
    "    if yprobs.shape[1] == len(classes):\n",
    "        prob_df = pd.DataFrame(prob_array, columns=col_labels)\n",
    "        prob_df['original sample index'] = sample_indices\n",
    "        pd.set_option('display.float_format', lambda x: '%.3f' % x)\n",
    "        pd.set_option('display.precision', 3)\n",
    "        display(prob_df)\n",
    "    else:\n",
    "        print('Incorrect label list length')\n",
    "        \n",
    "classes = ['Negative','PosEarlyAcute','PosEarlyConv','PosLate']   \n",
    "rows = y_test.index\n",
    "print(\"Probabilities:\")\n",
    "format_probabilities(yprobs , classes, rows)\n",
    "\n",
    "    "
   ]
  },
  {
   "cell_type": "code",
   "execution_count": 76,
   "id": "5fbe4cd8",
   "metadata": {},
   "outputs": [],
   "source": [
    "from sklearn.metrics import classification_report, multilabel_confusion_matrix, confusion_matrix\n",
    "import itertools\n",
    "\n",
    "#code from https://scikit-learn.org/0.18/auto_examples/model_selection/plot_confusion_matrix.html\n",
    "def plot_confusion_matrix(cm, classes,\n",
    "                          normalize=False,\n",
    "                          title='Confusion matrix',\n",
    "                          cmap=plt.cm.Blues):\n",
    "    \"\"\"\n",
    "    This function prints and plots the confusion matrix.\n",
    "    Normalization can be applied by setting `normalize=True`.\n",
    "    \"\"\"\n",
    "    if normalize:\n",
    "        cm = cm.astype('float') / cm.sum(axis=1)[:, np.newaxis]\n",
    "        print(\"Normalized confusion matrix\")\n",
    "    else:\n",
    "        print('Confusion matrix, without normalization')\n",
    "\n",
    "    print(cm)\n",
    "\n",
    "    plt.imshow(cm, interpolation='nearest', cmap=cmap)\n",
    "    plt.title(title)\n",
    "    plt.colorbar()\n",
    "    tick_marks = np.arange(len(classes))\n",
    "    plt.xticks(tick_marks, classes, rotation=45)\n",
    "    plt.yticks(tick_marks, classes)\n",
    "\n",
    "    fmt = '.2f' if normalize else 'd'\n",
    "    thresh = cm.max() / 2.\n",
    "    for i, j in itertools.product(range(cm.shape[0]), range(cm.shape[1])):\n",
    "        plt.text(j, i, format(cm[i, j], fmt),\n",
    "                 horizontalalignment=\"center\",\n",
    "                 color=\"white\" if cm[i, j] > thresh else \"black\")\n",
    "\n",
    "    plt.tight_layout()\n",
    "    plt.ylabel('True label')\n",
    "    plt.xlabel('Predicted label')"
   ]
  },
  {
   "cell_type": "code",
   "execution_count": 77,
   "id": "12cf9b67",
   "metadata": {},
   "outputs": [
    {
     "name": "stdout",
     "output_type": "stream",
     "text": [
      "                   precision    recall  f1-score   support\n",
      "\n",
      "              Neg       0.88      0.88      0.88         8\n",
      "Pos - Early Acute       0.40      0.67      0.50         3\n",
      " Pos - Early Conv       1.00      0.67      0.80         3\n",
      "       Pos - Late       1.00      0.50      0.67         2\n",
      "\n",
      "         accuracy                           0.75        16\n",
      "        macro avg       0.82      0.68      0.71        16\n",
      "     weighted avg       0.82      0.75      0.76        16\n",
      "\n",
      "Confusion matrix, without normalization\n",
      "[[7 1 0 0]\n",
      " [1 2 0 0]\n",
      " [0 1 2 0]\n",
      " [0 1 0 1]]\n"
     ]
    },
    {
     "data": {
      "image/png": "[encoded data removed]",
      "text/plain": [
       "<Figure size 432x288 with 2 Axes>"
      ]
     },
     "metadata": {
      "needs_background": "light"
     },
     "output_type": "display_data"
    }
   ],
   "source": [
    "# Compute confusion matrix\n",
    "from sklearn.metrics import classification_report, multilabel_confusion_matrix, confusion_matrix\n",
    "cnf_matrix = confusion_matrix(y_test, yhat)\n",
    "np.set_printoptions(precision=2)\n",
    "\n",
    "print (classification_report(y_test, yhat))\n",
    "\n",
    "# Plot non-normalized confusion matrix\n",
    "plt.figure()\n",
    "plot_confusion_matrix(cnf_matrix, classes=['Negative','PosEarlyAcute','PosEarlyConv','PosLate'],normalize= False,  title='Confusion matrix')\n"
   ]
  },
  {
   "cell_type": "code",
   "execution_count": 82,
   "id": "d6cb0ed4",
   "metadata": {},
   "outputs": [
    {
     "name": "stdout",
     "output_type": "stream",
     "text": [
      "Run: 1\n",
      " Accuracy: 0.812 \n",
      " Sensitivity: 0.750 \n",
      " Specificity: 1.000 \n"
     ]
    },
    {
     "name": "stderr",
     "output_type": "stream",
     "text": [
      "C:\\Users\\fd299212\\anaconda3\\lib\\site-packages\\sklearn\\linear_model\\_sag.py:328: ConvergenceWarning: The max_iter was reached which means the coef_ did not converge\n",
      "  warnings.warn(\"The max_iter was reached which means \"\n"
     ]
    },
    {
     "name": "stdout",
     "output_type": "stream",
     "text": [
      "Run: 2\n",
      " Accuracy: 0.812 \n",
      " Sensitivity: 0.875 \n",
      " Specificity: 1.000 \n"
     ]
    },
    {
     "name": "stderr",
     "output_type": "stream",
     "text": [
      "C:\\Users\\fd299212\\anaconda3\\lib\\site-packages\\sklearn\\metrics\\_classification.py:1248: UndefinedMetricWarning: Precision and F-score are ill-defined and being set to 0.0 in labels with no predicted samples. Use `zero_division` parameter to control this behavior.\n",
      "  _warn_prf(average, modifier, msg_start, len(result))\n",
      "C:\\Users\\fd299212\\anaconda3\\lib\\site-packages\\sklearn\\metrics\\_classification.py:1248: UndefinedMetricWarning: Precision and F-score are ill-defined and being set to 0.0 in labels with no predicted samples. Use `zero_division` parameter to control this behavior.\n",
      "  _warn_prf(average, modifier, msg_start, len(result))\n",
      "C:\\Users\\fd299212\\anaconda3\\lib\\site-packages\\sklearn\\metrics\\_classification.py:1248: UndefinedMetricWarning: Precision and F-score are ill-defined and being set to 0.0 in labels with no predicted samples. Use `zero_division` parameter to control this behavior.\n",
      "  _warn_prf(average, modifier, msg_start, len(result))\n"
     ]
    },
    {
     "name": "stdout",
     "output_type": "stream",
     "text": [
      "Run: 3\n",
      " Accuracy: 0.750 \n",
      " Sensitivity: 0.875 \n",
      " Specificity: 1.000 \n",
      "Run: 4\n",
      " Accuracy: 0.688 \n",
      " Sensitivity: 0.889 \n",
      " Specificity: 0.714 \n"
     ]
    },
    {
     "name": "stderr",
     "output_type": "stream",
     "text": [
      "C:\\Users\\fd299212\\anaconda3\\lib\\site-packages\\sklearn\\metrics\\_classification.py:1248: UndefinedMetricWarning: Precision and F-score are ill-defined and being set to 0.0 in labels with no predicted samples. Use `zero_division` parameter to control this behavior.\n",
      "  _warn_prf(average, modifier, msg_start, len(result))\n",
      "C:\\Users\\fd299212\\anaconda3\\lib\\site-packages\\sklearn\\metrics\\_classification.py:1248: UndefinedMetricWarning: Precision and F-score are ill-defined and being set to 0.0 in labels with no predicted samples. Use `zero_division` parameter to control this behavior.\n",
      "  _warn_prf(average, modifier, msg_start, len(result))\n",
      "C:\\Users\\fd299212\\anaconda3\\lib\\site-packages\\sklearn\\metrics\\_classification.py:1248: UndefinedMetricWarning: Precision and F-score are ill-defined and being set to 0.0 in labels with no predicted samples. Use `zero_division` parameter to control this behavior.\n",
      "  _warn_prf(average, modifier, msg_start, len(result))\n"
     ]
    },
    {
     "name": "stdout",
     "output_type": "stream",
     "text": [
      "Run: 5\n",
      " Accuracy: 0.688 \n",
      " Sensitivity: 0.875 \n",
      " Specificity: 0.875 \n",
      "Run: 6\n",
      " Accuracy: 0.750 \n",
      " Sensitivity: 0.875 \n",
      " Specificity: 1.000 \n",
      "Run: 7\n",
      " Accuracy: 0.688 \n",
      " Sensitivity: 1.000 \n",
      " Specificity: 0.875 \n",
      "Run: 8\n",
      " Accuracy: 0.875 \n",
      " Sensitivity: 0.889 \n",
      " Specificity: 0.857 \n",
      "Run: 9\n",
      " Accuracy: 0.750 \n",
      " Sensitivity: 1.000 \n",
      " Specificity: 1.000 \n"
     ]
    },
    {
     "name": "stderr",
     "output_type": "stream",
     "text": [
      "C:\\Users\\fd299212\\anaconda3\\lib\\site-packages\\sklearn\\linear_model\\_sag.py:328: ConvergenceWarning: The max_iter was reached which means the coef_ did not converge\n",
      "  warnings.warn(\"The max_iter was reached which means \"\n"
     ]
    },
    {
     "name": "stdout",
     "output_type": "stream",
     "text": [
      "Run: 10\n",
      " Accuracy: 0.688 \n",
      " Sensitivity: 0.750 \n",
      " Specificity: 1.000 \n",
      "Run: 11\n",
      " Accuracy: 0.750 \n",
      " Sensitivity: 0.889 \n",
      " Specificity: 1.000 \n"
     ]
    },
    {
     "name": "stderr",
     "output_type": "stream",
     "text": [
      "C:\\Users\\fd299212\\anaconda3\\lib\\site-packages\\sklearn\\metrics\\_classification.py:1248: UndefinedMetricWarning: Precision and F-score are ill-defined and being set to 0.0 in labels with no predicted samples. Use `zero_division` parameter to control this behavior.\n",
      "  _warn_prf(average, modifier, msg_start, len(result))\n",
      "C:\\Users\\fd299212\\anaconda3\\lib\\site-packages\\sklearn\\metrics\\_classification.py:1248: UndefinedMetricWarning: Precision and F-score are ill-defined and being set to 0.0 in labels with no predicted samples. Use `zero_division` parameter to control this behavior.\n",
      "  _warn_prf(average, modifier, msg_start, len(result))\n",
      "C:\\Users\\fd299212\\anaconda3\\lib\\site-packages\\sklearn\\metrics\\_classification.py:1248: UndefinedMetricWarning: Precision and F-score are ill-defined and being set to 0.0 in labels with no predicted samples. Use `zero_division` parameter to control this behavior.\n",
      "  _warn_prf(average, modifier, msg_start, len(result))\n"
     ]
    },
    {
     "name": "stdout",
     "output_type": "stream",
     "text": [
      "Run: 12\n",
      " Accuracy: 0.688 \n",
      " Sensitivity: 0.875 \n",
      " Specificity: 1.000 \n",
      "Run: 13\n",
      " Accuracy: 0.625 \n",
      " Sensitivity: 0.625 \n",
      " Specificity: 0.875 \n",
      "Run: 14\n",
      " Accuracy: 0.750 \n",
      " Sensitivity: 0.778 \n",
      " Specificity: 1.000 \n"
     ]
    },
    {
     "name": "stderr",
     "output_type": "stream",
     "text": [
      "C:\\Users\\fd299212\\anaconda3\\lib\\site-packages\\sklearn\\metrics\\_classification.py:1248: UndefinedMetricWarning: Precision and F-score are ill-defined and being set to 0.0 in labels with no predicted samples. Use `zero_division` parameter to control this behavior.\n",
      "  _warn_prf(average, modifier, msg_start, len(result))\n",
      "C:\\Users\\fd299212\\anaconda3\\lib\\site-packages\\sklearn\\metrics\\_classification.py:1248: UndefinedMetricWarning: Precision and F-score are ill-defined and being set to 0.0 in labels with no predicted samples. Use `zero_division` parameter to control this behavior.\n",
      "  _warn_prf(average, modifier, msg_start, len(result))\n",
      "C:\\Users\\fd299212\\anaconda3\\lib\\site-packages\\sklearn\\metrics\\_classification.py:1248: UndefinedMetricWarning: Precision and F-score are ill-defined and being set to 0.0 in labels with no predicted samples. Use `zero_division` parameter to control this behavior.\n",
      "  _warn_prf(average, modifier, msg_start, len(result))\n"
     ]
    },
    {
     "name": "stdout",
     "output_type": "stream",
     "text": [
      "Run: 15\n",
      " Accuracy: 0.562 \n",
      " Sensitivity: 0.750 \n",
      " Specificity: 0.875 \n",
      "Run: 16\n",
      " Accuracy: 0.938 \n",
      " Sensitivity: 1.000 \n",
      " Specificity: 0.875 \n",
      "Run: 17\n",
      " Accuracy: 0.938 \n",
      " Sensitivity: 1.000 \n",
      " Specificity: 1.000 \n",
      "Run: 18\n",
      " Accuracy: 0.875 \n",
      " Sensitivity: 1.000 \n",
      " Specificity: 1.000 \n",
      "Run: 19\n",
      " Accuracy: 0.625 \n",
      " Sensitivity: 0.875 \n",
      " Specificity: 1.000 \n",
      "Run: 20\n",
      " Accuracy: 0.875 \n",
      " Sensitivity: 1.000 \n",
      " Specificity: 1.000 \n"
     ]
    },
    {
     "name": "stderr",
     "output_type": "stream",
     "text": [
      "C:\\Users\\fd299212\\anaconda3\\lib\\site-packages\\sklearn\\linear_model\\_sag.py:328: ConvergenceWarning: The max_iter was reached which means the coef_ did not converge\n",
      "  warnings.warn(\"The max_iter was reached which means \"\n"
     ]
    },
    {
     "name": "stdout",
     "output_type": "stream",
     "text": [
      "Run: 21\n",
      " Accuracy: 0.812 \n",
      " Sensitivity: 0.875 \n",
      " Specificity: 1.000 \n",
      "Run: 22\n",
      " Accuracy: 0.812 \n",
      " Sensitivity: 1.000 \n",
      " Specificity: 0.857 \n",
      "Run: 23\n",
      " Accuracy: 0.750 \n",
      " Sensitivity: 0.778 \n",
      " Specificity: 1.000 \n",
      "Run: 24\n",
      " Accuracy: 0.812 \n",
      " Sensitivity: 1.000 \n",
      " Specificity: 1.000 \n",
      "Run: 25\n",
      " Accuracy: 0.750 \n",
      " Sensitivity: 0.778 \n",
      " Specificity: 1.000 \n",
      "Run: 26\n",
      " Accuracy: 0.812 \n",
      " Sensitivity: 1.000 \n",
      " Specificity: 1.000 \n",
      "Run: 27\n",
      " Accuracy: 0.875 \n",
      " Sensitivity: 1.000 \n",
      " Specificity: 0.875 \n"
     ]
    },
    {
     "name": "stderr",
     "output_type": "stream",
     "text": [
      "C:\\Users\\fd299212\\anaconda3\\lib\\site-packages\\sklearn\\metrics\\_classification.py:1248: UndefinedMetricWarning: Precision and F-score are ill-defined and being set to 0.0 in labels with no predicted samples. Use `zero_division` parameter to control this behavior.\n",
      "  _warn_prf(average, modifier, msg_start, len(result))\n",
      "C:\\Users\\fd299212\\anaconda3\\lib\\site-packages\\sklearn\\metrics\\_classification.py:1248: UndefinedMetricWarning: Precision and F-score are ill-defined and being set to 0.0 in labels with no predicted samples. Use `zero_division` parameter to control this behavior.\n",
      "  _warn_prf(average, modifier, msg_start, len(result))\n",
      "C:\\Users\\fd299212\\anaconda3\\lib\\site-packages\\sklearn\\metrics\\_classification.py:1248: UndefinedMetricWarning: Precision and F-score are ill-defined and being set to 0.0 in labels with no predicted samples. Use `zero_division` parameter to control this behavior.\n",
      "  _warn_prf(average, modifier, msg_start, len(result))\n"
     ]
    },
    {
     "name": "stdout",
     "output_type": "stream",
     "text": [
      "Run: 28\n",
      " Accuracy: 0.562 \n",
      " Sensitivity: 0.778 \n",
      " Specificity: 1.000 \n",
      "Run: 29\n",
      " Accuracy: 0.688 \n",
      " Sensitivity: 0.875 \n",
      " Specificity: 1.000 \n",
      "Run: 30\n",
      " Accuracy: 0.688 \n",
      " Sensitivity: 0.778 \n",
      " Specificity: 0.857 \n"
     ]
    },
    {
     "name": "stderr",
     "output_type": "stream",
     "text": [
      "C:\\Users\\fd299212\\anaconda3\\lib\\site-packages\\sklearn\\linear_model\\_sag.py:328: ConvergenceWarning: The max_iter was reached which means the coef_ did not converge\n",
      "  warnings.warn(\"The max_iter was reached which means \"\n"
     ]
    },
    {
     "name": "stdout",
     "output_type": "stream",
     "text": [
      "Run: 31\n",
      " Accuracy: 0.562 \n",
      " Sensitivity: 0.625 \n",
      " Specificity: 0.875 \n",
      "Run: 32\n",
      " Accuracy: 0.812 \n",
      " Sensitivity: 0.889 \n",
      " Specificity: 0.857 \n"
     ]
    },
    {
     "name": "stderr",
     "output_type": "stream",
     "text": [
      "C:\\Users\\fd299212\\anaconda3\\lib\\site-packages\\sklearn\\metrics\\_classification.py:1248: UndefinedMetricWarning: Precision and F-score are ill-defined and being set to 0.0 in labels with no predicted samples. Use `zero_division` parameter to control this behavior.\n",
      "  _warn_prf(average, modifier, msg_start, len(result))\n",
      "C:\\Users\\fd299212\\anaconda3\\lib\\site-packages\\sklearn\\metrics\\_classification.py:1248: UndefinedMetricWarning: Precision and F-score are ill-defined and being set to 0.0 in labels with no predicted samples. Use `zero_division` parameter to control this behavior.\n",
      "  _warn_prf(average, modifier, msg_start, len(result))\n",
      "C:\\Users\\fd299212\\anaconda3\\lib\\site-packages\\sklearn\\metrics\\_classification.py:1248: UndefinedMetricWarning: Precision and F-score are ill-defined and being set to 0.0 in labels with no predicted samples. Use `zero_division` parameter to control this behavior.\n",
      "  _warn_prf(average, modifier, msg_start, len(result))\n"
     ]
    },
    {
     "name": "stdout",
     "output_type": "stream",
     "text": [
      "Run: 33\n",
      " Accuracy: 0.500 \n",
      " Sensitivity: 0.625 \n",
      " Specificity: 0.875 \n",
      "Run: 34\n",
      " Accuracy: 0.688 \n",
      " Sensitivity: 1.000 \n",
      " Specificity: 0.875 \n",
      "Run: 35\n",
      " Accuracy: 0.750 \n",
      " Sensitivity: 1.000 \n",
      " Specificity: 1.000 \n",
      "Run: 36\n",
      " Accuracy: 0.562 \n",
      " Sensitivity: 0.875 \n",
      " Specificity: 0.750 \n",
      "Run: 37\n",
      " Accuracy: 0.812 \n",
      " Sensitivity: 0.778 \n",
      " Specificity: 1.000 \n",
      "Run: 38\n",
      " Accuracy: 0.688 \n",
      " Sensitivity: 0.889 \n",
      " Specificity: 0.857 \n",
      "Run: 39\n",
      " Accuracy: 0.625 \n",
      " Sensitivity: 0.889 \n",
      " Specificity: 0.857 \n",
      "Run: 40\n",
      " Accuracy: 0.750 \n",
      " Sensitivity: 0.875 \n",
      " Specificity: 0.875 \n"
     ]
    },
    {
     "name": "stderr",
     "output_type": "stream",
     "text": [
      "C:\\Users\\fd299212\\anaconda3\\lib\\site-packages\\sklearn\\metrics\\_classification.py:1248: UndefinedMetricWarning: Precision and F-score are ill-defined and being set to 0.0 in labels with no predicted samples. Use `zero_division` parameter to control this behavior.\n",
      "  _warn_prf(average, modifier, msg_start, len(result))\n",
      "C:\\Users\\fd299212\\anaconda3\\lib\\site-packages\\sklearn\\metrics\\_classification.py:1248: UndefinedMetricWarning: Precision and F-score are ill-defined and being set to 0.0 in labels with no predicted samples. Use `zero_division` parameter to control this behavior.\n",
      "  _warn_prf(average, modifier, msg_start, len(result))\n",
      "C:\\Users\\fd299212\\anaconda3\\lib\\site-packages\\sklearn\\metrics\\_classification.py:1248: UndefinedMetricWarning: Precision and F-score are ill-defined and being set to 0.0 in labels with no predicted samples. Use `zero_division` parameter to control this behavior.\n",
      "  _warn_prf(average, modifier, msg_start, len(result))\n"
     ]
    },
    {
     "name": "stdout",
     "output_type": "stream",
     "text": [
      "Run: 41\n",
      " Accuracy: 0.625 \n",
      " Sensitivity: 0.875 \n",
      " Specificity: 1.000 \n"
     ]
    },
    {
     "name": "stderr",
     "output_type": "stream",
     "text": [
      "C:\\Users\\fd299212\\anaconda3\\lib\\site-packages\\sklearn\\linear_model\\_sag.py:328: ConvergenceWarning: The max_iter was reached which means the coef_ did not converge\n",
      "  warnings.warn(\"The max_iter was reached which means \"\n"
     ]
    },
    {
     "name": "stdout",
     "output_type": "stream",
     "text": [
      "Run: 42\n",
      " Accuracy: 0.688 \n",
      " Sensitivity: 0.889 \n",
      " Specificity: 1.000 \n",
      "Run: 43\n",
      " Accuracy: 0.750 \n",
      " Sensitivity: 0.625 \n",
      " Specificity: 0.875 \n",
      "Run: 44\n",
      " Accuracy: 0.750 \n",
      " Sensitivity: 0.778 \n",
      " Specificity: 1.000 \n",
      "Run: 45\n",
      " Accuracy: 0.750 \n",
      " Sensitivity: 1.000 \n",
      " Specificity: 1.000 \n",
      "Run: 46\n",
      " Accuracy: 0.688 \n",
      " Sensitivity: 0.750 \n",
      " Specificity: 0.875 \n",
      "Run: 47\n",
      " Accuracy: 0.750 \n",
      " Sensitivity: 0.889 \n",
      " Specificity: 0.857 \n",
      "Run: 48\n",
      " Accuracy: 0.812 \n",
      " Sensitivity: 0.875 \n",
      " Specificity: 0.875 \n",
      "Run: 49\n",
      " Accuracy: 0.750 \n",
      " Sensitivity: 0.875 \n",
      " Specificity: 1.000 \n",
      "Run: 50\n",
      " Accuracy: 0.750 \n",
      " Sensitivity: 0.875 \n",
      " Specificity: 0.875 \n",
      "Run: 51\n",
      " Accuracy: 0.812 \n",
      " Sensitivity: 1.000 \n",
      " Specificity: 1.000 \n",
      "Run: 52\n",
      " Accuracy: 0.812 \n",
      " Sensitivity: 0.889 \n",
      " Specificity: 1.000 \n",
      "Run: 53\n",
      " Accuracy: 0.750 \n",
      " Sensitivity: 1.000 \n",
      " Specificity: 0.875 \n",
      "Run: 54\n",
      " Accuracy: 0.812 \n",
      " Sensitivity: 1.000 \n",
      " Specificity: 1.000 \n",
      "Run: 55\n",
      " Accuracy: 0.812 \n",
      " Sensitivity: 0.889 \n",
      " Specificity: 1.000 \n",
      "Run: 56\n",
      " Accuracy: 0.688 \n",
      " Sensitivity: 0.889 \n",
      " Specificity: 0.857 \n",
      "Run: 57\n",
      " Accuracy: 0.688 \n",
      " Sensitivity: 0.750 \n",
      " Specificity: 0.875 \n",
      "Run: 58\n",
      " Accuracy: 0.750 \n",
      " Sensitivity: 1.000 \n",
      " Specificity: 0.857 \n",
      "Run: 59\n",
      " Accuracy: 0.750 \n",
      " Sensitivity: 0.778 \n",
      " Specificity: 1.000 \n"
     ]
    },
    {
     "name": "stderr",
     "output_type": "stream",
     "text": [
      "C:\\Users\\fd299212\\anaconda3\\lib\\site-packages\\sklearn\\linear_model\\_sag.py:328: ConvergenceWarning: The max_iter was reached which means the coef_ did not converge\n",
      "  warnings.warn(\"The max_iter was reached which means \"\n"
     ]
    },
    {
     "name": "stdout",
     "output_type": "stream",
     "text": [
      "Run: 60\n",
      " Accuracy: 0.688 \n",
      " Sensitivity: 0.750 \n",
      " Specificity: 0.875 \n"
     ]
    },
    {
     "name": "stderr",
     "output_type": "stream",
     "text": [
      "C:\\Users\\fd299212\\anaconda3\\lib\\site-packages\\sklearn\\metrics\\_classification.py:1248: UndefinedMetricWarning: Precision and F-score are ill-defined and being set to 0.0 in labels with no predicted samples. Use `zero_division` parameter to control this behavior.\n",
      "  _warn_prf(average, modifier, msg_start, len(result))\n",
      "C:\\Users\\fd299212\\anaconda3\\lib\\site-packages\\sklearn\\metrics\\_classification.py:1248: UndefinedMetricWarning: Precision and F-score are ill-defined and being set to 0.0 in labels with no predicted samples. Use `zero_division` parameter to control this behavior.\n",
      "  _warn_prf(average, modifier, msg_start, len(result))\n",
      "C:\\Users\\fd299212\\anaconda3\\lib\\site-packages\\sklearn\\metrics\\_classification.py:1248: UndefinedMetricWarning: Precision and F-score are ill-defined and being set to 0.0 in labels with no predicted samples. Use `zero_division` parameter to control this behavior.\n",
      "  _warn_prf(average, modifier, msg_start, len(result))\n"
     ]
    },
    {
     "name": "stdout",
     "output_type": "stream",
     "text": [
      "Run: 61\n",
      " Accuracy: 0.688 \n",
      " Sensitivity: 0.750 \n",
      " Specificity: 1.000 \n",
      "Run: 62\n",
      " Accuracy: 0.750 \n",
      " Sensitivity: 1.000 \n",
      " Specificity: 1.000 \n"
     ]
    },
    {
     "name": "stderr",
     "output_type": "stream",
     "text": [
      "C:\\Users\\fd299212\\anaconda3\\lib\\site-packages\\sklearn\\linear_model\\_sag.py:328: ConvergenceWarning: The max_iter was reached which means the coef_ did not converge\n",
      "  warnings.warn(\"The max_iter was reached which means \"\n"
     ]
    },
    {
     "name": "stdout",
     "output_type": "stream",
     "text": [
      "Run: 63\n",
      " Accuracy: 0.562 \n",
      " Sensitivity: 0.556 \n",
      " Specificity: 1.000 \n",
      "Run: 64\n",
      " Accuracy: 0.875 \n",
      " Sensitivity: 1.000 \n",
      " Specificity: 1.000 \n",
      "Run: 65\n",
      " Accuracy: 0.688 \n",
      " Sensitivity: 1.000 \n",
      " Specificity: 0.857 \n",
      "Run: 66\n",
      " Accuracy: 0.625 \n",
      " Sensitivity: 0.625 \n",
      " Specificity: 0.875 \n"
     ]
    },
    {
     "name": "stderr",
     "output_type": "stream",
     "text": [
      "C:\\Users\\fd299212\\anaconda3\\lib\\site-packages\\sklearn\\linear_model\\_sag.py:328: ConvergenceWarning: The max_iter was reached which means the coef_ did not converge\n",
      "  warnings.warn(\"The max_iter was reached which means \"\n"
     ]
    },
    {
     "name": "stdout",
     "output_type": "stream",
     "text": [
      "Run: 67\n",
      " Accuracy: 0.688 \n",
      " Sensitivity: 0.750 \n",
      " Specificity: 1.000 \n",
      "Run: 68\n",
      " Accuracy: 0.625 \n",
      " Sensitivity: 0.778 \n",
      " Specificity: 1.000 \n",
      "Run: 69\n",
      " Accuracy: 0.688 \n",
      " Sensitivity: 0.875 \n",
      " Specificity: 0.875 \n",
      "Run: 70\n",
      " Accuracy: 0.750 \n",
      " Sensitivity: 0.889 \n",
      " Specificity: 1.000 \n",
      "Run: 71\n",
      " Accuracy: 0.688 \n",
      " Sensitivity: 0.778 \n",
      " Specificity: 1.000 \n",
      "Run: 72\n",
      " Accuracy: 0.812 \n",
      " Sensitivity: 1.000 \n",
      " Specificity: 0.875 \n",
      "Run: 73\n",
      " Accuracy: 0.875 \n",
      " Sensitivity: 0.875 \n",
      " Specificity: 0.875 \n",
      "Run: 74\n",
      " Accuracy: 0.875 \n",
      " Sensitivity: 0.778 \n",
      " Specificity: 1.000 \n",
      "Run: 75\n",
      " Accuracy: 0.562 \n",
      " Sensitivity: 0.667 \n",
      " Specificity: 0.857 \n",
      "Run: 76\n",
      " Accuracy: 0.688 \n",
      " Sensitivity: 1.000 \n",
      " Specificity: 0.875 \n"
     ]
    },
    {
     "name": "stderr",
     "output_type": "stream",
     "text": [
      "C:\\Users\\fd299212\\anaconda3\\lib\\site-packages\\sklearn\\metrics\\_classification.py:1248: UndefinedMetricWarning: Precision and F-score are ill-defined and being set to 0.0 in labels with no predicted samples. Use `zero_division` parameter to control this behavior.\n",
      "  _warn_prf(average, modifier, msg_start, len(result))\n",
      "C:\\Users\\fd299212\\anaconda3\\lib\\site-packages\\sklearn\\metrics\\_classification.py:1248: UndefinedMetricWarning: Precision and F-score are ill-defined and being set to 0.0 in labels with no predicted samples. Use `zero_division` parameter to control this behavior.\n",
      "  _warn_prf(average, modifier, msg_start, len(result))\n",
      "C:\\Users\\fd299212\\anaconda3\\lib\\site-packages\\sklearn\\metrics\\_classification.py:1248: UndefinedMetricWarning: Precision and F-score are ill-defined and being set to 0.0 in labels with no predicted samples. Use `zero_division` parameter to control this behavior.\n",
      "  _warn_prf(average, modifier, msg_start, len(result))\n"
     ]
    },
    {
     "name": "stdout",
     "output_type": "stream",
     "text": [
      "Run: 77\n",
      " Accuracy: 0.688 \n",
      " Sensitivity: 0.500 \n",
      " Specificity: 1.000 \n",
      "Run: 78\n",
      " Accuracy: 0.625 \n",
      " Sensitivity: 0.889 \n",
      " Specificity: 0.857 \n",
      "Run: 79\n",
      " Accuracy: 0.812 \n",
      " Sensitivity: 0.889 \n",
      " Specificity: 1.000 \n",
      "Run: 80\n",
      " Accuracy: 0.750 \n",
      " Sensitivity: 1.000 \n",
      " Specificity: 0.857 \n"
     ]
    },
    {
     "name": "stderr",
     "output_type": "stream",
     "text": [
      "C:\\Users\\fd299212\\anaconda3\\lib\\site-packages\\sklearn\\metrics\\_classification.py:1248: UndefinedMetricWarning: Precision and F-score are ill-defined and being set to 0.0 in labels with no predicted samples. Use `zero_division` parameter to control this behavior.\n",
      "  _warn_prf(average, modifier, msg_start, len(result))\n",
      "C:\\Users\\fd299212\\anaconda3\\lib\\site-packages\\sklearn\\metrics\\_classification.py:1248: UndefinedMetricWarning: Precision and F-score are ill-defined and being set to 0.0 in labels with no predicted samples. Use `zero_division` parameter to control this behavior.\n",
      "  _warn_prf(average, modifier, msg_start, len(result))\n",
      "C:\\Users\\fd299212\\anaconda3\\lib\\site-packages\\sklearn\\metrics\\_classification.py:1248: UndefinedMetricWarning: Precision and F-score are ill-defined and being set to 0.0 in labels with no predicted samples. Use `zero_division` parameter to control this behavior.\n",
      "  _warn_prf(average, modifier, msg_start, len(result))\n"
     ]
    },
    {
     "name": "stdout",
     "output_type": "stream",
     "text": [
      "Run: 81\n",
      " Accuracy: 0.750 \n",
      " Sensitivity: 0.889 \n",
      " Specificity: 1.000 \n",
      "Run: 82\n",
      " Accuracy: 0.750 \n",
      " Sensitivity: 1.000 \n",
      " Specificity: 0.875 \n",
      "Run: 83\n",
      " Accuracy: 0.688 \n",
      " Sensitivity: 1.000 \n",
      " Specificity: 0.875 \n",
      "Run: 84\n",
      " Accuracy: 0.688 \n",
      " Sensitivity: 0.667 \n",
      " Specificity: 1.000 \n",
      "Run: 85\n",
      " Accuracy: 0.562 \n",
      " Sensitivity: 0.667 \n",
      " Specificity: 0.857 \n",
      "Run: 86\n",
      " Accuracy: 0.750 \n",
      " Sensitivity: 0.625 \n",
      " Specificity: 1.000 \n",
      "Run: 87\n",
      " Accuracy: 0.812 \n",
      " Sensitivity: 1.000 \n",
      " Specificity: 1.000 \n",
      "Run: 88\n",
      " Accuracy: 0.688 \n",
      " Sensitivity: 0.667 \n",
      " Specificity: 1.000 \n"
     ]
    },
    {
     "name": "stderr",
     "output_type": "stream",
     "text": [
      "C:\\Users\\fd299212\\anaconda3\\lib\\site-packages\\sklearn\\linear_model\\_sag.py:328: ConvergenceWarning: The max_iter was reached which means the coef_ did not converge\n",
      "  warnings.warn(\"The max_iter was reached which means \"\n"
     ]
    },
    {
     "name": "stdout",
     "output_type": "stream",
     "text": [
      "Run: 89\n",
      " Accuracy: 0.812 \n",
      " Sensitivity: 1.000 \n",
      " Specificity: 0.875 \n",
      "Run: 90\n",
      " Accuracy: 0.812 \n",
      " Sensitivity: 0.875 \n",
      " Specificity: 1.000 \n",
      "Run: 91\n",
      " Accuracy: 0.938 \n",
      " Sensitivity: 1.000 \n",
      " Specificity: 1.000 \n",
      "Run: 92\n",
      " Accuracy: 0.625 \n",
      " Sensitivity: 0.778 \n",
      " Specificity: 1.000 \n"
     ]
    },
    {
     "name": "stderr",
     "output_type": "stream",
     "text": [
      "C:\\Users\\fd299212\\anaconda3\\lib\\site-packages\\sklearn\\metrics\\_classification.py:1248: UndefinedMetricWarning: Precision and F-score are ill-defined and being set to 0.0 in labels with no predicted samples. Use `zero_division` parameter to control this behavior.\n",
      "  _warn_prf(average, modifier, msg_start, len(result))\n",
      "C:\\Users\\fd299212\\anaconda3\\lib\\site-packages\\sklearn\\metrics\\_classification.py:1248: UndefinedMetricWarning: Precision and F-score are ill-defined and being set to 0.0 in labels with no predicted samples. Use `zero_division` parameter to control this behavior.\n",
      "  _warn_prf(average, modifier, msg_start, len(result))\n",
      "C:\\Users\\fd299212\\anaconda3\\lib\\site-packages\\sklearn\\metrics\\_classification.py:1248: UndefinedMetricWarning: Precision and F-score are ill-defined and being set to 0.0 in labels with no predicted samples. Use `zero_division` parameter to control this behavior.\n",
      "  _warn_prf(average, modifier, msg_start, len(result))\n"
     ]
    },
    {
     "name": "stdout",
     "output_type": "stream",
     "text": [
      "Run: 93\n",
      " Accuracy: 0.688 \n",
      " Sensitivity: 0.625 \n",
      " Specificity: 1.000 \n",
      "Run: 94\n",
      " Accuracy: 0.750 \n",
      " Sensitivity: 0.778 \n",
      " Specificity: 1.000 \n",
      "Run: 95\n",
      " Accuracy: 0.750 \n",
      " Sensitivity: 0.750 \n",
      " Specificity: 0.875 \n",
      "Run: 96\n",
      " Accuracy: 0.875 \n",
      " Sensitivity: 0.875 \n",
      " Specificity: 1.000 \n",
      "Run: 97\n",
      " Accuracy: 0.812 \n",
      " Sensitivity: 0.875 \n",
      " Specificity: 1.000 \n"
     ]
    },
    {
     "name": "stderr",
     "output_type": "stream",
     "text": [
      "C:\\Users\\fd299212\\anaconda3\\lib\\site-packages\\sklearn\\linear_model\\_sag.py:328: ConvergenceWarning: The max_iter was reached which means the coef_ did not converge\n",
      "  warnings.warn(\"The max_iter was reached which means \"\n"
     ]
    },
    {
     "name": "stdout",
     "output_type": "stream",
     "text": [
      "Run: 98\n",
      " Accuracy: 0.750 \n",
      " Sensitivity: 0.875 \n",
      " Specificity: 1.000 \n",
      "Run: 99\n",
      " Accuracy: 0.750 \n",
      " Sensitivity: 0.889 \n",
      " Specificity: 1.000 \n",
      "Run: 100\n",
      " Accuracy: 0.688 \n",
      " Sensitivity: 0.625 \n",
      " Specificity: 0.875 \n",
      "\n",
      "Average Results:\n",
      "Average Accuracy: 0.736 \n",
      "Average Sensitivity: 0.853 \n",
      "Average Specificity: 0.941 \n"
     ]
    }
   ],
   "source": [
    "from sklearn import metrics \n",
    "accuracy_sum = 0\n",
    "sensitivity_sum = 0\n",
    "specificity_sum = 0\n",
    "count = 100\n",
    "classes=['Negative','PosEarlyAcute','PosEarlyConv','PosLate']\n",
    "new_model = LogisticRegression(multi_class='multinomial', penalty=model.penalty, C=model.C, solver=model.solver, max_iter=model.max_iter)\n",
    "for n in range(1, count+1):\n",
    "    X_tr, X_te, y_tr, y_te = train_test_split(X, y, test_size = 0.25, stratify=y)   \n",
    "    new_model.fit(X_tr, y_tr)\n",
    "    yh = new_model.predict(X_te)\n",
    "    cr = classification_report(y_te, yh, output_dict=True)\n",
    "    cnf_matrix = confusion_matrix(y_te, yh)\n",
    "    yps = new_model.predict_proba(X_te)\n",
    "    \n",
    "    curr_accuracy = metrics.accuracy_score(y_te,yh)\n",
    "    #the code below derives TP/FP/TN/FN values from the multiclass confusion matrix by ignoring \n",
    "    #misclassification of positive subclasses   \n",
    "    curr_false_pos = cnf_matrix.sum(axis=1)[0]-cnf_matrix[0][0]\n",
    "    curr_false_neg = cnf_matrix.sum(axis=0)[0]-cnf_matrix[0][0]\n",
    "    curr_true_neg = cnf_matrix[0][0]\n",
    "    curr_true_pos = cnf_matrix.sum()-(curr_false_pos+curr_false_neg+curr_true_neg)    \n",
    "        \n",
    "    curr_sensitivity = curr_true_pos/(curr_true_pos+curr_false_neg)\n",
    "    \n",
    "    curr_specificity = cr[\"Neg\"][\"recall\"]\n",
    "    print(\"Run: %d\" % (n))\n",
    "    print(' Accuracy: %.3f ' % (curr_accuracy))\n",
    "    print(' Sensitivity: %.3f ' % (curr_sensitivity))\n",
    "    print(' Specificity: %.3f ' % (curr_specificity))\n",
    "    \n",
    "    #rows = y_te.index\n",
    "    #format_probabilities(yps , classes, rows)\n",
    "    \n",
    "    sensitivity_sum = sensitivity_sum + curr_sensitivity\n",
    "    specificity_sum = specificity_sum + curr_specificity\n",
    "    accuracy_sum = accuracy_sum + curr_accuracy\n",
    "    \n",
    "\n",
    "average_accuracy = accuracy_sum/count\n",
    "average_sensitivity = sensitivity_sum/count\n",
    "average_specificity = specificity_sum/count\n",
    "print('')\n",
    "print('Average Results:')\n",
    "print('Average Accuracy: %.3f ' % (average_accuracy))\n",
    "print('Average Sensitivity: %.3f ' % (average_sensitivity))\n",
    "print('Average Specificity: %.3f ' % (average_specificity))"
   ]
  },
  {
   "cell_type": "code",
   "execution_count": null,
   "id": "cef094dd",
   "metadata": {},
   "outputs": [],
   "source": []
  }
 ],
 "metadata": {
  "kernelspec": {
   "display_name": "Python 3 (ipykernel)",
   "language": "python",
   "name": "python3"
  },
  "language_info": {
   "codemirror_mode": {
    "name": "ipython",
    "version": 3
   },
   "file_extension": ".py",
   "mimetype": "text/x-python",
   "name": "python",
   "nbconvert_exporter": "python",
   "pygments_lexer": "ipython3",
   "version": "3.9.7"
  }
 },
 "nbformat": 4,
 "nbformat_minor": 5
}
